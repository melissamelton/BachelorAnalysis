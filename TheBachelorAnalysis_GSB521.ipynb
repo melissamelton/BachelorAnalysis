{
  "nbformat": 4,
  "nbformat_minor": 0,
  "metadata": {
    "colab": {
      "provenance": [],
      "include_colab_link": true
    },
    "kernelspec": {
      "name": "python3",
      "display_name": "Python 3"
    },
    "language_info": {
      "name": "python"
    }
  },
  "cells": [
    {
      "cell_type": "markdown",
      "metadata": {
        "id": "view-in-github",
        "colab_type": "text"
      },
      "source": [
        "<a href=\"https://colab.research.google.com/github/melissamelton/BachelorAnalysis/blob/main/TheBachelorAnalysis_GSB521.ipynb\" target=\"_parent\"><img src=\"https://colab.research.google.com/assets/colab-badge.svg\" alt=\"Open In Colab\"/></a>"
      ]
    },
    {
      "cell_type": "markdown",
      "source": [
        "# **The Bachelor Analysis- *Which Demographic Variables Play a Role in Contestant Success Likelihood***\n",
        "\n",
        "\n",
        "*By Melissa Melton (mnmelton@calpoly.edu) & Annika Bertelsen (abertels@calpoly.edu)*\n",
        "\n",
        "February 22, 2023"
      ],
      "metadata": {
        "id": "q97pA2K3mY40"
      }
    },
    {
      "cell_type": "markdown",
      "source": [
        "**Brief Background**: A single bachelor (or bachelorette) dates a group of approximately 30 women (or men) over several weeks, narrowing the group of contestants down week by week after a series of one-on-one or group dates to hopefully find true love."
      ],
      "metadata": {
        "id": "8eE28CnaoYk0"
      }
    },
    {
      "cell_type": "markdown",
      "source": [
        "Our goal of this Bachelor and Bachelorette themed data analysis is to gather historical data of all participating contestants from past seasons, to be able to identify any trends within contestant demographics.\n",
        "Focusing on the Winner of each season, as well as contestants who made it to the Top Four, we will utilize demographics of age, occupation, and home state to examine how much each variable contributes to contestants' success likelihood."
      ],
      "metadata": {
        "id": "xjIEKAmPmsUr"
      }
    },
    {
      "cell_type": "markdown",
      "source": [
        "**Hypothesis:** One of our driving questions was which variables, if any, from contestant demographics will be the most important in determining how far the contestant makes it to the end? Here, we hypothesize that Age will be the most significant predictor for the Bachelor, while Occupation will be the most significant for the Bachelorette. This hypothesis is rooted in sterotypes that men may tend to go for the younger woman while women may put high value on suitors' occupations. We don't believe State will play a big role in who a season's lead chooses, but we predict most contestants and winners will be from CA and FL."
      ],
      "metadata": {
        "id": "W0rnqStcp57m"
      }
    },
    {
      "cell_type": "code",
      "execution_count": 1,
      "metadata": {
        "id": "kdMFQi65MbCU"
      },
      "outputs": [],
      "source": [
        "import pandas as pd\n",
        "import requests\n",
        "import numpy as np\n",
        "from bs4 import BeautifulSoup\n",
        "import matplotlib.pyplot as plt\n",
        "import matplotlib.image as  image\n",
        "import seaborn as sns"
      ]
    },
    {
      "cell_type": "markdown",
      "source": [
        "# The Bachelor Data Gathering & Cleaning"
      ],
      "metadata": {
        "id": "OowWTRUtowuP"
      }
    },
    {
      "cell_type": "markdown",
      "source": [
        "We will start by gathering data on contestants from the Bachelor."
      ],
      "metadata": {
        "id": "-bFDE_6XZtOq"
      }
    },
    {
      "cell_type": "markdown",
      "source": [
        "## Scraping"
      ],
      "metadata": {
        "id": "lvy0P2uvW1OR"
      }
    },
    {
      "cell_type": "markdown",
      "source": [
        "Obtain a list of the seasons we can scrape data from on Wikipedia:"
      ],
      "metadata": {
        "id": "uufMShKpQAJe"
      }
    },
    {
      "cell_type": "code",
      "source": [
        "# The Bachelor has had 26 seasons so far (27 is currently airing so it will not be included)\n",
        "seasons = np.arange(1, 27, 1)\n",
        "# seasons 3, 4, and 6-8 do not have contestant data on Wikipedia\n",
        "missing_table = {3, 4, 6, 7, 8}\n",
        "# obtain list of season numbers which have contestant data on their wiki page\n",
        "seasons = [x for x in seasons if x not in missing_table]"
      ],
      "metadata": {
        "id": "MR8Cvhw2Oglh"
      },
      "execution_count": 2,
      "outputs": []
    },
    {
      "cell_type": "markdown",
      "source": [
        "We will now use the BeautifulSoup library to scrape data about contestants from Wikipedia."
      ],
      "metadata": {
        "id": "7fhBvdVWQF7g"
      }
    },
    {
      "cell_type": "code",
      "source": [
        "contestants_df = pd.DataFrame()\n",
        "urlstart = \"https://en.wikipedia.org/wiki/The_Bachelor_(American_season_\"\n",
        "\n",
        "def seasons_scrape(seasons, contestants_df, urlstart):\n",
        "  # loop through seasons\n",
        "  for i in range(0, len(seasons)):\n",
        "    # write the url for specific season\n",
        "    wikiurl = urlstart + str(seasons[i]) + \")\"\n",
        "    table_class = \"wikitable sortable jquery-tablesorter\"\n",
        "    response = requests.get(wikiurl)\n",
        "    # parse data from html\n",
        "    soup = BeautifulSoup(response.text, 'html.parser')\n",
        "    contestant_table = soup.find('table', {'class':\"wikitable\"})\n",
        "    df = pd.read_html(str(contestant_table))\n",
        "    # convert list to dataframe\n",
        "    df = pd.DataFrame(df[0])\n",
        "    # add column for the season (value the same for all rows from that season)\n",
        "    df['Season'] = seasons[i]\n",
        "    # seasons 1 and 2 have a different label for the Outcome and Occupation columns\n",
        "    if 'Eliminated' in df.columns and 'Job' in df.columns:\n",
        "      df.rename(columns = {'Eliminated': 'Outcome',\n",
        "                           'Job': 'Occupation'}, inplace = True)\n",
        "    # keep only desired columns\n",
        "    df = df[['Season', 'Name', 'Age', 'Hometown', 'Occupation', 'Outcome']]\n",
        "    contestants_df = contestants_df.append(df, ignore_index = True)\n",
        "  return contestants_df\n"
      ],
      "metadata": {
        "id": "gkwTqnsZRW2S"
      },
      "execution_count": 3,
      "outputs": []
    },
    {
      "cell_type": "code",
      "source": [
        "contestants_df = seasons_scrape(seasons, contestants_df, urlstart)"
      ],
      "metadata": {
        "id": "Qb55kE9fUoBI"
      },
      "execution_count": 4,
      "outputs": []
    },
    {
      "cell_type": "markdown",
      "source": [
        "Unfortunately, full contestant data cannot be found online for seasons 3, 4, 6, 7, and 8 (even the Bachelor Nation fandom Wiki does not have it). So, our resulting dataframe only represents 21 of the 26 full seasons."
      ],
      "metadata": {
        "id": "FAEIO0jRpRM0"
      }
    },
    {
      "cell_type": "markdown",
      "source": [
        "## Cleaning"
      ],
      "metadata": {
        "id": "_uXBBz9VW3z7"
      }
    },
    {
      "cell_type": "markdown",
      "source": [
        "Perform clean-up on the contestants_df dataframe."
      ],
      "metadata": {
        "id": "WA6q-F-8YKyF"
      }
    },
    {
      "cell_type": "code",
      "source": [
        "# sometimes contestants will leave one week then return a later week. Remove the\n",
        "# rows from the table which reference them leaving (the info we care about is stored\n",
        "# in another row, including their final placement)\n",
        "contestants_df[contestants_df['Age'] == \"(Returned to competition)\"]\n",
        "\n",
        "# remove these rows -- the data for these contestants is still in the table, just a different row\n",
        "contestants_df = contestants_df[contestants_df['Age'] != \"(Returned to competition)\"]"
      ],
      "metadata": {
        "id": "RYqlqXvWhZ2c"
      },
      "execution_count": 5,
      "outputs": []
    },
    {
      "cell_type": "code",
      "source": [
        "# some contestants' names had hyperlinks. Remove the references attached\n",
        "contestants_df['Name'] = contestants_df['Name'].apply(lambda x: x.split('[')[0]\n",
        "                                                      if '[' in x else x)\n",
        "# separate town and state into their own columns\n",
        "contestants_df[['Town', 'State']] = contestants_df.Hometown.str.split(',', expand = True)\n",
        "# make sure age is numeric\n",
        "contestants_df['Age'] = pd.to_numeric(contestants_df['Age'])\n",
        "\n",
        "# keep desired columns\n",
        "cols = ['Season', 'Name', 'Age', 'Town', 'State', 'Occupation', 'Outcome']\n",
        "contestants_df = contestants_df[cols]"
      ],
      "metadata": {
        "id": "jB5GgA8ohX_U"
      },
      "execution_count": 6,
      "outputs": []
    },
    {
      "cell_type": "code",
      "source": [
        "contestants_df"
      ],
      "metadata": {
        "colab": {
          "base_uri": "https://localhost:8080/",
          "height": 423
        },
        "id": "wa2-Huk0oboM",
        "outputId": "c2bf7c07-7056-420d-e8d5-ce22244ebb1a"
      },
      "execution_count": 7,
      "outputs": [
        {
          "output_type": "execute_result",
          "data": {
            "text/plain": [
              "     Season               Name   Age            Town        State  \\\n",
              "0         1       Amanda Marsh  23.0         Chanute       Kansas   \n",
              "1         1        Trista Rehn  29.0       St. Louis     Missouri   \n",
              "2         1     Shannon Oliver  24.0          Dallas        Texas   \n",
              "3         1                Kim  24.0           Tempe      Arizona   \n",
              "4         1       Cathy Grimes  22.0     Terre Haute      Indiana   \n",
              "..      ...                ...   ...             ...          ...   \n",
              "578      26          Jane Paik  33.0    Santa Monica   California   \n",
              "579      26      Lindsay Dobbs  27.0   Warner Robins      Georgia   \n",
              "580      26    Rianna Hockaday  26.0  Mount Pleasant        Texas   \n",
              "581      26  Samantha Jeffries  26.0          Dayton         Ohio   \n",
              "582      26      Claire Heilig  28.0  Virginia Beach     Virginia   \n",
              "\n",
              "                          Occupation    Outcome  \n",
              "0                      Event Planner     Winner  \n",
              "1                  Miami Heat Dancer  Runner-up  \n",
              "2    Financial Management Consultant     Week 5  \n",
              "3                              Nanny     Week 4  \n",
              "4                   Graduate Student     Week 3  \n",
              "..                               ...        ...  \n",
              "578            Social Media Director     Week 1  \n",
              "579                   Neonatal Nurse     Week 1  \n",
              "580                 Registered Nurse     Week 1  \n",
              "581           Occupational Therapist     Week 1  \n",
              "582                     Spray Tanner     Week 1  \n",
              "\n",
              "[579 rows x 7 columns]"
            ],
            "text/html": [
              "\n",
              "  <div id=\"df-91677cfe-7d40-41ef-bc19-7a980be8a5a6\">\n",
              "    <div class=\"colab-df-container\">\n",
              "      <div>\n",
              "<style scoped>\n",
              "    .dataframe tbody tr th:only-of-type {\n",
              "        vertical-align: middle;\n",
              "    }\n",
              "\n",
              "    .dataframe tbody tr th {\n",
              "        vertical-align: top;\n",
              "    }\n",
              "\n",
              "    .dataframe thead th {\n",
              "        text-align: right;\n",
              "    }\n",
              "</style>\n",
              "<table border=\"1\" class=\"dataframe\">\n",
              "  <thead>\n",
              "    <tr style=\"text-align: right;\">\n",
              "      <th></th>\n",
              "      <th>Season</th>\n",
              "      <th>Name</th>\n",
              "      <th>Age</th>\n",
              "      <th>Town</th>\n",
              "      <th>State</th>\n",
              "      <th>Occupation</th>\n",
              "      <th>Outcome</th>\n",
              "    </tr>\n",
              "  </thead>\n",
              "  <tbody>\n",
              "    <tr>\n",
              "      <th>0</th>\n",
              "      <td>1</td>\n",
              "      <td>Amanda Marsh</td>\n",
              "      <td>23.0</td>\n",
              "      <td>Chanute</td>\n",
              "      <td>Kansas</td>\n",
              "      <td>Event Planner</td>\n",
              "      <td>Winner</td>\n",
              "    </tr>\n",
              "    <tr>\n",
              "      <th>1</th>\n",
              "      <td>1</td>\n",
              "      <td>Trista Rehn</td>\n",
              "      <td>29.0</td>\n",
              "      <td>St. Louis</td>\n",
              "      <td>Missouri</td>\n",
              "      <td>Miami Heat Dancer</td>\n",
              "      <td>Runner-up</td>\n",
              "    </tr>\n",
              "    <tr>\n",
              "      <th>2</th>\n",
              "      <td>1</td>\n",
              "      <td>Shannon Oliver</td>\n",
              "      <td>24.0</td>\n",
              "      <td>Dallas</td>\n",
              "      <td>Texas</td>\n",
              "      <td>Financial Management Consultant</td>\n",
              "      <td>Week 5</td>\n",
              "    </tr>\n",
              "    <tr>\n",
              "      <th>3</th>\n",
              "      <td>1</td>\n",
              "      <td>Kim</td>\n",
              "      <td>24.0</td>\n",
              "      <td>Tempe</td>\n",
              "      <td>Arizona</td>\n",
              "      <td>Nanny</td>\n",
              "      <td>Week 4</td>\n",
              "    </tr>\n",
              "    <tr>\n",
              "      <th>4</th>\n",
              "      <td>1</td>\n",
              "      <td>Cathy Grimes</td>\n",
              "      <td>22.0</td>\n",
              "      <td>Terre Haute</td>\n",
              "      <td>Indiana</td>\n",
              "      <td>Graduate Student</td>\n",
              "      <td>Week 3</td>\n",
              "    </tr>\n",
              "    <tr>\n",
              "      <th>...</th>\n",
              "      <td>...</td>\n",
              "      <td>...</td>\n",
              "      <td>...</td>\n",
              "      <td>...</td>\n",
              "      <td>...</td>\n",
              "      <td>...</td>\n",
              "      <td>...</td>\n",
              "    </tr>\n",
              "    <tr>\n",
              "      <th>578</th>\n",
              "      <td>26</td>\n",
              "      <td>Jane Paik</td>\n",
              "      <td>33.0</td>\n",
              "      <td>Santa Monica</td>\n",
              "      <td>California</td>\n",
              "      <td>Social Media Director</td>\n",
              "      <td>Week 1</td>\n",
              "    </tr>\n",
              "    <tr>\n",
              "      <th>579</th>\n",
              "      <td>26</td>\n",
              "      <td>Lindsay Dobbs</td>\n",
              "      <td>27.0</td>\n",
              "      <td>Warner Robins</td>\n",
              "      <td>Georgia</td>\n",
              "      <td>Neonatal Nurse</td>\n",
              "      <td>Week 1</td>\n",
              "    </tr>\n",
              "    <tr>\n",
              "      <th>580</th>\n",
              "      <td>26</td>\n",
              "      <td>Rianna Hockaday</td>\n",
              "      <td>26.0</td>\n",
              "      <td>Mount Pleasant</td>\n",
              "      <td>Texas</td>\n",
              "      <td>Registered Nurse</td>\n",
              "      <td>Week 1</td>\n",
              "    </tr>\n",
              "    <tr>\n",
              "      <th>581</th>\n",
              "      <td>26</td>\n",
              "      <td>Samantha Jeffries</td>\n",
              "      <td>26.0</td>\n",
              "      <td>Dayton</td>\n",
              "      <td>Ohio</td>\n",
              "      <td>Occupational Therapist</td>\n",
              "      <td>Week 1</td>\n",
              "    </tr>\n",
              "    <tr>\n",
              "      <th>582</th>\n",
              "      <td>26</td>\n",
              "      <td>Claire Heilig</td>\n",
              "      <td>28.0</td>\n",
              "      <td>Virginia Beach</td>\n",
              "      <td>Virginia</td>\n",
              "      <td>Spray Tanner</td>\n",
              "      <td>Week 1</td>\n",
              "    </tr>\n",
              "  </tbody>\n",
              "</table>\n",
              "<p>579 rows × 7 columns</p>\n",
              "</div>\n",
              "      <button class=\"colab-df-convert\" onclick=\"convertToInteractive('df-91677cfe-7d40-41ef-bc19-7a980be8a5a6')\"\n",
              "              title=\"Convert this dataframe to an interactive table.\"\n",
              "              style=\"display:none;\">\n",
              "        \n",
              "  <svg xmlns=\"http://www.w3.org/2000/svg\" height=\"24px\"viewBox=\"0 0 24 24\"\n",
              "       width=\"24px\">\n",
              "    <path d=\"M0 0h24v24H0V0z\" fill=\"none\"/>\n",
              "    <path d=\"M18.56 5.44l.94 2.06.94-2.06 2.06-.94-2.06-.94-.94-2.06-.94 2.06-2.06.94zm-11 1L8.5 8.5l.94-2.06 2.06-.94-2.06-.94L8.5 2.5l-.94 2.06-2.06.94zm10 10l.94 2.06.94-2.06 2.06-.94-2.06-.94-.94-2.06-.94 2.06-2.06.94z\"/><path d=\"M17.41 7.96l-1.37-1.37c-.4-.4-.92-.59-1.43-.59-.52 0-1.04.2-1.43.59L10.3 9.45l-7.72 7.72c-.78.78-.78 2.05 0 2.83L4 21.41c.39.39.9.59 1.41.59.51 0 1.02-.2 1.41-.59l7.78-7.78 2.81-2.81c.8-.78.8-2.07 0-2.86zM5.41 20L4 18.59l7.72-7.72 1.47 1.35L5.41 20z\"/>\n",
              "  </svg>\n",
              "      </button>\n",
              "      \n",
              "  <style>\n",
              "    .colab-df-container {\n",
              "      display:flex;\n",
              "      flex-wrap:wrap;\n",
              "      gap: 12px;\n",
              "    }\n",
              "\n",
              "    .colab-df-convert {\n",
              "      background-color: #E8F0FE;\n",
              "      border: none;\n",
              "      border-radius: 50%;\n",
              "      cursor: pointer;\n",
              "      display: none;\n",
              "      fill: #1967D2;\n",
              "      height: 32px;\n",
              "      padding: 0 0 0 0;\n",
              "      width: 32px;\n",
              "    }\n",
              "\n",
              "    .colab-df-convert:hover {\n",
              "      background-color: #E2EBFA;\n",
              "      box-shadow: 0px 1px 2px rgba(60, 64, 67, 0.3), 0px 1px 3px 1px rgba(60, 64, 67, 0.15);\n",
              "      fill: #174EA6;\n",
              "    }\n",
              "\n",
              "    [theme=dark] .colab-df-convert {\n",
              "      background-color: #3B4455;\n",
              "      fill: #D2E3FC;\n",
              "    }\n",
              "\n",
              "    [theme=dark] .colab-df-convert:hover {\n",
              "      background-color: #434B5C;\n",
              "      box-shadow: 0px 1px 3px 1px rgba(0, 0, 0, 0.15);\n",
              "      filter: drop-shadow(0px 1px 2px rgba(0, 0, 0, 0.3));\n",
              "      fill: #FFFFFF;\n",
              "    }\n",
              "  </style>\n",
              "\n",
              "      <script>\n",
              "        const buttonEl =\n",
              "          document.querySelector('#df-91677cfe-7d40-41ef-bc19-7a980be8a5a6 button.colab-df-convert');\n",
              "        buttonEl.style.display =\n",
              "          google.colab.kernel.accessAllowed ? 'block' : 'none';\n",
              "\n",
              "        async function convertToInteractive(key) {\n",
              "          const element = document.querySelector('#df-91677cfe-7d40-41ef-bc19-7a980be8a5a6');\n",
              "          const dataTable =\n",
              "            await google.colab.kernel.invokeFunction('convertToInteractive',\n",
              "                                                     [key], {});\n",
              "          if (!dataTable) return;\n",
              "\n",
              "          const docLinkHtml = 'Like what you see? Visit the ' +\n",
              "            '<a target=\"_blank\" href=https://colab.research.google.com/notebooks/data_table.ipynb>data table notebook</a>'\n",
              "            + ' to learn more about interactive tables.';\n",
              "          element.innerHTML = '';\n",
              "          dataTable['output_type'] = 'display_data';\n",
              "          await google.colab.output.renderOutput(dataTable, element);\n",
              "          const docLink = document.createElement('div');\n",
              "          docLink.innerHTML = docLinkHtml;\n",
              "          element.appendChild(docLink);\n",
              "        }\n",
              "      </script>\n",
              "    </div>\n",
              "  </div>\n",
              "  "
            ]
          },
          "metadata": {},
          "execution_count": 7
        }
      ]
    },
    {
      "cell_type": "markdown",
      "source": [
        "Create a new data frame representing all winners of the show. Note: Season 11 notoriously does not have a winner--that season's bachelor Brad Womack infamously broke up with both his final two women!\n",
        "\n",
        "Create another new data frame with the top four contestants from each season."
      ],
      "metadata": {
        "id": "HkR7aSGvsD-g"
      }
    },
    {
      "cell_type": "code",
      "source": [
        "# winners\n",
        "winners_df = contestants_df[contestants_df['Outcome'] == \"Winner\"]\n",
        "\n",
        "# top 4\n",
        "top4_df = contestants_df.groupby('Season').head(4)"
      ],
      "metadata": {
        "id": "GyKCTgIWrxBR"
      },
      "execution_count": 8,
      "outputs": []
    },
    {
      "cell_type": "markdown",
      "source": [
        "## Occupation Categorization \n",
        "The contestant occupations are specific to the individual. To better analyze trends in popular occupations, we will create a dictionary to categorize contestants' jobs. We created this dictionary based on common themes identified in the jobs of contestants in the top 4 of each season."
      ],
      "metadata": {
        "id": "0szh7HnwuXIf"
      }
    },
    {
      "cell_type": "code",
      "source": [
        "# set up key words we will use for detecting occupation categories\n",
        "marketing = ['Marketing', 'Content', 'Publicist', 'Communications', 'Social Media', 'Advertising']\n",
        "sales = ['Sales', 'Salesperson', 'Account Executive']\n",
        "finance = ['Finance', 'Financial']\n",
        "managmentconsult = ['Consultant', 'Business', 'Buyer', 'Executive Assistant',\n",
        "                    'Recruiter', 'Administrative']\n",
        "teacher = ['Teacher']\n",
        "student = ['Student']\n",
        "medical = ['Nurse', 'Hospital', 'Chiropractic', 'Phlebotomist']\n",
        "dance = ['Dancer', 'Dance Instructor', 'Cheerleader']\n",
        "therapy = ['Psychologist', 'Therapist', 'Speech Pathologist']\n",
        "dental = ['Dental']\n",
        "realestate = ['Real Estate', 'Realtor']\n",
        "attorney = ['Attorney']\n",
        "flight = ['Flight']\n",
        "arts = ['Graphic Designer', 'Creative Director', 'Photographer', 'Videographer', 'Actress', 'Designer']\n",
        "beauty = ['Stylist', 'Hairstylist', 'Esthetician', 'Fashion', 'Cosmetics', 'Clothier']\n",
        "events = ['Event Planner', 'Bridal', 'Funeral Director']\n",
        "model = ['Model']\n",
        "construction = ['Contractor']\n",
        "socialwork = ['Social Worker']\n",
        "\n",
        "# create a dictionary of job categories, with the values representing the list of jobs within the key\n",
        "job_dictionary1 = {'Marketing': marketing, 'Sales': sales, 'Teaching': teacher, \n",
        "                   'Finance': finance, 'Management and Consulting': managmentconsult,\n",
        "                  'Medical': medical, 'Dance': dance, 'Therapy': therapy,\n",
        "                  'Dental Care': dental, 'Real Estate': realestate, 'Legal': attorney, \n",
        "                  'Flight': flight, 'Arts': arts, 'Beauty': beauty, \n",
        "                  'Events': events, 'Modeling': model, 'Student': student,\n",
        "                   'Construction': construction, 'Social Work': socialwork}"
      ],
      "metadata": {
        "id": "dbIr6dgl3XKY"
      },
      "execution_count": 9,
      "outputs": []
    },
    {
      "cell_type": "markdown",
      "source": [
        "This function will look at the occupation of each contestant in a data frame and then look through each key, value pair in the provided job dictionary. If the contestant's occupation matches a job in one of the keys, the name of that key will be inputted as their job category. If the contestant's job does not appear in the dictionary, the category will be designated as \"Not Found\".\n",
        "\n",
        "Note: we are only running this function for the top 4 and winners dataframes since these contestants' jobs were the ones used in designing the dictionary."
      ],
      "metadata": {
        "id": "aPcDaGeYLf9S"
      }
    },
    {
      "cell_type": "code",
      "source": [
        "def calculateJobCategory(row):\n",
        "  occupation = row['Occupation'].casefold()\n",
        "\n",
        "  for k, v in job_dictionary1.items():\n",
        "    for occupation_keywords in v:\n",
        "      if occupation_keywords.casefold() in occupation:\n",
        "        return k\n",
        "\n",
        "  #print(f\"did not find {occupation}\")\n",
        "  return \"not found\"\n",
        "\n",
        "top4_df['Job Category'] = top4_df.apply(calculateJobCategory, axis=1)\n",
        "winners_df['Job Category'] = winners_df.apply(calculateJobCategory, axis=1)\n",
        "\n",
        "# counts of each job category among all Bachelorette contestants who made top 4\n",
        "top4_df['Job Category'].value_counts()"
      ],
      "metadata": {
        "id": "jwrMt6c2-7gI",
        "colab": {
          "base_uri": "https://localhost:8080/"
        },
        "outputId": "d71a3c96-2edb-4309-9ca7-0ed4e847fc41"
      },
      "execution_count": 10,
      "outputs": [
        {
          "output_type": "stream",
          "name": "stderr",
          "text": [
            "<ipython-input-10-d7b5bab1e4a1>:12: SettingWithCopyWarning: \n",
            "A value is trying to be set on a copy of a slice from a DataFrame.\n",
            "Try using .loc[row_indexer,col_indexer] = value instead\n",
            "\n",
            "See the caveats in the documentation: https://pandas.pydata.org/pandas-docs/stable/user_guide/indexing.html#returning-a-view-versus-a-copy\n",
            "  top4_df['Job Category'] = top4_df.apply(calculateJobCategory, axis=1)\n",
            "<ipython-input-10-d7b5bab1e4a1>:13: SettingWithCopyWarning: \n",
            "A value is trying to be set on a copy of a slice from a DataFrame.\n",
            "Try using .loc[row_indexer,col_indexer] = value instead\n",
            "\n",
            "See the caveats in the documentation: https://pandas.pydata.org/pandas-docs/stable/user_guide/indexing.html#returning-a-view-versus-a-copy\n",
            "  winners_df['Job Category'] = winners_df.apply(calculateJobCategory, axis=1)\n"
          ]
        },
        {
          "output_type": "execute_result",
          "data": {
            "text/plain": [
              "Arts                         9\n",
              "Marketing                    9\n",
              "Management and Consulting    7\n",
              "Medical                      7\n",
              "Sales                        6\n",
              "Beauty                       6\n",
              "Teaching                     6\n",
              "not found                    5\n",
              "Modeling                     4\n",
              "Real Estate                  4\n",
              "Therapy                      3\n",
              "Student                      3\n",
              "Dance                        3\n",
              "Flight                       3\n",
              "Dental Care                  2\n",
              "Events                       2\n",
              "Legal                        2\n",
              "Social Work                  1\n",
              "Construction                 1\n",
              "Finance                      1\n",
              "Name: Job Category, dtype: int64"
            ]
          },
          "metadata": {},
          "execution_count": 10
        }
      ]
    },
    {
      "cell_type": "code",
      "source": [
        "top4_df"
      ],
      "metadata": {
        "colab": {
          "base_uri": "https://localhost:8080/",
          "height": 423
        },
        "id": "RIaj0_fLbrIz",
        "outputId": "ccb57d39-7867-4edc-87be-4df839710f21"
      },
      "execution_count": 11,
      "outputs": [
        {
          "output_type": "execute_result",
          "data": {
            "text/plain": [
              "     Season                     Name   Age           Town        State  \\\n",
              "0         1             Amanda Marsh  23.0        Chanute       Kansas   \n",
              "1         1              Trista Rehn  29.0      St. Louis     Missouri   \n",
              "2         1           Shannon Oliver  24.0         Dallas        Texas   \n",
              "3         1                      Kim  24.0          Tempe      Arizona   \n",
              "25        2       Helene Eksterowicz  27.0     Gloucester   New Jersey   \n",
              "..      ...                      ...   ...            ...          ...   \n",
              "518      25              Serena Pitt  23.0        Markham      Ontario   \n",
              "552      26              Susie Evans  28.0       Poquoson     Virginia   \n",
              "553      26  Gabriela \"Gabby\" Windey  30.0       O'Fallon     Illinois   \n",
              "554      26           Rachel Recchia  25.0       Clermont      Florida   \n",
              "556      26           Serene Russell  26.0  Oklahoma City     Oklahoma   \n",
              "\n",
              "                          Occupation             Outcome Job Category  \n",
              "0                      Event Planner              Winner       Events  \n",
              "1                  Miami Heat Dancer           Runner-up        Dance  \n",
              "2    Financial Management Consultant              Week 5      Finance  \n",
              "3                              Nanny              Week 4    not found  \n",
              "25               School Psychologist              Winner      Therapy  \n",
              "..                               ...                 ...          ...  \n",
              "518                        Publicist              Week 8    Marketing  \n",
              "552             Wedding Videographer              Winner         Arts  \n",
              "553                        ICU Nurse  Runner-Up(Week 10)      Medical  \n",
              "554                Flight Instructor  Runner-Up(Week 10)       Flight  \n",
              "556        Elementary School Teacher              Week 8     Teaching  \n",
              "\n",
              "[84 rows x 8 columns]"
            ],
            "text/html": [
              "\n",
              "  <div id=\"df-6247f69c-2f1d-4d6b-b46e-b9ffcef842e4\">\n",
              "    <div class=\"colab-df-container\">\n",
              "      <div>\n",
              "<style scoped>\n",
              "    .dataframe tbody tr th:only-of-type {\n",
              "        vertical-align: middle;\n",
              "    }\n",
              "\n",
              "    .dataframe tbody tr th {\n",
              "        vertical-align: top;\n",
              "    }\n",
              "\n",
              "    .dataframe thead th {\n",
              "        text-align: right;\n",
              "    }\n",
              "</style>\n",
              "<table border=\"1\" class=\"dataframe\">\n",
              "  <thead>\n",
              "    <tr style=\"text-align: right;\">\n",
              "      <th></th>\n",
              "      <th>Season</th>\n",
              "      <th>Name</th>\n",
              "      <th>Age</th>\n",
              "      <th>Town</th>\n",
              "      <th>State</th>\n",
              "      <th>Occupation</th>\n",
              "      <th>Outcome</th>\n",
              "      <th>Job Category</th>\n",
              "    </tr>\n",
              "  </thead>\n",
              "  <tbody>\n",
              "    <tr>\n",
              "      <th>0</th>\n",
              "      <td>1</td>\n",
              "      <td>Amanda Marsh</td>\n",
              "      <td>23.0</td>\n",
              "      <td>Chanute</td>\n",
              "      <td>Kansas</td>\n",
              "      <td>Event Planner</td>\n",
              "      <td>Winner</td>\n",
              "      <td>Events</td>\n",
              "    </tr>\n",
              "    <tr>\n",
              "      <th>1</th>\n",
              "      <td>1</td>\n",
              "      <td>Trista Rehn</td>\n",
              "      <td>29.0</td>\n",
              "      <td>St. Louis</td>\n",
              "      <td>Missouri</td>\n",
              "      <td>Miami Heat Dancer</td>\n",
              "      <td>Runner-up</td>\n",
              "      <td>Dance</td>\n",
              "    </tr>\n",
              "    <tr>\n",
              "      <th>2</th>\n",
              "      <td>1</td>\n",
              "      <td>Shannon Oliver</td>\n",
              "      <td>24.0</td>\n",
              "      <td>Dallas</td>\n",
              "      <td>Texas</td>\n",
              "      <td>Financial Management Consultant</td>\n",
              "      <td>Week 5</td>\n",
              "      <td>Finance</td>\n",
              "    </tr>\n",
              "    <tr>\n",
              "      <th>3</th>\n",
              "      <td>1</td>\n",
              "      <td>Kim</td>\n",
              "      <td>24.0</td>\n",
              "      <td>Tempe</td>\n",
              "      <td>Arizona</td>\n",
              "      <td>Nanny</td>\n",
              "      <td>Week 4</td>\n",
              "      <td>not found</td>\n",
              "    </tr>\n",
              "    <tr>\n",
              "      <th>25</th>\n",
              "      <td>2</td>\n",
              "      <td>Helene Eksterowicz</td>\n",
              "      <td>27.0</td>\n",
              "      <td>Gloucester</td>\n",
              "      <td>New Jersey</td>\n",
              "      <td>School Psychologist</td>\n",
              "      <td>Winner</td>\n",
              "      <td>Therapy</td>\n",
              "    </tr>\n",
              "    <tr>\n",
              "      <th>...</th>\n",
              "      <td>...</td>\n",
              "      <td>...</td>\n",
              "      <td>...</td>\n",
              "      <td>...</td>\n",
              "      <td>...</td>\n",
              "      <td>...</td>\n",
              "      <td>...</td>\n",
              "      <td>...</td>\n",
              "    </tr>\n",
              "    <tr>\n",
              "      <th>518</th>\n",
              "      <td>25</td>\n",
              "      <td>Serena Pitt</td>\n",
              "      <td>23.0</td>\n",
              "      <td>Markham</td>\n",
              "      <td>Ontario</td>\n",
              "      <td>Publicist</td>\n",
              "      <td>Week 8</td>\n",
              "      <td>Marketing</td>\n",
              "    </tr>\n",
              "    <tr>\n",
              "      <th>552</th>\n",
              "      <td>26</td>\n",
              "      <td>Susie Evans</td>\n",
              "      <td>28.0</td>\n",
              "      <td>Poquoson</td>\n",
              "      <td>Virginia</td>\n",
              "      <td>Wedding Videographer</td>\n",
              "      <td>Winner</td>\n",
              "      <td>Arts</td>\n",
              "    </tr>\n",
              "    <tr>\n",
              "      <th>553</th>\n",
              "      <td>26</td>\n",
              "      <td>Gabriela \"Gabby\" Windey</td>\n",
              "      <td>30.0</td>\n",
              "      <td>O'Fallon</td>\n",
              "      <td>Illinois</td>\n",
              "      <td>ICU Nurse</td>\n",
              "      <td>Runner-Up(Week 10)</td>\n",
              "      <td>Medical</td>\n",
              "    </tr>\n",
              "    <tr>\n",
              "      <th>554</th>\n",
              "      <td>26</td>\n",
              "      <td>Rachel Recchia</td>\n",
              "      <td>25.0</td>\n",
              "      <td>Clermont</td>\n",
              "      <td>Florida</td>\n",
              "      <td>Flight Instructor</td>\n",
              "      <td>Runner-Up(Week 10)</td>\n",
              "      <td>Flight</td>\n",
              "    </tr>\n",
              "    <tr>\n",
              "      <th>556</th>\n",
              "      <td>26</td>\n",
              "      <td>Serene Russell</td>\n",
              "      <td>26.0</td>\n",
              "      <td>Oklahoma City</td>\n",
              "      <td>Oklahoma</td>\n",
              "      <td>Elementary School Teacher</td>\n",
              "      <td>Week 8</td>\n",
              "      <td>Teaching</td>\n",
              "    </tr>\n",
              "  </tbody>\n",
              "</table>\n",
              "<p>84 rows × 8 columns</p>\n",
              "</div>\n",
              "      <button class=\"colab-df-convert\" onclick=\"convertToInteractive('df-6247f69c-2f1d-4d6b-b46e-b9ffcef842e4')\"\n",
              "              title=\"Convert this dataframe to an interactive table.\"\n",
              "              style=\"display:none;\">\n",
              "        \n",
              "  <svg xmlns=\"http://www.w3.org/2000/svg\" height=\"24px\"viewBox=\"0 0 24 24\"\n",
              "       width=\"24px\">\n",
              "    <path d=\"M0 0h24v24H0V0z\" fill=\"none\"/>\n",
              "    <path d=\"M18.56 5.44l.94 2.06.94-2.06 2.06-.94-2.06-.94-.94-2.06-.94 2.06-2.06.94zm-11 1L8.5 8.5l.94-2.06 2.06-.94-2.06-.94L8.5 2.5l-.94 2.06-2.06.94zm10 10l.94 2.06.94-2.06 2.06-.94-2.06-.94-.94-2.06-.94 2.06-2.06.94z\"/><path d=\"M17.41 7.96l-1.37-1.37c-.4-.4-.92-.59-1.43-.59-.52 0-1.04.2-1.43.59L10.3 9.45l-7.72 7.72c-.78.78-.78 2.05 0 2.83L4 21.41c.39.39.9.59 1.41.59.51 0 1.02-.2 1.41-.59l7.78-7.78 2.81-2.81c.8-.78.8-2.07 0-2.86zM5.41 20L4 18.59l7.72-7.72 1.47 1.35L5.41 20z\"/>\n",
              "  </svg>\n",
              "      </button>\n",
              "      \n",
              "  <style>\n",
              "    .colab-df-container {\n",
              "      display:flex;\n",
              "      flex-wrap:wrap;\n",
              "      gap: 12px;\n",
              "    }\n",
              "\n",
              "    .colab-df-convert {\n",
              "      background-color: #E8F0FE;\n",
              "      border: none;\n",
              "      border-radius: 50%;\n",
              "      cursor: pointer;\n",
              "      display: none;\n",
              "      fill: #1967D2;\n",
              "      height: 32px;\n",
              "      padding: 0 0 0 0;\n",
              "      width: 32px;\n",
              "    }\n",
              "\n",
              "    .colab-df-convert:hover {\n",
              "      background-color: #E2EBFA;\n",
              "      box-shadow: 0px 1px 2px rgba(60, 64, 67, 0.3), 0px 1px 3px 1px rgba(60, 64, 67, 0.15);\n",
              "      fill: #174EA6;\n",
              "    }\n",
              "\n",
              "    [theme=dark] .colab-df-convert {\n",
              "      background-color: #3B4455;\n",
              "      fill: #D2E3FC;\n",
              "    }\n",
              "\n",
              "    [theme=dark] .colab-df-convert:hover {\n",
              "      background-color: #434B5C;\n",
              "      box-shadow: 0px 1px 3px 1px rgba(0, 0, 0, 0.15);\n",
              "      filter: drop-shadow(0px 1px 2px rgba(0, 0, 0, 0.3));\n",
              "      fill: #FFFFFF;\n",
              "    }\n",
              "  </style>\n",
              "\n",
              "      <script>\n",
              "        const buttonEl =\n",
              "          document.querySelector('#df-6247f69c-2f1d-4d6b-b46e-b9ffcef842e4 button.colab-df-convert');\n",
              "        buttonEl.style.display =\n",
              "          google.colab.kernel.accessAllowed ? 'block' : 'none';\n",
              "\n",
              "        async function convertToInteractive(key) {\n",
              "          const element = document.querySelector('#df-6247f69c-2f1d-4d6b-b46e-b9ffcef842e4');\n",
              "          const dataTable =\n",
              "            await google.colab.kernel.invokeFunction('convertToInteractive',\n",
              "                                                     [key], {});\n",
              "          if (!dataTable) return;\n",
              "\n",
              "          const docLinkHtml = 'Like what you see? Visit the ' +\n",
              "            '<a target=\"_blank\" href=https://colab.research.google.com/notebooks/data_table.ipynb>data table notebook</a>'\n",
              "            + ' to learn more about interactive tables.';\n",
              "          element.innerHTML = '';\n",
              "          dataTable['output_type'] = 'display_data';\n",
              "          await google.colab.output.renderOutput(dataTable, element);\n",
              "          const docLink = document.createElement('div');\n",
              "          docLink.innerHTML = docLinkHtml;\n",
              "          element.appendChild(docLink);\n",
              "        }\n",
              "      </script>\n",
              "    </div>\n",
              "  </div>\n",
              "  "
            ]
          },
          "metadata": {},
          "execution_count": 11
        }
      ]
    },
    {
      "cell_type": "markdown",
      "source": [
        "# The Bachelorette Data Gathering & Cleaning"
      ],
      "metadata": {
        "id": "UACBGn-aMTj6"
      }
    },
    {
      "cell_type": "markdown",
      "source": [
        "Now we will perform the same process, but for contestants on the Bachelorette, where a female lead dates a group of male suitors."
      ],
      "metadata": {
        "id": "IcVJxMy_Za3X"
      }
    },
    {
      "cell_type": "markdown",
      "source": [
        "## Scraping"
      ],
      "metadata": {
        "id": "ZxJ0oZl7XKAg"
      }
    },
    {
      "cell_type": "markdown",
      "source": [
        "Once again, we create an array representing the seasons we can obtain data from on Wikipedia. Thankfully this time, all seasons have contestant data available."
      ],
      "metadata": {
        "id": "x8gYZ-KyRAfm"
      }
    },
    {
      "cell_type": "code",
      "source": [
        "# The Bachelorette has had 19 seasons so far\n",
        "seasons = np.arange(1, 20, 1)"
      ],
      "metadata": {
        "id": "uMaOCMdpQgnt"
      },
      "execution_count": 12,
      "outputs": []
    },
    {
      "cell_type": "markdown",
      "source": [
        "Use the BeautifulSoup library to create a data frame containing information on all Bachelorette contestants, using the seasons_scrape() function from the prior section."
      ],
      "metadata": {
        "id": "JDgZ1l-ER6H6"
      }
    },
    {
      "cell_type": "code",
      "source": [
        "# create new contestant data frame for Bachelorette\n",
        "contestants_df2 = pd.DataFrame()\n",
        "urlstart = \"https://en.wikipedia.org/wiki/The_Bachelorette_(American_season_\"\n",
        "\n",
        "# call seasons_scrape() function\n",
        "contestants_df2 = seasons_scrape(seasons, contestants_df2, urlstart)"
      ],
      "metadata": {
        "id": "w235MuP0RMga"
      },
      "execution_count": 13,
      "outputs": []
    },
    {
      "cell_type": "markdown",
      "source": [
        "## Cleaning"
      ],
      "metadata": {
        "id": "_TzFDc9uXM8Z"
      }
    },
    {
      "cell_type": "markdown",
      "source": [
        "Perform some clean-up on the contestants dataframe:"
      ],
      "metadata": {
        "id": "_zjc_N1iTzCB"
      }
    },
    {
      "cell_type": "code",
      "source": [
        "# sometimes contestants will leave one week then return a later week. Remove the\n",
        "# rows from the table which reference them leaving (the info we care about is stored\n",
        "# in another row, including their final placement)\n",
        "contestants_df2[contestants_df2['Age'] == \"(Returned to competition)\"]\n",
        "\n",
        "# remove these rows -- the data for these contestants is still in the table, just a different row\n",
        "contestants_df2 = contestants_df2[contestants_df2['Age'] != \"(Returned to competition)\"]\n",
        "\n",
        "contestants_df2 = contestants_df2.dropna(axis=0)"
      ],
      "metadata": {
        "id": "uVTULdkdT4Sl"
      },
      "execution_count": 14,
      "outputs": []
    },
    {
      "cell_type": "code",
      "source": [
        "# some contestants' names had hyperlinks. Remove the references attached\n",
        "contestants_df2['Name'] = contestants_df2['Name'].apply(lambda x: x.split('[')[0] if '[' in x else x)\n",
        "# fix some unclean age values\n",
        "contestants_df2['Age'] = contestants_df2['Age'].apply(str).apply(lambda x: x.split('[')[0] if '[' in x else x)\n",
        "# separate town and state into their own columns\n",
        "contestants_df2[['Town', 'State']] = contestants_df2['Hometown'].str.split(',', expand = True)\n",
        "# make sure age is numeric\n",
        "contestants_df2['Age'] = pd.to_numeric(contestants_df2['Age'])\n",
        "\n",
        "# keep desired columns\n",
        "cols = ['Season', 'Name', 'Age', 'Town', 'State', 'Occupation', 'Outcome']\n",
        "contestants_df2 = contestants_df2[cols]"
      ],
      "metadata": {
        "id": "qmA59BzwXXJR"
      },
      "execution_count": 15,
      "outputs": []
    },
    {
      "cell_type": "code",
      "source": [
        "contestants_df2"
      ],
      "metadata": {
        "colab": {
          "base_uri": "https://localhost:8080/",
          "height": 423
        },
        "id": "HAUL0X6Maf_J",
        "outputId": "3d3df9f9-9aa6-4e6e-f392-3ea58a8017fa"
      },
      "execution_count": 16,
      "outputs": [
        {
          "output_type": "execute_result",
          "data": {
            "text/plain": [
              "     Season                    Name  Age           Town         State  \\\n",
              "0         1             Ryan Sutter   28           Vail      Colorado   \n",
              "1         1           Charlie Maher   28  Hermosa Beach    California   \n",
              "2         1           Russell Woods   31     San Rafael    California   \n",
              "3         1            Greg Todtman   28      Manhattan      New York   \n",
              "4         1              Bob Guiney   31       Ferndale      Michigan   \n",
              "..      ...                     ...  ...            ...           ...   \n",
              "525      19            Chris Austin   30  Redondo Beach    California   \n",
              "526      19      Jordan Vandergriff   27     Alpharetta       Georgia   \n",
              "527      19              Joey Young   24     Brookfield   Connecticut   \n",
              "528      19            Justin Young   24     Brookfield   Connecticut   \n",
              "529      19  Robert \"Roby\" Sobieski   33    Los Angeles    California   \n",
              "\n",
              "            Occupation    Outcome  \n",
              "0          Firefighter     Winner  \n",
              "1    Financial Analyst  Runner-up  \n",
              "2               Writer     Week 5  \n",
              "3             Importer     Week 4  \n",
              "4      Mortgage Broker     Week 3  \n",
              "..                 ...        ...  \n",
              "525    Mentality Coach     Week 2  \n",
              "526         Drag Racer     Week 2  \n",
              "527               Twin     Week 1  \n",
              "528         Other Twin     Week 1  \n",
              "529           Magician     Week 1  \n",
              "\n",
              "[524 rows x 7 columns]"
            ],
            "text/html": [
              "\n",
              "  <div id=\"df-18ac9fbf-568b-4343-9030-0c41900a3774\">\n",
              "    <div class=\"colab-df-container\">\n",
              "      <div>\n",
              "<style scoped>\n",
              "    .dataframe tbody tr th:only-of-type {\n",
              "        vertical-align: middle;\n",
              "    }\n",
              "\n",
              "    .dataframe tbody tr th {\n",
              "        vertical-align: top;\n",
              "    }\n",
              "\n",
              "    .dataframe thead th {\n",
              "        text-align: right;\n",
              "    }\n",
              "</style>\n",
              "<table border=\"1\" class=\"dataframe\">\n",
              "  <thead>\n",
              "    <tr style=\"text-align: right;\">\n",
              "      <th></th>\n",
              "      <th>Season</th>\n",
              "      <th>Name</th>\n",
              "      <th>Age</th>\n",
              "      <th>Town</th>\n",
              "      <th>State</th>\n",
              "      <th>Occupation</th>\n",
              "      <th>Outcome</th>\n",
              "    </tr>\n",
              "  </thead>\n",
              "  <tbody>\n",
              "    <tr>\n",
              "      <th>0</th>\n",
              "      <td>1</td>\n",
              "      <td>Ryan Sutter</td>\n",
              "      <td>28</td>\n",
              "      <td>Vail</td>\n",
              "      <td>Colorado</td>\n",
              "      <td>Firefighter</td>\n",
              "      <td>Winner</td>\n",
              "    </tr>\n",
              "    <tr>\n",
              "      <th>1</th>\n",
              "      <td>1</td>\n",
              "      <td>Charlie Maher</td>\n",
              "      <td>28</td>\n",
              "      <td>Hermosa Beach</td>\n",
              "      <td>California</td>\n",
              "      <td>Financial Analyst</td>\n",
              "      <td>Runner-up</td>\n",
              "    </tr>\n",
              "    <tr>\n",
              "      <th>2</th>\n",
              "      <td>1</td>\n",
              "      <td>Russell Woods</td>\n",
              "      <td>31</td>\n",
              "      <td>San Rafael</td>\n",
              "      <td>California</td>\n",
              "      <td>Writer</td>\n",
              "      <td>Week 5</td>\n",
              "    </tr>\n",
              "    <tr>\n",
              "      <th>3</th>\n",
              "      <td>1</td>\n",
              "      <td>Greg Todtman</td>\n",
              "      <td>28</td>\n",
              "      <td>Manhattan</td>\n",
              "      <td>New York</td>\n",
              "      <td>Importer</td>\n",
              "      <td>Week 4</td>\n",
              "    </tr>\n",
              "    <tr>\n",
              "      <th>4</th>\n",
              "      <td>1</td>\n",
              "      <td>Bob Guiney</td>\n",
              "      <td>31</td>\n",
              "      <td>Ferndale</td>\n",
              "      <td>Michigan</td>\n",
              "      <td>Mortgage Broker</td>\n",
              "      <td>Week 3</td>\n",
              "    </tr>\n",
              "    <tr>\n",
              "      <th>...</th>\n",
              "      <td>...</td>\n",
              "      <td>...</td>\n",
              "      <td>...</td>\n",
              "      <td>...</td>\n",
              "      <td>...</td>\n",
              "      <td>...</td>\n",
              "      <td>...</td>\n",
              "    </tr>\n",
              "    <tr>\n",
              "      <th>525</th>\n",
              "      <td>19</td>\n",
              "      <td>Chris Austin</td>\n",
              "      <td>30</td>\n",
              "      <td>Redondo Beach</td>\n",
              "      <td>California</td>\n",
              "      <td>Mentality Coach</td>\n",
              "      <td>Week 2</td>\n",
              "    </tr>\n",
              "    <tr>\n",
              "      <th>526</th>\n",
              "      <td>19</td>\n",
              "      <td>Jordan Vandergriff</td>\n",
              "      <td>27</td>\n",
              "      <td>Alpharetta</td>\n",
              "      <td>Georgia</td>\n",
              "      <td>Drag Racer</td>\n",
              "      <td>Week 2</td>\n",
              "    </tr>\n",
              "    <tr>\n",
              "      <th>527</th>\n",
              "      <td>19</td>\n",
              "      <td>Joey Young</td>\n",
              "      <td>24</td>\n",
              "      <td>Brookfield</td>\n",
              "      <td>Connecticut</td>\n",
              "      <td>Twin</td>\n",
              "      <td>Week 1</td>\n",
              "    </tr>\n",
              "    <tr>\n",
              "      <th>528</th>\n",
              "      <td>19</td>\n",
              "      <td>Justin Young</td>\n",
              "      <td>24</td>\n",
              "      <td>Brookfield</td>\n",
              "      <td>Connecticut</td>\n",
              "      <td>Other Twin</td>\n",
              "      <td>Week 1</td>\n",
              "    </tr>\n",
              "    <tr>\n",
              "      <th>529</th>\n",
              "      <td>19</td>\n",
              "      <td>Robert \"Roby\" Sobieski</td>\n",
              "      <td>33</td>\n",
              "      <td>Los Angeles</td>\n",
              "      <td>California</td>\n",
              "      <td>Magician</td>\n",
              "      <td>Week 1</td>\n",
              "    </tr>\n",
              "  </tbody>\n",
              "</table>\n",
              "<p>524 rows × 7 columns</p>\n",
              "</div>\n",
              "      <button class=\"colab-df-convert\" onclick=\"convertToInteractive('df-18ac9fbf-568b-4343-9030-0c41900a3774')\"\n",
              "              title=\"Convert this dataframe to an interactive table.\"\n",
              "              style=\"display:none;\">\n",
              "        \n",
              "  <svg xmlns=\"http://www.w3.org/2000/svg\" height=\"24px\"viewBox=\"0 0 24 24\"\n",
              "       width=\"24px\">\n",
              "    <path d=\"M0 0h24v24H0V0z\" fill=\"none\"/>\n",
              "    <path d=\"M18.56 5.44l.94 2.06.94-2.06 2.06-.94-2.06-.94-.94-2.06-.94 2.06-2.06.94zm-11 1L8.5 8.5l.94-2.06 2.06-.94-2.06-.94L8.5 2.5l-.94 2.06-2.06.94zm10 10l.94 2.06.94-2.06 2.06-.94-2.06-.94-.94-2.06-.94 2.06-2.06.94z\"/><path d=\"M17.41 7.96l-1.37-1.37c-.4-.4-.92-.59-1.43-.59-.52 0-1.04.2-1.43.59L10.3 9.45l-7.72 7.72c-.78.78-.78 2.05 0 2.83L4 21.41c.39.39.9.59 1.41.59.51 0 1.02-.2 1.41-.59l7.78-7.78 2.81-2.81c.8-.78.8-2.07 0-2.86zM5.41 20L4 18.59l7.72-7.72 1.47 1.35L5.41 20z\"/>\n",
              "  </svg>\n",
              "      </button>\n",
              "      \n",
              "  <style>\n",
              "    .colab-df-container {\n",
              "      display:flex;\n",
              "      flex-wrap:wrap;\n",
              "      gap: 12px;\n",
              "    }\n",
              "\n",
              "    .colab-df-convert {\n",
              "      background-color: #E8F0FE;\n",
              "      border: none;\n",
              "      border-radius: 50%;\n",
              "      cursor: pointer;\n",
              "      display: none;\n",
              "      fill: #1967D2;\n",
              "      height: 32px;\n",
              "      padding: 0 0 0 0;\n",
              "      width: 32px;\n",
              "    }\n",
              "\n",
              "    .colab-df-convert:hover {\n",
              "      background-color: #E2EBFA;\n",
              "      box-shadow: 0px 1px 2px rgba(60, 64, 67, 0.3), 0px 1px 3px 1px rgba(60, 64, 67, 0.15);\n",
              "      fill: #174EA6;\n",
              "    }\n",
              "\n",
              "    [theme=dark] .colab-df-convert {\n",
              "      background-color: #3B4455;\n",
              "      fill: #D2E3FC;\n",
              "    }\n",
              "\n",
              "    [theme=dark] .colab-df-convert:hover {\n",
              "      background-color: #434B5C;\n",
              "      box-shadow: 0px 1px 3px 1px rgba(0, 0, 0, 0.15);\n",
              "      filter: drop-shadow(0px 1px 2px rgba(0, 0, 0, 0.3));\n",
              "      fill: #FFFFFF;\n",
              "    }\n",
              "  </style>\n",
              "\n",
              "      <script>\n",
              "        const buttonEl =\n",
              "          document.querySelector('#df-18ac9fbf-568b-4343-9030-0c41900a3774 button.colab-df-convert');\n",
              "        buttonEl.style.display =\n",
              "          google.colab.kernel.accessAllowed ? 'block' : 'none';\n",
              "\n",
              "        async function convertToInteractive(key) {\n",
              "          const element = document.querySelector('#df-18ac9fbf-568b-4343-9030-0c41900a3774');\n",
              "          const dataTable =\n",
              "            await google.colab.kernel.invokeFunction('convertToInteractive',\n",
              "                                                     [key], {});\n",
              "          if (!dataTable) return;\n",
              "\n",
              "          const docLinkHtml = 'Like what you see? Visit the ' +\n",
              "            '<a target=\"_blank\" href=https://colab.research.google.com/notebooks/data_table.ipynb>data table notebook</a>'\n",
              "            + ' to learn more about interactive tables.';\n",
              "          element.innerHTML = '';\n",
              "          dataTable['output_type'] = 'display_data';\n",
              "          await google.colab.output.renderOutput(dataTable, element);\n",
              "          const docLink = document.createElement('div');\n",
              "          docLink.innerHTML = docLinkHtml;\n",
              "          element.appendChild(docLink);\n",
              "        }\n",
              "      </script>\n",
              "    </div>\n",
              "  </div>\n",
              "  "
            ]
          },
          "metadata": {},
          "execution_count": 16
        }
      ]
    },
    {
      "cell_type": "markdown",
      "source": [
        "Create two new data frames for the winners and top 4 of each season. It should be noted that two Bachelorette seasons are rather special--seasons 16 and 19 both had two different Bachelorettes, so they will each have two winners!"
      ],
      "metadata": {
        "id": "kVbruM6-hImz"
      }
    },
    {
      "cell_type": "code",
      "source": [
        "# winners\n",
        "winners_df2 = contestants_df2[contestants_df2['Outcome'] == \"Winner\"]\n",
        "\n",
        "# top 4\n",
        "top4_df2 = contestants_df2.groupby('Season').head(4)"
      ],
      "metadata": {
        "id": "ks8wR2RnhLsq"
      },
      "execution_count": 17,
      "outputs": []
    },
    {
      "cell_type": "markdown",
      "source": [
        "## Occupation Categorization"
      ],
      "metadata": {
        "id": "bZauhiebXUS_"
      }
    },
    {
      "cell_type": "markdown",
      "source": [
        "We will create a different jobs dictionary, since the male contestants tend to have different jobs from the female contestants. Like we did with the female contestants, we observed common trends among the top 4 contestants from each season to create this dictionary."
      ],
      "metadata": {
        "id": "9Ulvcxi0XXoO"
      }
    },
    {
      "cell_type": "code",
      "source": [
        "# set up key words we will use for detecting occupation categories\n",
        "marketing = ['Marketing', 'Content', 'Publicist', 'Communications', 'Social Media']\n",
        "finance = ['Banker', 'Portfolio', 'Equity', 'Financial', 'Investment']\n",
        "sales = ['Sales', 'Salesperson', 'Salesman', 'Insurance Agent']\n",
        "managementconsult = ['Consultant', 'Business', 'Buyer', 'Entrepreneur', \n",
        "                     'Wine', 'Restaurant', 'Startup', 'Account Executive', 'Tech Executive',\n",
        "                     'Retail Manager']\n",
        "teacher = ['Teacher']\n",
        "student = ['Student']\n",
        "medical = ['Nurse', 'Hospital', 'Chiropractor', 'Medicine']\n",
        "sports = ['Snowboarder', 'Football', 'Quarterback', 'Swimmer',' Trainer', 'Race', \n",
        "          'Baseball', 'Basketball', 'Personal Trainer']\n",
        "therapy = ['Psychologist', 'Therapist', 'Speech Pathologist', 'Addiction Specialist']\n",
        "dental = ['Dental']\n",
        "arts = ['Singer', 'Photographer', 'Writer', 'Musician', 'Art']\n",
        "realestate = ['Real Estate', 'Realtor', 'Mortgage']\n",
        "attorney = ['Attorney']\n",
        "flight = ['Flight', 'Pilot']\n",
        "engineer = ['Engineer']\n",
        "armyvet = ['Army', 'Veteran']\n",
        "construction = ['General Contractor', 'Construction', 'Landscaper']\n",
        "\n",
        "# create a dictionary of job categories, with the values representing the list of jobs within the key\n",
        "job_dictionary2 = {'Marketing': marketing, 'Finance': finance, 'Sales': sales, 'Teaching': teacher, 'Management and Consulting': managementconsult,\n",
        "                  'Medical': medical, 'Sports': sports, 'Arts': arts, 'Therapy': therapy,\n",
        "                  'Dental Care': dental, 'Real Estate': realestate, 'Legal': attorney, \n",
        "                  'Flight': flight, 'Engineering': engineer, \n",
        "                  'Army or Veteran': armyvet, 'Student': student, 'Construction': construction}"
      ],
      "metadata": {
        "id": "SQwxJR6rzKFk"
      },
      "execution_count": 27,
      "outputs": []
    },
    {
      "cell_type": "code",
      "source": [
        "def calculateJobCategory(row):\n",
        "  occupation = row['Occupation'].casefold()\n",
        "\n",
        "  for k, v in job_dictionary2.items():\n",
        "    for occupation_keywords in v:\n",
        "      if occupation_keywords.casefold() in occupation:\n",
        "        return k\n",
        "\n",
        "  #print(f\"did not find {occupation}\")\n",
        "  return \"not found\"\n",
        "\n",
        "top4_df2['Job Category'] = top4_df2.apply(calculateJobCategory, axis=1)\n",
        "winners_df2['Job Category'] = winners_df2.apply(calculateJobCategory, axis=1)\n",
        "\n",
        "# counts of each job category among all Bachelorette contestants who made top 4\n",
        "top4_df2['Job Category'].value_counts()"
      ],
      "metadata": {
        "colab": {
          "base_uri": "https://localhost:8080/"
        },
        "id": "kawDXhbAuvvR",
        "outputId": "cbe68726-46f3-465f-94ae-c51b5741882f"
      },
      "execution_count": 28,
      "outputs": [
        {
          "output_type": "stream",
          "name": "stderr",
          "text": [
            "<ipython-input-28-1ecf9a92a34f>:12: SettingWithCopyWarning: \n",
            "A value is trying to be set on a copy of a slice from a DataFrame.\n",
            "Try using .loc[row_indexer,col_indexer] = value instead\n",
            "\n",
            "See the caveats in the documentation: https://pandas.pydata.org/pandas-docs/stable/user_guide/indexing.html#returning-a-view-versus-a-copy\n",
            "  top4_df2['Job Category'] = top4_df2.apply(calculateJobCategory, axis=1)\n",
            "<ipython-input-28-1ecf9a92a34f>:13: SettingWithCopyWarning: \n",
            "A value is trying to be set on a copy of a slice from a DataFrame.\n",
            "Try using .loc[row_indexer,col_indexer] = value instead\n",
            "\n",
            "See the caveats in the documentation: https://pandas.pydata.org/pandas-docs/stable/user_guide/indexing.html#returning-a-view-versus-a-copy\n",
            "  winners_df2['Job Category'] = winners_df2.apply(calculateJobCategory, axis=1)\n"
          ]
        },
        {
          "output_type": "execute_result",
          "data": {
            "text/plain": [
              "Sales                        16\n",
              "Management and Consulting    14\n",
              "Sports                       10\n",
              "not found                     6\n",
              "Finance                       5\n",
              "Real Estate                   5\n",
              "Arts                          4\n",
              "Construction                  4\n",
              "Medical                       3\n",
              "Marketing                     2\n",
              "Engineering                   2\n",
              "Army or Veteran               2\n",
              "Teaching                      1\n",
              "Flight                        1\n",
              "Therapy                       1\n",
              "Name: Job Category, dtype: int64"
            ]
          },
          "metadata": {},
          "execution_count": 28
        }
      ]
    },
    {
      "cell_type": "code",
      "source": [
        "top4_df2"
      ],
      "metadata": {
        "colab": {
          "base_uri": "https://localhost:8080/",
          "height": 423
        },
        "id": "zlSRh4RK2tiX",
        "outputId": "a60e2066-c6e6-45b4-f8dc-01026d61dae1"
      },
      "execution_count": 20,
      "outputs": [
        {
          "output_type": "execute_result",
          "data": {
            "text/plain": [
              "     Season             Name  Age              Town           State  \\\n",
              "0         1      Ryan Sutter   28              Vail        Colorado   \n",
              "1         1    Charlie Maher   28     Hermosa Beach      California   \n",
              "2         1    Russell Woods   31        San Rafael      California   \n",
              "3         1     Greg Todtman   28         Manhattan        New York   \n",
              "25        2        Ian McKee   29          New York        New York   \n",
              "..      ...              ...  ...               ...             ...   \n",
              "470      18   Rodney Mathews   29  Rancho Cucamonga      California   \n",
              "497      19      Tino Franco   28          Valencia      California   \n",
              "498      19     Erich Schwer   29        Bedminster      New Jersey   \n",
              "499      19       Aven Jones   28           Beverly   Massachusetts   \n",
              "500      19  Zach Shallcross   25     Anaheim Hills      California   \n",
              "\n",
              "                   Occupation    Outcome               Job Category  \n",
              "0                 Firefighter     Winner                  not found  \n",
              "1           Financial Analyst  Runner-up                    Finance  \n",
              "2                      Writer     Week 5                       Arts  \n",
              "3                    Importer     Week 4                  not found  \n",
              "25   Equity Research Salesman     Winner                    Finance  \n",
              "..                        ...        ...                        ...  \n",
              "470      Sales Representative     Week 7                      Sales  \n",
              "497        General Contractor     Winner               Construction  \n",
              "498       Real Estate Analyst     Winner                Real Estate  \n",
              "499           Sales Executive  Runner-Up                      Sales  \n",
              "500            Tech Executive     Week 8  Management and Consulting  \n",
              "\n",
              "[76 rows x 8 columns]"
            ],
            "text/html": [
              "\n",
              "  <div id=\"df-ce181f56-44c1-4cac-a440-493dca6d68a5\">\n",
              "    <div class=\"colab-df-container\">\n",
              "      <div>\n",
              "<style scoped>\n",
              "    .dataframe tbody tr th:only-of-type {\n",
              "        vertical-align: middle;\n",
              "    }\n",
              "\n",
              "    .dataframe tbody tr th {\n",
              "        vertical-align: top;\n",
              "    }\n",
              "\n",
              "    .dataframe thead th {\n",
              "        text-align: right;\n",
              "    }\n",
              "</style>\n",
              "<table border=\"1\" class=\"dataframe\">\n",
              "  <thead>\n",
              "    <tr style=\"text-align: right;\">\n",
              "      <th></th>\n",
              "      <th>Season</th>\n",
              "      <th>Name</th>\n",
              "      <th>Age</th>\n",
              "      <th>Town</th>\n",
              "      <th>State</th>\n",
              "      <th>Occupation</th>\n",
              "      <th>Outcome</th>\n",
              "      <th>Job Category</th>\n",
              "    </tr>\n",
              "  </thead>\n",
              "  <tbody>\n",
              "    <tr>\n",
              "      <th>0</th>\n",
              "      <td>1</td>\n",
              "      <td>Ryan Sutter</td>\n",
              "      <td>28</td>\n",
              "      <td>Vail</td>\n",
              "      <td>Colorado</td>\n",
              "      <td>Firefighter</td>\n",
              "      <td>Winner</td>\n",
              "      <td>not found</td>\n",
              "    </tr>\n",
              "    <tr>\n",
              "      <th>1</th>\n",
              "      <td>1</td>\n",
              "      <td>Charlie Maher</td>\n",
              "      <td>28</td>\n",
              "      <td>Hermosa Beach</td>\n",
              "      <td>California</td>\n",
              "      <td>Financial Analyst</td>\n",
              "      <td>Runner-up</td>\n",
              "      <td>Finance</td>\n",
              "    </tr>\n",
              "    <tr>\n",
              "      <th>2</th>\n",
              "      <td>1</td>\n",
              "      <td>Russell Woods</td>\n",
              "      <td>31</td>\n",
              "      <td>San Rafael</td>\n",
              "      <td>California</td>\n",
              "      <td>Writer</td>\n",
              "      <td>Week 5</td>\n",
              "      <td>Arts</td>\n",
              "    </tr>\n",
              "    <tr>\n",
              "      <th>3</th>\n",
              "      <td>1</td>\n",
              "      <td>Greg Todtman</td>\n",
              "      <td>28</td>\n",
              "      <td>Manhattan</td>\n",
              "      <td>New York</td>\n",
              "      <td>Importer</td>\n",
              "      <td>Week 4</td>\n",
              "      <td>not found</td>\n",
              "    </tr>\n",
              "    <tr>\n",
              "      <th>25</th>\n",
              "      <td>2</td>\n",
              "      <td>Ian McKee</td>\n",
              "      <td>29</td>\n",
              "      <td>New York</td>\n",
              "      <td>New York</td>\n",
              "      <td>Equity Research Salesman</td>\n",
              "      <td>Winner</td>\n",
              "      <td>Finance</td>\n",
              "    </tr>\n",
              "    <tr>\n",
              "      <th>...</th>\n",
              "      <td>...</td>\n",
              "      <td>...</td>\n",
              "      <td>...</td>\n",
              "      <td>...</td>\n",
              "      <td>...</td>\n",
              "      <td>...</td>\n",
              "      <td>...</td>\n",
              "      <td>...</td>\n",
              "    </tr>\n",
              "    <tr>\n",
              "      <th>470</th>\n",
              "      <td>18</td>\n",
              "      <td>Rodney Mathews</td>\n",
              "      <td>29</td>\n",
              "      <td>Rancho Cucamonga</td>\n",
              "      <td>California</td>\n",
              "      <td>Sales Representative</td>\n",
              "      <td>Week 7</td>\n",
              "      <td>Sales</td>\n",
              "    </tr>\n",
              "    <tr>\n",
              "      <th>497</th>\n",
              "      <td>19</td>\n",
              "      <td>Tino Franco</td>\n",
              "      <td>28</td>\n",
              "      <td>Valencia</td>\n",
              "      <td>California</td>\n",
              "      <td>General Contractor</td>\n",
              "      <td>Winner</td>\n",
              "      <td>Construction</td>\n",
              "    </tr>\n",
              "    <tr>\n",
              "      <th>498</th>\n",
              "      <td>19</td>\n",
              "      <td>Erich Schwer</td>\n",
              "      <td>29</td>\n",
              "      <td>Bedminster</td>\n",
              "      <td>New Jersey</td>\n",
              "      <td>Real Estate Analyst</td>\n",
              "      <td>Winner</td>\n",
              "      <td>Real Estate</td>\n",
              "    </tr>\n",
              "    <tr>\n",
              "      <th>499</th>\n",
              "      <td>19</td>\n",
              "      <td>Aven Jones</td>\n",
              "      <td>28</td>\n",
              "      <td>Beverly</td>\n",
              "      <td>Massachusetts</td>\n",
              "      <td>Sales Executive</td>\n",
              "      <td>Runner-Up</td>\n",
              "      <td>Sales</td>\n",
              "    </tr>\n",
              "    <tr>\n",
              "      <th>500</th>\n",
              "      <td>19</td>\n",
              "      <td>Zach Shallcross</td>\n",
              "      <td>25</td>\n",
              "      <td>Anaheim Hills</td>\n",
              "      <td>California</td>\n",
              "      <td>Tech Executive</td>\n",
              "      <td>Week 8</td>\n",
              "      <td>Management and Consulting</td>\n",
              "    </tr>\n",
              "  </tbody>\n",
              "</table>\n",
              "<p>76 rows × 8 columns</p>\n",
              "</div>\n",
              "      <button class=\"colab-df-convert\" onclick=\"convertToInteractive('df-ce181f56-44c1-4cac-a440-493dca6d68a5')\"\n",
              "              title=\"Convert this dataframe to an interactive table.\"\n",
              "              style=\"display:none;\">\n",
              "        \n",
              "  <svg xmlns=\"http://www.w3.org/2000/svg\" height=\"24px\"viewBox=\"0 0 24 24\"\n",
              "       width=\"24px\">\n",
              "    <path d=\"M0 0h24v24H0V0z\" fill=\"none\"/>\n",
              "    <path d=\"M18.56 5.44l.94 2.06.94-2.06 2.06-.94-2.06-.94-.94-2.06-.94 2.06-2.06.94zm-11 1L8.5 8.5l.94-2.06 2.06-.94-2.06-.94L8.5 2.5l-.94 2.06-2.06.94zm10 10l.94 2.06.94-2.06 2.06-.94-2.06-.94-.94-2.06-.94 2.06-2.06.94z\"/><path d=\"M17.41 7.96l-1.37-1.37c-.4-.4-.92-.59-1.43-.59-.52 0-1.04.2-1.43.59L10.3 9.45l-7.72 7.72c-.78.78-.78 2.05 0 2.83L4 21.41c.39.39.9.59 1.41.59.51 0 1.02-.2 1.41-.59l7.78-7.78 2.81-2.81c.8-.78.8-2.07 0-2.86zM5.41 20L4 18.59l7.72-7.72 1.47 1.35L5.41 20z\"/>\n",
              "  </svg>\n",
              "      </button>\n",
              "      \n",
              "  <style>\n",
              "    .colab-df-container {\n",
              "      display:flex;\n",
              "      flex-wrap:wrap;\n",
              "      gap: 12px;\n",
              "    }\n",
              "\n",
              "    .colab-df-convert {\n",
              "      background-color: #E8F0FE;\n",
              "      border: none;\n",
              "      border-radius: 50%;\n",
              "      cursor: pointer;\n",
              "      display: none;\n",
              "      fill: #1967D2;\n",
              "      height: 32px;\n",
              "      padding: 0 0 0 0;\n",
              "      width: 32px;\n",
              "    }\n",
              "\n",
              "    .colab-df-convert:hover {\n",
              "      background-color: #E2EBFA;\n",
              "      box-shadow: 0px 1px 2px rgba(60, 64, 67, 0.3), 0px 1px 3px 1px rgba(60, 64, 67, 0.15);\n",
              "      fill: #174EA6;\n",
              "    }\n",
              "\n",
              "    [theme=dark] .colab-df-convert {\n",
              "      background-color: #3B4455;\n",
              "      fill: #D2E3FC;\n",
              "    }\n",
              "\n",
              "    [theme=dark] .colab-df-convert:hover {\n",
              "      background-color: #434B5C;\n",
              "      box-shadow: 0px 1px 3px 1px rgba(0, 0, 0, 0.15);\n",
              "      filter: drop-shadow(0px 1px 2px rgba(0, 0, 0, 0.3));\n",
              "      fill: #FFFFFF;\n",
              "    }\n",
              "  </style>\n",
              "\n",
              "      <script>\n",
              "        const buttonEl =\n",
              "          document.querySelector('#df-ce181f56-44c1-4cac-a440-493dca6d68a5 button.colab-df-convert');\n",
              "        buttonEl.style.display =\n",
              "          google.colab.kernel.accessAllowed ? 'block' : 'none';\n",
              "\n",
              "        async function convertToInteractive(key) {\n",
              "          const element = document.querySelector('#df-ce181f56-44c1-4cac-a440-493dca6d68a5');\n",
              "          const dataTable =\n",
              "            await google.colab.kernel.invokeFunction('convertToInteractive',\n",
              "                                                     [key], {});\n",
              "          if (!dataTable) return;\n",
              "\n",
              "          const docLinkHtml = 'Like what you see? Visit the ' +\n",
              "            '<a target=\"_blank\" href=https://colab.research.google.com/notebooks/data_table.ipynb>data table notebook</a>'\n",
              "            + ' to learn more about interactive tables.';\n",
              "          element.innerHTML = '';\n",
              "          dataTable['output_type'] = 'display_data';\n",
              "          await google.colab.output.renderOutput(dataTable, element);\n",
              "          const docLink = document.createElement('div');\n",
              "          docLink.innerHTML = docLinkHtml;\n",
              "          element.appendChild(docLink);\n",
              "        }\n",
              "      </script>\n",
              "    </div>\n",
              "  </div>\n",
              "  "
            ]
          },
          "metadata": {},
          "execution_count": 20
        }
      ]
    },
    {
      "cell_type": "markdown",
      "source": [
        "# Visualization of Contestant Demographics"
      ],
      "metadata": {
        "id": "JZpvsBIATHEx"
      }
    },
    {
      "cell_type": "markdown",
      "source": [
        "## Contestants by Age"
      ],
      "metadata": {
        "id": "v6Cv81-CUBuF"
      }
    },
    {
      "cell_type": "markdown",
      "source": [
        "To start our investigation into contestants' age, we will first show boxplots of all contestant ages by season for both franchises."
      ],
      "metadata": {
        "id": "IdXVgkoIGubh"
      }
    },
    {
      "cell_type": "code",
      "source": [
        "fig, ax = plt.subplots(nrows = 2, ncols = 1, figsize=(15, 12))\n",
        "\n",
        "#distribution of ALL Contestant ages by season: Bachelor\n",
        "sns.boxplot(x='Season', y='Age', data = contestants_df, ax=ax[0])\n",
        "ax[0].set_title(\"Distribution of Female Contestant Ages by Season: The Bachelor\")\n",
        "\n",
        "#distribution of ALL Contestant ages by season: Bachelorette\n",
        "sns.boxplot(x='Season', y='Age', data = contestants_df2, ax=ax[1])\n",
        "ax[1].set_title(\"Distribution of Male Contestant Ages by Season: The Bachelorette\") \n",
        "# show the graph\n",
        "plt.show()"
      ],
      "metadata": {
        "id": "gfZEBgpkSgYg",
        "colab": {
          "base_uri": "https://localhost:8080/",
          "height": 730
        },
        "outputId": "b6068a9d-07a1-4848-f210-dfb749d9cedc"
      },
      "execution_count": 21,
      "outputs": [
        {
          "output_type": "display_data",
          "data": {
            "text/plain": [
              "<Figure size 1080x864 with 2 Axes>"
            ],
            "image/png": "[encoded data removed]"
          },
          "metadata": {
            "needs_background": "light"
          }
        }
      ]
    },
    {
      "cell_type": "markdown",
      "source": [
        "**Overall (all Contestants, all Seasons) mean ages were as follows:**  \n",
        "\n",
        "Female Mean Age: 26.3 years old \n",
        "\n",
        "Male Mean Age: 29.1 years old \n"
      ],
      "metadata": {
        "id": "Sru2NN3DQYnz"
      }
    },
    {
      "cell_type": "markdown",
      "source": [
        "Now, we will examine how the distribution of contestant ages for all seasons on the Bachelor varies Overall, among the Top 4 contestants, and among the Winners."
      ],
      "metadata": {
        "id": "6W1VJ1xvrYVG"
      }
    },
    {
      "cell_type": "code",
      "source": [
        "df_list = [contestants_df, top4_df, winners_df]\n",
        "df_names = ['Overall', 'Top 4', 'Winners']\n",
        "colors = ['thistle', 'plum', 'violet']\n",
        "fig, axes = plt.subplots(nrows = 1, ncols = 3, figsize = (10,8))\n",
        "\n",
        "for c in range(3):\n",
        "  sns.boxplot(y='Age', data = df_list[c], ax=axes[c], color=colors[c], \n",
        "              showmeans = True, meanprops = {'marker': 'o',\n",
        "                                             'markerfacecolor': 'white',\n",
        "                                             'markeredgecolor': 'black',\n",
        "                                             'markersize': 7})\n",
        "  axes[c].set(ylabel='', xlabel=df_names[c])\n",
        "  axes[c].set_ylim(20,37)\n",
        "  axes[c].set_facecolor\n",
        "\n",
        "fig.subplots_adjust(top=0.9)\n",
        "fig.suptitle(\"Distribution of Female Contestant Ages on The Bachelor\")\n",
        "plt.show()"
      ],
      "metadata": {
        "colab": {
          "base_uri": "https://localhost:8080/",
          "height": 544
        },
        "id": "mZPAb8wBq3dT",
        "outputId": "2bf87a15-1cfa-4897-91b4-79faa187bb4f"
      },
      "execution_count": 22,
      "outputs": [
        {
          "output_type": "display_data",
          "data": {
            "text/plain": [
              "<Figure size 720x576 with 3 Axes>"
            ],
            "image/png": "[encoded data removed]"
          },
          "metadata": {
            "needs_background": "light"
          }
        }
      ]
    },
    {
      "cell_type": "markdown",
      "source": [
        "The boxplot demonstrates that the mean age Overall (all contestants) is slightly over 26, but for the Top 4 and the Winners, it slightly decreases to 25, with the Winners having the lowest mean age. We see that the variability in age also decreases from Overall to Top 4 to Winners. No woman over 29 has won the show before. This supports our hypothesis that the Bachelors tend to favor younger women, with ages 23-27 being the most popular."
      ],
      "metadata": {
        "id": "KxDdJ2Kt_1If"
      }
    },
    {
      "cell_type": "code",
      "source": [
        "df_list = [contestants_df2, top4_df2, winners_df2]\n",
        "df_names = ['Overall', 'Top 4', 'Winners']\n",
        "colors = ['skyblue', 'paleturquoise', 'mediumturquoise']\n",
        "fig, axes = plt.subplots(nrows = 1, ncols = 3, figsize = (10,8))\n",
        "\n",
        "for c in range(3):\n",
        "  sns.boxplot(y='Age', data = df_list[c], ax=axes[c], color=colors[c], \n",
        "              showmeans = True, meanprops = {'marker': 'o',\n",
        "                                             'markerfacecolor': 'white',\n",
        "                                             'markeredgecolor': 'black',\n",
        "                                             'markersize': 7})\n",
        "  axes[c].set(ylabel='', xlabel=df_names[c])\n",
        "  axes[c].set_ylim(22, 45)\n",
        "  axes[c].set_facecolor\n",
        "\n",
        "fig.subplots_adjust(top=0.9)\n",
        "fig.suptitle(\"Distribution of Male Contestant Ages on The Bachelorette\")\n",
        "plt.show()"
      ],
      "metadata": {
        "colab": {
          "base_uri": "https://localhost:8080/",
          "height": 544
        },
        "id": "Scws0jvvA_oY",
        "outputId": "c5ae374e-8703-4072-91c8-5f9392f7080a"
      },
      "execution_count": 23,
      "outputs": [
        {
          "output_type": "display_data",
          "data": {
            "text/plain": [
              "<Figure size 720x576 with 3 Axes>"
            ],
            "image/png": "[encoded data removed]"
          },
          "metadata": {
            "needs_background": "light"
          }
        }
      ]
    },
    {
      "cell_type": "markdown",
      "source": [
        "The mean age of male contestants looks to be around 28 years old for all subgroups- Overall, Top 4, and Winners. The distributions of the Overall and Top 4 groups are quite similar, except for a few outliers in the Overall grouping. For Winners, the IQR is much smaller. The majority of Winners are between ages 27-29. This narrow range of low age values is smaller than we expected; we expected more of the men who won to be in their early thirties. \n",
        "\n",
        "We had expected age to be a factor the Bachelors used to narrow down their top choices among the women, but the Bachelorettes seem to also be quite selective in their age preference of men!"
      ],
      "metadata": {
        "id": "_hxVX1tHCg2w"
      }
    },
    {
      "cell_type": "markdown",
      "source": [
        "## Contestants by Occupation"
      ],
      "metadata": {
        "id": "iCocligEzlZJ"
      }
    },
    {
      "cell_type": "markdown",
      "source": [
        "To determine the most common occupations among Winners or contestants who place in the Top 4, we will use a barplot, including the 7 most popular job categories."
      ],
      "metadata": {
        "id": "6i-5jcl6NFOD"
      }
    },
    {
      "cell_type": "code",
      "source": [
        "#Job Categories for: Top 4 female contestants AND Winning contestants: The Bachelor\n",
        "fig, axes = plt.subplots(nrows = 1, ncols = 2, figsize = (10,8))\n",
        "\n",
        "order_top4 = top4_df[\"Job Category\"].value_counts().iloc[:7].index\n",
        "order_winners = winners_df[\"Job Category\"].value_counts().iloc[:7].index\n",
        "\n",
        "sns.countplot(x = top4_df[\"Job Category\"], color=\"pink\", ax = axes[0],\n",
        "              order=order_top4).set(title=\"Top 4\")\n",
        "axes[0].set_xticklabels(order_top4, rotation = 70)\n",
        "\n",
        "sns.countplot(x = winners_df[\"Job Category\"], color=\"coral\", ax = axes[1],\n",
        "              order=order_winners).set(title=\"Winners\")\n",
        "axes[1].set_xticklabels(order_winners, rotation = 70)\n",
        "\n",
        "fig.suptitle('Most Common Job Categories of High-Performing Female Bachelor Contestants')\n",
        "sns.despine()"
      ],
      "metadata": {
        "id": "ND0vDhywUXVl",
        "colab": {
          "base_uri": "https://localhost:8080/",
          "height": 683
        },
        "outputId": "6753021a-c793-4362-a88c-dde63d0f2053"
      },
      "execution_count": 34,
      "outputs": [
        {
          "output_type": "display_data",
          "data": {
            "text/plain": [
              "<Figure size 720x576 with 2 Axes>"
            ],
            "image/png": "[encoded data removed]"
          },
          "metadata": {
            "needs_background": "light"
          }
        }
      ]
    },
    {
      "cell_type": "markdown",
      "source": [
        "Arts and Medicine are the leading job categories for female Winners, with categories Therapy, Teaching, Marketing, and Modeling tied with 2 wins each. \n",
        "Arts, marketing, teaching, and medicine are common among both the Top 4 and just Winners. Arts and Marketing are the most common field among contestants who made Top 4. We would expect marketing to be a common occupation for many Bachelor contestants, as the show's contestants sometimes are hopeful to build an influencer career after appearing on the show.\n",
        "\n",
        "Next, we will do the same visualization of most common Job Categories for the male contestants on The Bachelorette."
      ],
      "metadata": {
        "id": "QdqobsG0Ve67"
      }
    },
    {
      "cell_type": "code",
      "source": [
        "#Job Categories for: Top 4 Male contestants AND Winning Male contestants: The Bachelorette\n",
        "fig, axes = plt.subplots(nrows = 1, ncols = 2, figsize = (10,8))\n",
        "\n",
        "order_top42 = top4_df2[\"Job Category\"].value_counts().iloc[:7].index\n",
        "order_winners2 = winners_df2[\"Job Category\"].value_counts().iloc[:7].index\n",
        "\n",
        "sns.countplot(x = top4_df2[\"Job Category\"], color=\"lightsteelblue\", ax = axes[0],\n",
        "              order=order_top42).set(title=\"Top 4\")\n",
        "axes[0].set_xticklabels(order_top42, rotation = 70)\n",
        "\n",
        "sns.countplot(x = winners_df2[\"Job Category\"], color=\"royalblue\", ax = axes[1],\n",
        "              order=order_winners2).set(title=\"Winners\")\n",
        "axes[1].set_xticklabels(order_winners2, rotation = 70)\n",
        "\n",
        "fig.suptitle('Most Common Job Categories of High-Performing Male Bachelorette Contestants')\n",
        "sns.despine()"
      ],
      "metadata": {
        "colab": {
          "base_uri": "https://localhost:8080/",
          "height": 683
        },
        "id": "LSNe54aWz9Gw",
        "outputId": "84e72459-a5d2-4f41-ed7d-58de8abc9bbb"
      },
      "execution_count": 35,
      "outputs": [
        {
          "output_type": "display_data",
          "data": {
            "text/plain": [
              "<Figure size 720x576 with 2 Axes>"
            ],
            "image/png": "[encoded data removed]"
          },
          "metadata": {
            "needs_background": "light"
          }
        }
      ]
    },
    {
      "cell_type": "markdown",
      "source": [
        "For males, Sports and Sales are the most common job categories for winners, with 4 and 3 winners, respectively. We expected Sports to be a high-performing category, as the show's Bachelorettes may be interested in dating an athlete. However, we had not considered how popular Sales would be. 16 contestants who made top 4 had sales jobs! We are curious if this is simply because lots of men who appear on the Bachelorette work in sales, or if men who work in sales know how to \"sell themselves\" as an ideal partner to the Bachelorette and push themselves far on the show."
      ],
      "metadata": {
        "id": "AY8Dhl1PV74u"
      }
    },
    {
      "cell_type": "markdown",
      "source": [
        "## Contestants by Home State"
      ],
      "metadata": {
        "id": "Lw4lIk7RUIXa"
      }
    },
    {
      "cell_type": "markdown",
      "source": [
        "Another potential predictor variable we wanted to analyze is Home State of the High Performing (Winners and Top 4) contestants. "
      ],
      "metadata": {
        "id": "krzmiDlSRGvS"
      }
    },
    {
      "cell_type": "code",
      "source": [
        "#Popular home states for Overall, Winners, and Top 4: The Bachelor\n",
        "fig, axes = plt.subplots(nrows = 1, ncols = 3, figsize = (20,8))\n",
        "\n",
        "order_overall = contestants_df[\"State\"].value_counts().iloc[:9].index\n",
        "order_top4 = top4_df[\"State\"].value_counts().iloc[:9].index\n",
        "order_winners = winners_df[\"State\"].value_counts().iloc[:9].index\n",
        "\n",
        "sns.countplot(x = contestants_df[\"State\"], color=\"palevioletred\", ax = axes[0],\n",
        "              order=order_overall).set(title=\"Overall\")\n",
        "axes[0].set_xticklabels(order_overall, rotation = 70)\n",
        "\n",
        "sns.countplot(x = top4_df[\"State\"], color=\"pink\", ax = axes[1],\n",
        "              order=order_top4).set(title=\"Top 4\")\n",
        "axes[1].set_xticklabels(order_top4, rotation = 70)\n",
        "\n",
        "sns.countplot(x = winners_df[\"State\"], color=\"coral\", ax = axes[2],\n",
        "              order=order_winners).set(title=\"Winners\")\n",
        "axes[2].set_xticklabels(order_winners, rotation = 70)\n",
        "\n",
        "fig.suptitle('Most Common Home States of Female Bachelor Contestants')\n",
        "sns.despine()"
      ],
      "metadata": {
        "colab": {
          "base_uri": "https://localhost:8080/",
          "height": 613
        },
        "id": "oovOsOcAKEdW",
        "outputId": "b99ea084-d2bb-4a86-c53c-c140e76da258"
      },
      "execution_count": 36,
      "outputs": [
        {
          "output_type": "display_data",
          "data": {
            "text/plain": [
              "<Figure size 1440x576 with 3 Axes>"
            ],
            "image/png": "[encoded data removed]"
          },
          "metadata": {
            "needs_background": "light"
          }
        }
      ]
    },
    {
      "cell_type": "markdown",
      "source": [
        "Here we can see that many of the high performing contestants (Winners and Top 4) live in California and Florida. Many top 4 contestants also are from Texas. These three states are the most represented among all contestants, so this is not surprising. However, it is a bit interesting that Illinois and New York are the next two most popular states overall, and no winners have come from either of those two states (and only one person from both those states has even reached the top 4!).\n",
        "\n",
        "Now, we will take a look at home state among contestants on the Bachelorette."
      ],
      "metadata": {
        "id": "mtZ98zl6Ks2e"
      }
    },
    {
      "cell_type": "code",
      "source": [
        "#Popular home states for Overall, Winners, and Top 4: The Bachelorette\n",
        "fig, axes = plt.subplots(nrows = 1, ncols = 3, figsize = (20,8))\n",
        "\n",
        "order_overall2 = contestants_df2[\"State\"].value_counts().iloc[:9].index\n",
        "order_top4_2 = top4_df2[\"State\"].value_counts().iloc[:9].index\n",
        "order_winners2 = winners_df2[\"State\"].value_counts().iloc[:9].index\n",
        "\n",
        "sns.countplot(x = contestants_df2[\"State\"], color=\"paleturquoise\", ax = axes[0],\n",
        "              order=order_overall2).set(title=\"Overall\")\n",
        "axes[0].set_xticklabels(order_overall2, rotation = 70)\n",
        "\n",
        "sns.countplot(x = top4_df2[\"State\"], color=\"lightsteelblue\", ax = axes[1],\n",
        "              order=order_top4_2).set(title=\"Top 4\")\n",
        "axes[1].set_xticklabels(order_top4_2, rotation = 70)\n",
        "\n",
        "sns.countplot(x = winners_df2[\"State\"], color=\"royalblue\", ax = axes[2],\n",
        "              order=order_winners2).set(title=\"Winners\")\n",
        "axes[2].set_xticklabels(order_winners2, rotation = 70)\n",
        "\n",
        "fig.suptitle('Most Common Home State of Male Bachelorette Contestants')\n",
        "sns.despine()"
      ],
      "metadata": {
        "id": "TWI_b6xaUX1W",
        "colab": {
          "base_uri": "https://localhost:8080/",
          "height": 620
        },
        "outputId": "0f3ad633-5b5e-47f7-ba9d-5f7c6927a759"
      },
      "execution_count": 37,
      "outputs": [
        {
          "output_type": "display_data",
          "data": {
            "text/plain": [
              "<Figure size 1440x576 with 3 Axes>"
            ],
            "image/png": "[encoded data removed]"
          },
          "metadata": {
            "needs_background": "light"
          }
        }
      ]
    },
    {
      "cell_type": "markdown",
      "source": [
        "Similarly to the Bachelor, most Bachelorette contestants are from California, Texas, Illinois, Florida, and New York. After observing both the plots for the men and womens' home states, we observe that while Texans are one of the largest categories overall and in the Top 4, only one has actually won one of the shows before!"
      ],
      "metadata": {
        "id": "hbOHycgbRZMt"
      }
    },
    {
      "cell_type": "markdown",
      "source": [
        "# Next Steps"
      ],
      "metadata": {
        "id": "QJ7q6jgO28sH"
      }
    },
    {
      "cell_type": "markdown",
      "source": [
        "Some ideas for our next steps would be to find data pertaining to more specific happenings of episodes! We could use this to move beyond demographic data and investigate:\n",
        "\n",
        "1. What is the probability of winning/making top 4 if you are awarded the coveted \"first impression rose\"? \n",
        "2. For couples from the Bachelor, the median relationship length is less than half a year! Are the couples who went on more one-on-one dates the ones who stayed together longer? \n",
        "3. Is there a significant difference between the proportion of couples from the Bachelor versus Bachelorette who last at least one year?"
      ],
      "metadata": {
        "id": "YgFEx7Yy2-iM"
      }
    }
  ]
}