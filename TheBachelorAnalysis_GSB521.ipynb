{
  "nbformat": 4,
  "nbformat_minor": 0,
  "metadata": {
    "colab": {
      "provenance": [],
      "authorship_tag": "ABX9TyO4+ZAxA87nx1sVoBn15s8y",
      "include_colab_link": true
    },
    "kernelspec": {
      "name": "python3",
      "display_name": "Python 3"
    },
    "language_info": {
      "name": "python"
    }
  },
  "cells": [
    {
      "cell_type": "markdown",
      "metadata": {
        "id": "view-in-github",
        "colab_type": "text"
      },
      "source": [
        "<a href=\"https://colab.research.google.com/github/melissamelton/BachelorAnalysis/blob/main/TheBachelorAnalysis_GSB521.ipynb\" target=\"_parent\"><img src=\"https://colab.research.google.com/assets/colab-badge.svg\" alt=\"Open In Colab\"/></a>"
      ]
    },
    {
      "cell_type": "code",
      "execution_count": 102,
      "metadata": {
        "id": "kdMFQi65MbCU"
      },
      "outputs": [],
      "source": [
        "import pandas as pd\n",
        "import requests\n",
        "import numpy as np\n",
        "from bs4 import BeautifulSoup\n",
        "import matplotlib.pyplot as plt\n",
        "import seaborn as sns"
      ]
    },
    {
      "cell_type": "markdown",
      "source": [
        "# The Bachelor Data Gathering & Cleaning"
      ],
      "metadata": {
        "id": "OowWTRUtowuP"
      }
    },
    {
      "cell_type": "markdown",
      "source": [
        "Obtain a list of the seasons we can scrape data from on Wikipedia:"
      ],
      "metadata": {
        "id": "uufMShKpQAJe"
      }
    },
    {
      "cell_type": "code",
      "source": [
        "# The Bachelor has had 26 seasons so far (27 is currently airing so it will not be included)\n",
        "seasons = np.arange(1, 27, 1)\n",
        "# seasons 3, 4, and 6-8 do not have contestant data on Wikipedia\n",
        "missing_table = {3, 4, 6, 7, 8}\n",
        "# obtain list of season numbers which have contestant data on their wiki page\n",
        "seasons = [x for x in seasons if x not in missing_table]"
      ],
      "metadata": {
        "id": "MR8Cvhw2Oglh"
      },
      "execution_count": 75,
      "outputs": []
    },
    {
      "cell_type": "markdown",
      "source": [
        "We will now use the BeautifulSoup library to scrape data about contestants from Wikipedia."
      ],
      "metadata": {
        "id": "7fhBvdVWQF7g"
      }
    },
    {
      "cell_type": "code",
      "source": [
        "contestants_df = pd.DataFrame()\n",
        "urlstart = \"https://en.wikipedia.org/wiki/The_Bachelor_(American_season_\"\n",
        "\n",
        "def seasons_scrape(seasons, contestants_df, urlstart):\n",
        "  # loop through seasons\n",
        "  for i in range(0, len(seasons)):\n",
        "    # write the url for specific season\n",
        "    wikiurl = urlstart + str(seasons[i]) + \")\"\n",
        "    table_class = \"wikitable sortable jquery-tablesorter\"\n",
        "    response = requests.get(wikiurl)\n",
        "    # parse data from html\n",
        "    soup = BeautifulSoup(response.text, 'html.parser')\n",
        "    contestant_table = soup.find('table', {'class':\"wikitable\"})\n",
        "    df = pd.read_html(str(contestant_table))\n",
        "    # convert list to dataframe\n",
        "    df = pd.DataFrame(df[0])\n",
        "    # add column for the season (value the same for all rows from that season)\n",
        "    df['Season'] = seasons[i]\n",
        "    # seasons 1 and 2 have a different label for the Outcome and Occupation columns\n",
        "    if 'Eliminated' in df.columns and 'Job' in df.columns:\n",
        "      df.rename(columns = {'Eliminated': 'Outcome',\n",
        "                           'Job': 'Occupation'}, inplace = True)\n",
        "    # keep only desired columns\n",
        "    df = df[['Season', 'Name', 'Age', 'Hometown', 'Occupation', 'Outcome']]\n",
        "    contestants_df = contestants_df.append(df, ignore_index = True)\n",
        "  return contestants_df\n"
      ],
      "metadata": {
        "id": "gkwTqnsZRW2S"
      },
      "execution_count": 74,
      "outputs": []
    },
    {
      "cell_type": "code",
      "source": [
        "contestants_df = seasons_scrape(seasons, contestants_df, urlstart)"
      ],
      "metadata": {
        "id": "Qb55kE9fUoBI"
      },
      "execution_count": 76,
      "outputs": []
    },
    {
      "cell_type": "markdown",
      "source": [
        "Unfortunately, full contestant data cannot be found online for seasons 3, 4, 6, 7, and 8 (even the Bachelor Nation fandom Wiki does not have it). So, our resulting dataframe only represents 21 of the 26 full seasons."
      ],
      "metadata": {
        "id": "FAEIO0jRpRM0"
      }
    },
    {
      "cell_type": "markdown",
      "source": [
        "Perform some clean-up on the contestants_df dataframe."
      ],
      "metadata": {
        "id": "WA6q-F-8YKyF"
      }
    },
    {
      "cell_type": "code",
      "source": [
        "# sometimes contestants will leave one week then return a later week. Remove the\n",
        "# rows from the table which reference them leaving (the info we care about is stored\n",
        "# in another row, including their final placement)\n",
        "contestants_df[contestants_df['Age'] == \"(Returned to competition)\"]\n",
        "\n",
        "# remove these rows -- the data for these contestants is still in the table, just a different row\n",
        "contestants_df = contestants_df[contestants_df['Age'] != \"(Returned to competition)\"]"
      ],
      "metadata": {
        "id": "RYqlqXvWhZ2c"
      },
      "execution_count": 68,
      "outputs": []
    },
    {
      "cell_type": "code",
      "source": [
        "# some contestants' names had hyperlinks. Remove the references attached\n",
        "contestants_df['Name'] = contestants_df['Name'].apply(lambda x: x.split('[')[0]\n",
        "                                                      if '[' in x else x)\n",
        "# separate town and state into their own columns\n",
        "hometowns = contestants_df['Hometown'].str.split(',', expand = True)\n",
        "contestants_df[['Town', 'State']] = hometowns.iloc[:, :-1]\n",
        "# make sure age is numeric\n",
        "contestants_df['Age'] = pd.to_numeric(contestants_df['Age'])\n",
        "\n",
        "# keep desired columns\n",
        "cols = ['Season', 'Name', 'Age', 'Town', 'State', 'Occupation', 'Outcome']\n",
        "contestants_df = contestants_df[cols]"
      ],
      "metadata": {
        "id": "jB5GgA8ohX_U"
      },
      "execution_count": 69,
      "outputs": []
    },
    {
      "cell_type": "code",
      "source": [
        "contestants_df"
      ],
      "metadata": {
        "colab": {
          "base_uri": "https://localhost:8080/",
          "height": 423
        },
        "id": "wa2-Huk0oboM",
        "outputId": "82a1e8ea-0a90-4b32-a805-f15250dc4a3d"
      },
      "execution_count": 70,
      "outputs": [
        {
          "output_type": "execute_result",
          "data": {
            "text/plain": [
              "     Season               Name   Age            Town        State  \\\n",
              "0         1       Amanda Marsh  23.0         Chanute       Kansas   \n",
              "1         1        Trista Rehn  29.0           Miami      Florida   \n",
              "2         1     Shannon Oliver  24.0          Dallas        Texas   \n",
              "3         1                Kim  24.0           Tempe      Arizona   \n",
              "4         1       Cathy Grimes  22.0     Terre Haute      Indiana   \n",
              "..      ...                ...   ...             ...          ...   \n",
              "578      26          Jane Paik  33.0     Los Angeles   California   \n",
              "579      26      Lindsay Dobbs  27.0   Warner Robins      Georgia   \n",
              "580      26    Rianna Hockaday  26.0  Mount Pleasant        Texas   \n",
              "581      26  Samantha Jeffries  26.0          Dayton         Ohio   \n",
              "582      26      Claire Heilig  28.0  Virginia Beach     Virginia   \n",
              "\n",
              "                          Occupation    Outcome  \n",
              "0                      Event Planner     Winner  \n",
              "1                  Miami Heat Dancer  Runner-up  \n",
              "2    Financial Management Consultant     Week 5  \n",
              "3                              Nanny     Week 4  \n",
              "4                   Graduate Student     Week 3  \n",
              "..                               ...        ...  \n",
              "578            Social Media Director     Week 1  \n",
              "579                   Neonatal Nurse     Week 1  \n",
              "580                 Registered Nurse     Week 1  \n",
              "581           Occupational Therapist     Week 1  \n",
              "582                     Spray Tanner     Week 1  \n",
              "\n",
              "[579 rows x 7 columns]"
            ],
            "text/html": [
              "\n",
              "  <div id=\"df-fd6b9ae5-96d2-41ea-bc61-b8b923603ecf\">\n",
              "    <div class=\"colab-df-container\">\n",
              "      <div>\n",
              "<style scoped>\n",
              "    .dataframe tbody tr th:only-of-type {\n",
              "        vertical-align: middle;\n",
              "    }\n",
              "\n",
              "    .dataframe tbody tr th {\n",
              "        vertical-align: top;\n",
              "    }\n",
              "\n",
              "    .dataframe thead th {\n",
              "        text-align: right;\n",
              "    }\n",
              "</style>\n",
              "<table border=\"1\" class=\"dataframe\">\n",
              "  <thead>\n",
              "    <tr style=\"text-align: right;\">\n",
              "      <th></th>\n",
              "      <th>Season</th>\n",
              "      <th>Name</th>\n",
              "      <th>Age</th>\n",
              "      <th>Town</th>\n",
              "      <th>State</th>\n",
              "      <th>Occupation</th>\n",
              "      <th>Outcome</th>\n",
              "    </tr>\n",
              "  </thead>\n",
              "  <tbody>\n",
              "    <tr>\n",
              "      <th>0</th>\n",
              "      <td>1</td>\n",
              "      <td>Amanda Marsh</td>\n",
              "      <td>23.0</td>\n",
              "      <td>Chanute</td>\n",
              "      <td>Kansas</td>\n",
              "      <td>Event Planner</td>\n",
              "      <td>Winner</td>\n",
              "    </tr>\n",
              "    <tr>\n",
              "      <th>1</th>\n",
              "      <td>1</td>\n",
              "      <td>Trista Rehn</td>\n",
              "      <td>29.0</td>\n",
              "      <td>Miami</td>\n",
              "      <td>Florida</td>\n",
              "      <td>Miami Heat Dancer</td>\n",
              "      <td>Runner-up</td>\n",
              "    </tr>\n",
              "    <tr>\n",
              "      <th>2</th>\n",
              "      <td>1</td>\n",
              "      <td>Shannon Oliver</td>\n",
              "      <td>24.0</td>\n",
              "      <td>Dallas</td>\n",
              "      <td>Texas</td>\n",
              "      <td>Financial Management Consultant</td>\n",
              "      <td>Week 5</td>\n",
              "    </tr>\n",
              "    <tr>\n",
              "      <th>3</th>\n",
              "      <td>1</td>\n",
              "      <td>Kim</td>\n",
              "      <td>24.0</td>\n",
              "      <td>Tempe</td>\n",
              "      <td>Arizona</td>\n",
              "      <td>Nanny</td>\n",
              "      <td>Week 4</td>\n",
              "    </tr>\n",
              "    <tr>\n",
              "      <th>4</th>\n",
              "      <td>1</td>\n",
              "      <td>Cathy Grimes</td>\n",
              "      <td>22.0</td>\n",
              "      <td>Terre Haute</td>\n",
              "      <td>Indiana</td>\n",
              "      <td>Graduate Student</td>\n",
              "      <td>Week 3</td>\n",
              "    </tr>\n",
              "    <tr>\n",
              "      <th>...</th>\n",
              "      <td>...</td>\n",
              "      <td>...</td>\n",
              "      <td>...</td>\n",
              "      <td>...</td>\n",
              "      <td>...</td>\n",
              "      <td>...</td>\n",
              "      <td>...</td>\n",
              "    </tr>\n",
              "    <tr>\n",
              "      <th>578</th>\n",
              "      <td>26</td>\n",
              "      <td>Jane Paik</td>\n",
              "      <td>33.0</td>\n",
              "      <td>Los Angeles</td>\n",
              "      <td>California</td>\n",
              "      <td>Social Media Director</td>\n",
              "      <td>Week 1</td>\n",
              "    </tr>\n",
              "    <tr>\n",
              "      <th>579</th>\n",
              "      <td>26</td>\n",
              "      <td>Lindsay Dobbs</td>\n",
              "      <td>27.0</td>\n",
              "      <td>Warner Robins</td>\n",
              "      <td>Georgia</td>\n",
              "      <td>Neonatal Nurse</td>\n",
              "      <td>Week 1</td>\n",
              "    </tr>\n",
              "    <tr>\n",
              "      <th>580</th>\n",
              "      <td>26</td>\n",
              "      <td>Rianna Hockaday</td>\n",
              "      <td>26.0</td>\n",
              "      <td>Mount Pleasant</td>\n",
              "      <td>Texas</td>\n",
              "      <td>Registered Nurse</td>\n",
              "      <td>Week 1</td>\n",
              "    </tr>\n",
              "    <tr>\n",
              "      <th>581</th>\n",
              "      <td>26</td>\n",
              "      <td>Samantha Jeffries</td>\n",
              "      <td>26.0</td>\n",
              "      <td>Dayton</td>\n",
              "      <td>Ohio</td>\n",
              "      <td>Occupational Therapist</td>\n",
              "      <td>Week 1</td>\n",
              "    </tr>\n",
              "    <tr>\n",
              "      <th>582</th>\n",
              "      <td>26</td>\n",
              "      <td>Claire Heilig</td>\n",
              "      <td>28.0</td>\n",
              "      <td>Virginia Beach</td>\n",
              "      <td>Virginia</td>\n",
              "      <td>Spray Tanner</td>\n",
              "      <td>Week 1</td>\n",
              "    </tr>\n",
              "  </tbody>\n",
              "</table>\n",
              "<p>579 rows × 7 columns</p>\n",
              "</div>\n",
              "      <button class=\"colab-df-convert\" onclick=\"convertToInteractive('df-fd6b9ae5-96d2-41ea-bc61-b8b923603ecf')\"\n",
              "              title=\"Convert this dataframe to an interactive table.\"\n",
              "              style=\"display:none;\">\n",
              "        \n",
              "  <svg xmlns=\"http://www.w3.org/2000/svg\" height=\"24px\"viewBox=\"0 0 24 24\"\n",
              "       width=\"24px\">\n",
              "    <path d=\"M0 0h24v24H0V0z\" fill=\"none\"/>\n",
              "    <path d=\"M18.56 5.44l.94 2.06.94-2.06 2.06-.94-2.06-.94-.94-2.06-.94 2.06-2.06.94zm-11 1L8.5 8.5l.94-2.06 2.06-.94-2.06-.94L8.5 2.5l-.94 2.06-2.06.94zm10 10l.94 2.06.94-2.06 2.06-.94-2.06-.94-.94-2.06-.94 2.06-2.06.94z\"/><path d=\"M17.41 7.96l-1.37-1.37c-.4-.4-.92-.59-1.43-.59-.52 0-1.04.2-1.43.59L10.3 9.45l-7.72 7.72c-.78.78-.78 2.05 0 2.83L4 21.41c.39.39.9.59 1.41.59.51 0 1.02-.2 1.41-.59l7.78-7.78 2.81-2.81c.8-.78.8-2.07 0-2.86zM5.41 20L4 18.59l7.72-7.72 1.47 1.35L5.41 20z\"/>\n",
              "  </svg>\n",
              "      </button>\n",
              "      \n",
              "  <style>\n",
              "    .colab-df-container {\n",
              "      display:flex;\n",
              "      flex-wrap:wrap;\n",
              "      gap: 12px;\n",
              "    }\n",
              "\n",
              "    .colab-df-convert {\n",
              "      background-color: #E8F0FE;\n",
              "      border: none;\n",
              "      border-radius: 50%;\n",
              "      cursor: pointer;\n",
              "      display: none;\n",
              "      fill: #1967D2;\n",
              "      height: 32px;\n",
              "      padding: 0 0 0 0;\n",
              "      width: 32px;\n",
              "    }\n",
              "\n",
              "    .colab-df-convert:hover {\n",
              "      background-color: #E2EBFA;\n",
              "      box-shadow: 0px 1px 2px rgba(60, 64, 67, 0.3), 0px 1px 3px 1px rgba(60, 64, 67, 0.15);\n",
              "      fill: #174EA6;\n",
              "    }\n",
              "\n",
              "    [theme=dark] .colab-df-convert {\n",
              "      background-color: #3B4455;\n",
              "      fill: #D2E3FC;\n",
              "    }\n",
              "\n",
              "    [theme=dark] .colab-df-convert:hover {\n",
              "      background-color: #434B5C;\n",
              "      box-shadow: 0px 1px 3px 1px rgba(0, 0, 0, 0.15);\n",
              "      filter: drop-shadow(0px 1px 2px rgba(0, 0, 0, 0.3));\n",
              "      fill: #FFFFFF;\n",
              "    }\n",
              "  </style>\n",
              "\n",
              "      <script>\n",
              "        const buttonEl =\n",
              "          document.querySelector('#df-fd6b9ae5-96d2-41ea-bc61-b8b923603ecf button.colab-df-convert');\n",
              "        buttonEl.style.display =\n",
              "          google.colab.kernel.accessAllowed ? 'block' : 'none';\n",
              "\n",
              "        async function convertToInteractive(key) {\n",
              "          const element = document.querySelector('#df-fd6b9ae5-96d2-41ea-bc61-b8b923603ecf');\n",
              "          const dataTable =\n",
              "            await google.colab.kernel.invokeFunction('convertToInteractive',\n",
              "                                                     [key], {});\n",
              "          if (!dataTable) return;\n",
              "\n",
              "          const docLinkHtml = 'Like what you see? Visit the ' +\n",
              "            '<a target=\"_blank\" href=https://colab.research.google.com/notebooks/data_table.ipynb>data table notebook</a>'\n",
              "            + ' to learn more about interactive tables.';\n",
              "          element.innerHTML = '';\n",
              "          dataTable['output_type'] = 'display_data';\n",
              "          await google.colab.output.renderOutput(dataTable, element);\n",
              "          const docLink = document.createElement('div');\n",
              "          docLink.innerHTML = docLinkHtml;\n",
              "          element.appendChild(docLink);\n",
              "        }\n",
              "      </script>\n",
              "    </div>\n",
              "  </div>\n",
              "  "
            ]
          },
          "metadata": {},
          "execution_count": 70
        }
      ]
    },
    {
      "cell_type": "markdown",
      "source": [
        "Create a new data frame representing all winners of the show. Note: Season 11 notoriously does not have a winner--that season's bachelor Brad Womack infamously broke up with both his final two women!\n",
        "\n",
        "Create another new data frame with the top four contestants from each season."
      ],
      "metadata": {
        "id": "HkR7aSGvsD-g"
      }
    },
    {
      "cell_type": "code",
      "source": [
        "# winners\n",
        "winners_df = contestants_df[contestants_df['Outcome'] == \"Winner\"]\n",
        "\n",
        "# top 4\n",
        "top4_df = contestants_df.groupby('Season').head(4)"
      ],
      "metadata": {
        "id": "GyKCTgIWrxBR"
      },
      "execution_count": null,
      "outputs": []
    },
    {
      "cell_type": "markdown",
      "source": [
        "potential categories for jobs: marketing, teacher, nurse, cheerleader/dancer, beauty/styling (hairstylist, esthetician, stylist), sales, real estate, arts (graphic designer, creative director, photographer, videographer), therapist (psychologist, therapist, speech pathologist), dental, flight (flight attendant or instructor), attorney?"
      ],
      "metadata": {
        "id": "0szh7HnwuXIf"
      }
    },
    {
      "cell_type": "code",
      "source": [
        "# set up words we will use for detecting categories\n",
        "marketing = ['Marketing', 'Content', 'Publicist', 'Communications', 'Social Media']\n",
        "sales = ['Sales', 'Salesperson']\n",
        "teacher = ['Teacher']\n",
        "nurse = ['Nurse']\n",
        "dance = ['Dancer', 'Dance Instructor', 'Cheerleader']\n",
        "therapy = ['Psychologist', 'Therapist', 'Speech Pathologist']\n",
        "dental = ['Dental']\n",
        "realestate = ['Real Estate', 'Realtor']\n",
        "attorney = ['Attorney']\n",
        "flight = ['Flight']\n",
        "arts = ['Graphic Designer', 'Creative Director', 'Photographer', 'Videographer']\n",
        "beauty = ['Stylist', 'Hairstylist', 'Esthetician']\n",
        "events = ['Event Planner']\n",
        "model = ['Model']\n",
        "\n",
        "# create a dictionary of job categories, with the values representing the list of jobs within the key\n",
        "job_dictionary = {'Marketing': marketing, 'Sales': sales, 'Teaching': teacher, \n",
        "                  'Nursing': nurse, 'Dance': dance, 'Therapy': therapy,\n",
        "                  'Dental Care': dental, 'Real Estate': realestate, 'Legal': attorney, \n",
        "                  'Flight': flight, 'Arts': arts, 'Beauty': beauty, \n",
        "                  'Events': events, 'Modeling': model}"
      ],
      "metadata": {
        "id": "dbIr6dgl3XKY"
      },
      "execution_count": null,
      "outputs": []
    },
    {
      "cell_type": "markdown",
      "source": [
        "Create a new column in the top4_df and winners_df data frames to input the job category of each contestant."
      ],
      "metadata": {
        "id": "v75RXMNNLVyu"
      }
    },
    {
      "cell_type": "code",
      "source": [
        "top4_df.insert(7, 'Job Category', '')\n",
        "winners_df.insert(7, 'Job Category', '')"
      ],
      "metadata": {
        "id": "jwrMt6c2-7gI"
      },
      "execution_count": null,
      "outputs": []
    },
    {
      "cell_type": "markdown",
      "source": [
        "This function will look at the occupation of each contestant in a data frame and then look through each key, value pair in the job_dictionary. If the contestant's occupation matches a job in one of the keys, the name of that key will be inputted as their job category. If the contestant's job does not appear in the dictionary, the category will be designated as \"Other\"."
      ],
      "metadata": {
        "id": "aPcDaGeYLf9S"
      }
    },
    {
      "cell_type": "code",
      "source": [
        "def detect_category(df):\n",
        "  for i in range(0, len(df)):\n",
        "    contestant_job = df.iloc[i, 5]\n",
        "    for key, value in job_dictionary.items():\n",
        "      for job in value:\n",
        "        if job.casefold() not in contestant_job.casefold():\n",
        "          continue\n",
        "        else:\n",
        "          df.iloc[i,7] = key\n",
        "    if df.iloc[i, 7] not in job_dictionary:\n",
        "      df.iloc[i,7] = 'Other'\n",
        "  return df\n",
        "\n",
        "top4_df = detect_category(top4_df)\n",
        "winners_df = detect_category(winners_df)"
      ],
      "metadata": {
        "id": "b-Pd5DvV9VkL"
      },
      "execution_count": null,
      "outputs": []
    },
    {
      "cell_type": "code",
      "source": [
        "top4_df['Job Category'].value_counts()\n",
        "#winners_df['Job Category'].value_counts()"
      ],
      "metadata": {
        "colab": {
          "base_uri": "https://localhost:8080/"
        },
        "id": "C_g7TKu5JBPS",
        "outputId": "acf3fe91-2b51-4b70-d54d-7fa500816119"
      },
      "execution_count": null,
      "outputs": [
        {
          "output_type": "execute_result",
          "data": {
            "text/plain": [
              "Other        3\n",
              "Arts         3\n",
              "Events       2\n",
              "Therapy      2\n",
              "Teaching     2\n",
              "Marketing    2\n",
              "Modeling     2\n",
              "Nursing      2\n",
              "Sales        1\n",
              "Flight       1\n",
              "Name: Job Category, dtype: int64"
            ]
          },
          "metadata": {},
          "execution_count": 98
        }
      ]
    },
    {
      "cell_type": "code",
      "source": [
        "top4_df['Age'].value_counts()"
      ],
      "metadata": {
        "colab": {
          "base_uri": "https://localhost:8080/"
        },
        "id": "TsikQ9tOKBl-",
        "outputId": "b00464ad-8ec8-45f5-f214-9d9dda8959d3"
      },
      "execution_count": null,
      "outputs": [
        {
          "output_type": "execute_result",
          "data": {
            "text/plain": [
              "24.0    14\n",
              "26.0    14\n",
              "25.0    14\n",
              "23.0    12\n",
              "27.0     8\n",
              "28.0     8\n",
              "29.0     5\n",
              "22.0     3\n",
              "32.0     3\n",
              "31.0     2\n",
              "30.0     1\n",
              "Name: Age, dtype: int64"
            ]
          },
          "metadata": {},
          "execution_count": 101
        }
      ]
    },
    {
      "cell_type": "markdown",
      "source": [
        "# The Bachelorette Data Gathering & Cleaning"
      ],
      "metadata": {
        "id": "UACBGn-aMTj6"
      }
    },
    {
      "cell_type": "markdown",
      "source": [
        "Once again, we create an array representing the seasons we can obtain data from on Wikipedia. Thankfully this time, all seasons have contestant data available."
      ],
      "metadata": {
        "id": "x8gYZ-KyRAfm"
      }
    },
    {
      "cell_type": "code",
      "source": [
        "# The Bachelorette has had 19 seasons so far\n",
        "seasons = np.arange(1, 20, 1)"
      ],
      "metadata": {
        "id": "uMaOCMdpQgnt"
      },
      "execution_count": 77,
      "outputs": []
    },
    {
      "cell_type": "markdown",
      "source": [
        "Use the BeautifulSoup library to create a data frame containing information on all Bachelorette contestants, using the seasons_scrape() function from the prior section."
      ],
      "metadata": {
        "id": "JDgZ1l-ER6H6"
      }
    },
    {
      "cell_type": "code",
      "source": [
        "contestants_df2 = pd.DataFrame()\n",
        "urlstart = \"https://en.wikipedia.org/wiki/The_Bachelorette_(American_season_\"\n",
        "\n",
        "contestants_df2 = seasons_scrape(seasons, contestants_df2, urlstart)"
      ],
      "metadata": {
        "id": "w235MuP0RMga"
      },
      "execution_count": 78,
      "outputs": []
    },
    {
      "cell_type": "markdown",
      "source": [
        "Perform some clean-up on the contestants dataframe:"
      ],
      "metadata": {
        "id": "_zjc_N1iTzCB"
      }
    },
    {
      "cell_type": "code",
      "source": [
        "# sometimes contestants will leave one week then return a later week. Remove the\n",
        "# rows from the table which reference them leaving (the info we care about is stored\n",
        "# in another row, including their final placement)\n",
        "contestants_df2[contestants_df2['Age'] == \"(Returned to competition)\"]\n",
        "\n",
        "# remove these rows -- the data for these contestants is still in the table, just a different row\n",
        "contestants_df2 = contestants_df2[contestants_df2['Age'] != \"(Returned to competition)\"]\n",
        "\n",
        "contestants_df2 = contestants_df2.dropna(axis=0)"
      ],
      "metadata": {
        "id": "uVTULdkdT4Sl"
      },
      "execution_count": 81,
      "outputs": []
    },
    {
      "cell_type": "code",
      "source": [
        "# some contestants' names had hyperlinks. Remove the references attached\n",
        "contestants_df2['Name'] = contestants_df2['Name'].apply(lambda x: x.split('[')[0] if '[' in x else x)\n",
        "# fix some unclean age values\n",
        "contestants_df2['Age'] = contestants_df2['Age'].apply(str).apply(lambda x: x.split('[')[0] if '[' in x else x)\n",
        "# separate town and state into their own columns\n",
        "hometowns = contestants_df2['Hometown'].str.split(',', expand = True)\n",
        "contestants_df2[['Town', 'State']] = hometowns\n",
        "# make sure age is numeric\n",
        "contestants_df2['Age'] = pd.to_numeric(contestants_df2['Age'])\n",
        "\n",
        "# keep desired columns\n",
        "cols = ['Season', 'Name', 'Age', 'Town', 'State', 'Occupation', 'Outcome']\n",
        "contestants_df2 = contestants_df2[cols]"
      ],
      "metadata": {
        "id": "qmA59BzwXXJR"
      },
      "execution_count": 82,
      "outputs": []
    },
    {
      "cell_type": "code",
      "source": [
        "contestants_df2"
      ],
      "metadata": {
        "colab": {
          "base_uri": "https://localhost:8080/",
          "height": 423
        },
        "id": "qcXzhCeYg603",
        "outputId": "463f39cf-0292-43c9-a7e5-1acb82b9bdb8"
      },
      "execution_count": 83,
      "outputs": [
        {
          "output_type": "execute_result",
          "data": {
            "text/plain": [
              "     Season                    Name  Age           Town         State  \\\n",
              "0         1             Ryan Sutter   28           Vail      Colorado   \n",
              "1         1           Charlie Maher   28  Hermosa Beach    California   \n",
              "2         1           Russell Woods   31     San Rafael    California   \n",
              "3         1            Greg Todtman   28      Manhattan      New York   \n",
              "4         1              Bob Guiney   31       Ferndale      Michigan   \n",
              "..      ...                     ...  ...            ...           ...   \n",
              "525      19            Chris Austin   30  Redondo Beach    California   \n",
              "526      19      Jordan Vandergriff   27     Alpharetta       Georgia   \n",
              "527      19              Joey Young   24     Brookfield   Connecticut   \n",
              "528      19            Justin Young   24     Brookfield   Connecticut   \n",
              "529      19  Robert \"Roby\" Sobieski   33    Los Angeles    California   \n",
              "\n",
              "            Occupation    Outcome  \n",
              "0          Firefighter     Winner  \n",
              "1    Financial Analyst  Runner-up  \n",
              "2               Writer     Week 5  \n",
              "3             Importer     Week 4  \n",
              "4      Mortgage Broker     Week 3  \n",
              "..                 ...        ...  \n",
              "525    Mentality Coach     Week 2  \n",
              "526         Drag Racer     Week 2  \n",
              "527               Twin     Week 1  \n",
              "528         Other Twin     Week 1  \n",
              "529           Magician     Week 1  \n",
              "\n",
              "[524 rows x 7 columns]"
            ],
            "text/html": [
              "\n",
              "  <div id=\"df-9dad13d1-4170-4486-bfa3-8edbd535f9df\">\n",
              "    <div class=\"colab-df-container\">\n",
              "      <div>\n",
              "<style scoped>\n",
              "    .dataframe tbody tr th:only-of-type {\n",
              "        vertical-align: middle;\n",
              "    }\n",
              "\n",
              "    .dataframe tbody tr th {\n",
              "        vertical-align: top;\n",
              "    }\n",
              "\n",
              "    .dataframe thead th {\n",
              "        text-align: right;\n",
              "    }\n",
              "</style>\n",
              "<table border=\"1\" class=\"dataframe\">\n",
              "  <thead>\n",
              "    <tr style=\"text-align: right;\">\n",
              "      <th></th>\n",
              "      <th>Season</th>\n",
              "      <th>Name</th>\n",
              "      <th>Age</th>\n",
              "      <th>Town</th>\n",
              "      <th>State</th>\n",
              "      <th>Occupation</th>\n",
              "      <th>Outcome</th>\n",
              "    </tr>\n",
              "  </thead>\n",
              "  <tbody>\n",
              "    <tr>\n",
              "      <th>0</th>\n",
              "      <td>1</td>\n",
              "      <td>Ryan Sutter</td>\n",
              "      <td>28</td>\n",
              "      <td>Vail</td>\n",
              "      <td>Colorado</td>\n",
              "      <td>Firefighter</td>\n",
              "      <td>Winner</td>\n",
              "    </tr>\n",
              "    <tr>\n",
              "      <th>1</th>\n",
              "      <td>1</td>\n",
              "      <td>Charlie Maher</td>\n",
              "      <td>28</td>\n",
              "      <td>Hermosa Beach</td>\n",
              "      <td>California</td>\n",
              "      <td>Financial Analyst</td>\n",
              "      <td>Runner-up</td>\n",
              "    </tr>\n",
              "    <tr>\n",
              "      <th>2</th>\n",
              "      <td>1</td>\n",
              "      <td>Russell Woods</td>\n",
              "      <td>31</td>\n",
              "      <td>San Rafael</td>\n",
              "      <td>California</td>\n",
              "      <td>Writer</td>\n",
              "      <td>Week 5</td>\n",
              "    </tr>\n",
              "    <tr>\n",
              "      <th>3</th>\n",
              "      <td>1</td>\n",
              "      <td>Greg Todtman</td>\n",
              "      <td>28</td>\n",
              "      <td>Manhattan</td>\n",
              "      <td>New York</td>\n",
              "      <td>Importer</td>\n",
              "      <td>Week 4</td>\n",
              "    </tr>\n",
              "    <tr>\n",
              "      <th>4</th>\n",
              "      <td>1</td>\n",
              "      <td>Bob Guiney</td>\n",
              "      <td>31</td>\n",
              "      <td>Ferndale</td>\n",
              "      <td>Michigan</td>\n",
              "      <td>Mortgage Broker</td>\n",
              "      <td>Week 3</td>\n",
              "    </tr>\n",
              "    <tr>\n",
              "      <th>...</th>\n",
              "      <td>...</td>\n",
              "      <td>...</td>\n",
              "      <td>...</td>\n",
              "      <td>...</td>\n",
              "      <td>...</td>\n",
              "      <td>...</td>\n",
              "      <td>...</td>\n",
              "    </tr>\n",
              "    <tr>\n",
              "      <th>525</th>\n",
              "      <td>19</td>\n",
              "      <td>Chris Austin</td>\n",
              "      <td>30</td>\n",
              "      <td>Redondo Beach</td>\n",
              "      <td>California</td>\n",
              "      <td>Mentality Coach</td>\n",
              "      <td>Week 2</td>\n",
              "    </tr>\n",
              "    <tr>\n",
              "      <th>526</th>\n",
              "      <td>19</td>\n",
              "      <td>Jordan Vandergriff</td>\n",
              "      <td>27</td>\n",
              "      <td>Alpharetta</td>\n",
              "      <td>Georgia</td>\n",
              "      <td>Drag Racer</td>\n",
              "      <td>Week 2</td>\n",
              "    </tr>\n",
              "    <tr>\n",
              "      <th>527</th>\n",
              "      <td>19</td>\n",
              "      <td>Joey Young</td>\n",
              "      <td>24</td>\n",
              "      <td>Brookfield</td>\n",
              "      <td>Connecticut</td>\n",
              "      <td>Twin</td>\n",
              "      <td>Week 1</td>\n",
              "    </tr>\n",
              "    <tr>\n",
              "      <th>528</th>\n",
              "      <td>19</td>\n",
              "      <td>Justin Young</td>\n",
              "      <td>24</td>\n",
              "      <td>Brookfield</td>\n",
              "      <td>Connecticut</td>\n",
              "      <td>Other Twin</td>\n",
              "      <td>Week 1</td>\n",
              "    </tr>\n",
              "    <tr>\n",
              "      <th>529</th>\n",
              "      <td>19</td>\n",
              "      <td>Robert \"Roby\" Sobieski</td>\n",
              "      <td>33</td>\n",
              "      <td>Los Angeles</td>\n",
              "      <td>California</td>\n",
              "      <td>Magician</td>\n",
              "      <td>Week 1</td>\n",
              "    </tr>\n",
              "  </tbody>\n",
              "</table>\n",
              "<p>524 rows × 7 columns</p>\n",
              "</div>\n",
              "      <button class=\"colab-df-convert\" onclick=\"convertToInteractive('df-9dad13d1-4170-4486-bfa3-8edbd535f9df')\"\n",
              "              title=\"Convert this dataframe to an interactive table.\"\n",
              "              style=\"display:none;\">\n",
              "        \n",
              "  <svg xmlns=\"http://www.w3.org/2000/svg\" height=\"24px\"viewBox=\"0 0 24 24\"\n",
              "       width=\"24px\">\n",
              "    <path d=\"M0 0h24v24H0V0z\" fill=\"none\"/>\n",
              "    <path d=\"M18.56 5.44l.94 2.06.94-2.06 2.06-.94-2.06-.94-.94-2.06-.94 2.06-2.06.94zm-11 1L8.5 8.5l.94-2.06 2.06-.94-2.06-.94L8.5 2.5l-.94 2.06-2.06.94zm10 10l.94 2.06.94-2.06 2.06-.94-2.06-.94-.94-2.06-.94 2.06-2.06.94z\"/><path d=\"M17.41 7.96l-1.37-1.37c-.4-.4-.92-.59-1.43-.59-.52 0-1.04.2-1.43.59L10.3 9.45l-7.72 7.72c-.78.78-.78 2.05 0 2.83L4 21.41c.39.39.9.59 1.41.59.51 0 1.02-.2 1.41-.59l7.78-7.78 2.81-2.81c.8-.78.8-2.07 0-2.86zM5.41 20L4 18.59l7.72-7.72 1.47 1.35L5.41 20z\"/>\n",
              "  </svg>\n",
              "      </button>\n",
              "      \n",
              "  <style>\n",
              "    .colab-df-container {\n",
              "      display:flex;\n",
              "      flex-wrap:wrap;\n",
              "      gap: 12px;\n",
              "    }\n",
              "\n",
              "    .colab-df-convert {\n",
              "      background-color: #E8F0FE;\n",
              "      border: none;\n",
              "      border-radius: 50%;\n",
              "      cursor: pointer;\n",
              "      display: none;\n",
              "      fill: #1967D2;\n",
              "      height: 32px;\n",
              "      padding: 0 0 0 0;\n",
              "      width: 32px;\n",
              "    }\n",
              "\n",
              "    .colab-df-convert:hover {\n",
              "      background-color: #E2EBFA;\n",
              "      box-shadow: 0px 1px 2px rgba(60, 64, 67, 0.3), 0px 1px 3px 1px rgba(60, 64, 67, 0.15);\n",
              "      fill: #174EA6;\n",
              "    }\n",
              "\n",
              "    [theme=dark] .colab-df-convert {\n",
              "      background-color: #3B4455;\n",
              "      fill: #D2E3FC;\n",
              "    }\n",
              "\n",
              "    [theme=dark] .colab-df-convert:hover {\n",
              "      background-color: #434B5C;\n",
              "      box-shadow: 0px 1px 3px 1px rgba(0, 0, 0, 0.15);\n",
              "      filter: drop-shadow(0px 1px 2px rgba(0, 0, 0, 0.3));\n",
              "      fill: #FFFFFF;\n",
              "    }\n",
              "  </style>\n",
              "\n",
              "      <script>\n",
              "        const buttonEl =\n",
              "          document.querySelector('#df-9dad13d1-4170-4486-bfa3-8edbd535f9df button.colab-df-convert');\n",
              "        buttonEl.style.display =\n",
              "          google.colab.kernel.accessAllowed ? 'block' : 'none';\n",
              "\n",
              "        async function convertToInteractive(key) {\n",
              "          const element = document.querySelector('#df-9dad13d1-4170-4486-bfa3-8edbd535f9df');\n",
              "          const dataTable =\n",
              "            await google.colab.kernel.invokeFunction('convertToInteractive',\n",
              "                                                     [key], {});\n",
              "          if (!dataTable) return;\n",
              "\n",
              "          const docLinkHtml = 'Like what you see? Visit the ' +\n",
              "            '<a target=\"_blank\" href=https://colab.research.google.com/notebooks/data_table.ipynb>data table notebook</a>'\n",
              "            + ' to learn more about interactive tables.';\n",
              "          element.innerHTML = '';\n",
              "          dataTable['output_type'] = 'display_data';\n",
              "          await google.colab.output.renderOutput(dataTable, element);\n",
              "          const docLink = document.createElement('div');\n",
              "          docLink.innerHTML = docLinkHtml;\n",
              "          element.appendChild(docLink);\n",
              "        }\n",
              "      </script>\n",
              "    </div>\n",
              "  </div>\n",
              "  "
            ]
          },
          "metadata": {},
          "execution_count": 83
        }
      ]
    },
    {
      "cell_type": "markdown",
      "source": [
        "Create two new data frames for the winners and top 4 of each season:"
      ],
      "metadata": {
        "id": "kVbruM6-hImz"
      }
    },
    {
      "cell_type": "code",
      "source": [
        "# winners\n",
        "winners_df2 = contestants_df2[contestants_df2['Outcome'] == \"Winner\"]\n",
        "\n",
        "# top 4\n",
        "top4_df2 = contestants_df2.groupby('Season').head(4)"
      ],
      "metadata": {
        "id": "ks8wR2RnhLsq"
      },
      "execution_count": 84,
      "outputs": []
    },
    {
      "cell_type": "markdown",
      "source": [
        "# Visualization of Contestant Demographics"
      ],
      "metadata": {
        "id": "JZpvsBIATHEx"
      }
    },
    {
      "cell_type": "markdown",
      "source": [
        "## Contestants by Age"
      ],
      "metadata": {
        "id": "v6Cv81-CUBuF"
      }
    },
    {
      "cell_type": "code",
      "source": [],
      "metadata": {
        "id": "i5RyUBrdT4tX"
      },
      "execution_count": null,
      "outputs": []
    },
    {
      "cell_type": "markdown",
      "source": [
        "## Contestants by Occupation"
      ],
      "metadata": {
        "id": "-xWSGAOZUF1_"
      }
    },
    {
      "cell_type": "code",
      "source": [],
      "metadata": {
        "id": "ND0vDhywUXVl"
      },
      "execution_count": null,
      "outputs": []
    },
    {
      "cell_type": "markdown",
      "source": [
        "## Contestants by Home State"
      ],
      "metadata": {
        "id": "Lw4lIk7RUIXa"
      }
    },
    {
      "cell_type": "code",
      "source": [],
      "metadata": {
        "id": "TWI_b6xaUX1W"
      },
      "execution_count": null,
      "outputs": []
    },
    {
      "cell_type": "markdown",
      "source": [
        "# Visualization of Relationship Status"
      ],
      "metadata": {
        "id": "naLjXrNYUgZH"
      }
    },
    {
      "cell_type": "code",
      "source": [
        "bachelors = {'Season': np.arange(1,27,1),\n",
        "             'Name': ['Alex Michel', 'Aaron Buerge', 'Andrew Firestone', \n",
        "                           'Bob Guiney', 'Jesse Palmer', 'Byron Velvick',\n",
        "                           \"Charlie O'Connell\", 'Travis Lane Stork', 'Lorenzo Borghese',\n",
        "                           'Andy Baldwin', 'Brad Womack', 'Matt Grant',\n",
        "                           'Jason Mesnick', 'Jake Pavelka', 'Brad Womack',\n",
        "                           'Ben Flajnik', 'Sean Lowe', 'Juan Pablo Galavis',\n",
        "                           'Chris Soules', 'Ben Higgins', 'Nick Viall',\n",
        "                           'Arie Luyendyk Jr.', 'Colton Underwood', 'Peter Weber',\n",
        "                           'Matt James', 'Clayton Echard'],\n",
        "                  'Relationship Status': ['Broken Up', 'Broken Up', 'Broken Up',\n",
        "                                          'Broken Up', 'Broken Up', 'Broken Up',\n",
        "                                          'Broken Up', 'Broken Up', 'Broken Up',\n",
        "                                          'Broken Up', 'Broken Up', 'Broken Up',\n",
        "                                          'Together with Runner-Up', 'Broken Up', 'Broken Up',\n",
        "                                          'Broken Up', 'Together with Winner', 'Broken Up',\n",
        "                                          'Broken Up', 'Broken Up', 'Broken Up',\n",
        "                                          'Together with Runner-Up', 'Broken Up', 'Broken Up',\n",
        "                                          'Together with Winner', 'Broken Up'],\n",
        "                  'Relationship Length in Years': [8/12, 3/12, 7/12,\n",
        "                                          1/12, 1/12, 5,\n",
        "                                          59/12, 1/12, 2/12,\n",
        "                                          4/12, 0, 2/12,\n",
        "                                          14, 3/12, 3/12,\n",
        "                                          7/12, 11, 7/12,\n",
        "                                          2/12, 14/12, 5/12,\n",
        "                                          5, 14/12, 0,\n",
        "                                          2, 6/12],\n",
        "                  'Height in Inches': [73, 72, 70,\n",
        "                                       73, 74, 74,\n",
        "                                       75, 75, 71,\n",
        "                                       72, 73, 77,\n",
        "                                       72, 70, 73,\n",
        "                                       74, 75, 71,\n",
        "                                       73, 76, 74,\n",
        "                                       74, 75, 73,\n",
        "                                       77, 77]}\n",
        "bachelors_df = pd.DataFrame(bachelors)\n",
        "bachelors_df.head()"
      ],
      "metadata": {
        "colab": {
          "base_uri": "https://localhost:8080/",
          "height": 206
        },
        "id": "MvlLeMtfJvg8",
        "outputId": "931ae747-6b2d-44f8-adf2-818f71907290"
      },
      "execution_count": 105,
      "outputs": [
        {
          "output_type": "execute_result",
          "data": {
            "text/plain": [
              "   Season              Name Relationship Status  Relationship Length in Years  \\\n",
              "0       1       Alex Michel           Broken Up                      0.666667   \n",
              "1       2      Aaron Buerge           Broken Up                      0.250000   \n",
              "2       3  Andrew Firestone           Broken Up                      0.583333   \n",
              "3       4        Bob Guiney           Broken Up                      0.083333   \n",
              "4       5      Jesse Palmer           Broken Up                      0.083333   \n",
              "\n",
              "   Height in Inches  \n",
              "0                73  \n",
              "1                72  \n",
              "2                70  \n",
              "3                73  \n",
              "4                74  "
            ],
            "text/html": [
              "\n",
              "  <div id=\"df-bf222e62-ebc6-4724-a234-aed3011d8888\">\n",
              "    <div class=\"colab-df-container\">\n",
              "      <div>\n",
              "<style scoped>\n",
              "    .dataframe tbody tr th:only-of-type {\n",
              "        vertical-align: middle;\n",
              "    }\n",
              "\n",
              "    .dataframe tbody tr th {\n",
              "        vertical-align: top;\n",
              "    }\n",
              "\n",
              "    .dataframe thead th {\n",
              "        text-align: right;\n",
              "    }\n",
              "</style>\n",
              "<table border=\"1\" class=\"dataframe\">\n",
              "  <thead>\n",
              "    <tr style=\"text-align: right;\">\n",
              "      <th></th>\n",
              "      <th>Season</th>\n",
              "      <th>Name</th>\n",
              "      <th>Relationship Status</th>\n",
              "      <th>Relationship Length in Years</th>\n",
              "      <th>Height in Inches</th>\n",
              "    </tr>\n",
              "  </thead>\n",
              "  <tbody>\n",
              "    <tr>\n",
              "      <th>0</th>\n",
              "      <td>1</td>\n",
              "      <td>Alex Michel</td>\n",
              "      <td>Broken Up</td>\n",
              "      <td>0.666667</td>\n",
              "      <td>73</td>\n",
              "    </tr>\n",
              "    <tr>\n",
              "      <th>1</th>\n",
              "      <td>2</td>\n",
              "      <td>Aaron Buerge</td>\n",
              "      <td>Broken Up</td>\n",
              "      <td>0.250000</td>\n",
              "      <td>72</td>\n",
              "    </tr>\n",
              "    <tr>\n",
              "      <th>2</th>\n",
              "      <td>3</td>\n",
              "      <td>Andrew Firestone</td>\n",
              "      <td>Broken Up</td>\n",
              "      <td>0.583333</td>\n",
              "      <td>70</td>\n",
              "    </tr>\n",
              "    <tr>\n",
              "      <th>3</th>\n",
              "      <td>4</td>\n",
              "      <td>Bob Guiney</td>\n",
              "      <td>Broken Up</td>\n",
              "      <td>0.083333</td>\n",
              "      <td>73</td>\n",
              "    </tr>\n",
              "    <tr>\n",
              "      <th>4</th>\n",
              "      <td>5</td>\n",
              "      <td>Jesse Palmer</td>\n",
              "      <td>Broken Up</td>\n",
              "      <td>0.083333</td>\n",
              "      <td>74</td>\n",
              "    </tr>\n",
              "  </tbody>\n",
              "</table>\n",
              "</div>\n",
              "      <button class=\"colab-df-convert\" onclick=\"convertToInteractive('df-bf222e62-ebc6-4724-a234-aed3011d8888')\"\n",
              "              title=\"Convert this dataframe to an interactive table.\"\n",
              "              style=\"display:none;\">\n",
              "        \n",
              "  <svg xmlns=\"http://www.w3.org/2000/svg\" height=\"24px\"viewBox=\"0 0 24 24\"\n",
              "       width=\"24px\">\n",
              "    <path d=\"M0 0h24v24H0V0z\" fill=\"none\"/>\n",
              "    <path d=\"M18.56 5.44l.94 2.06.94-2.06 2.06-.94-2.06-.94-.94-2.06-.94 2.06-2.06.94zm-11 1L8.5 8.5l.94-2.06 2.06-.94-2.06-.94L8.5 2.5l-.94 2.06-2.06.94zm10 10l.94 2.06.94-2.06 2.06-.94-2.06-.94-.94-2.06-.94 2.06-2.06.94z\"/><path d=\"M17.41 7.96l-1.37-1.37c-.4-.4-.92-.59-1.43-.59-.52 0-1.04.2-1.43.59L10.3 9.45l-7.72 7.72c-.78.78-.78 2.05 0 2.83L4 21.41c.39.39.9.59 1.41.59.51 0 1.02-.2 1.41-.59l7.78-7.78 2.81-2.81c.8-.78.8-2.07 0-2.86zM5.41 20L4 18.59l7.72-7.72 1.47 1.35L5.41 20z\"/>\n",
              "  </svg>\n",
              "      </button>\n",
              "      \n",
              "  <style>\n",
              "    .colab-df-container {\n",
              "      display:flex;\n",
              "      flex-wrap:wrap;\n",
              "      gap: 12px;\n",
              "    }\n",
              "\n",
              "    .colab-df-convert {\n",
              "      background-color: #E8F0FE;\n",
              "      border: none;\n",
              "      border-radius: 50%;\n",
              "      cursor: pointer;\n",
              "      display: none;\n",
              "      fill: #1967D2;\n",
              "      height: 32px;\n",
              "      padding: 0 0 0 0;\n",
              "      width: 32px;\n",
              "    }\n",
              "\n",
              "    .colab-df-convert:hover {\n",
              "      background-color: #E2EBFA;\n",
              "      box-shadow: 0px 1px 2px rgba(60, 64, 67, 0.3), 0px 1px 3px 1px rgba(60, 64, 67, 0.15);\n",
              "      fill: #174EA6;\n",
              "    }\n",
              "\n",
              "    [theme=dark] .colab-df-convert {\n",
              "      background-color: #3B4455;\n",
              "      fill: #D2E3FC;\n",
              "    }\n",
              "\n",
              "    [theme=dark] .colab-df-convert:hover {\n",
              "      background-color: #434B5C;\n",
              "      box-shadow: 0px 1px 3px 1px rgba(0, 0, 0, 0.15);\n",
              "      filter: drop-shadow(0px 1px 2px rgba(0, 0, 0, 0.3));\n",
              "      fill: #FFFFFF;\n",
              "    }\n",
              "  </style>\n",
              "\n",
              "      <script>\n",
              "        const buttonEl =\n",
              "          document.querySelector('#df-bf222e62-ebc6-4724-a234-aed3011d8888 button.colab-df-convert');\n",
              "        buttonEl.style.display =\n",
              "          google.colab.kernel.accessAllowed ? 'block' : 'none';\n",
              "\n",
              "        async function convertToInteractive(key) {\n",
              "          const element = document.querySelector('#df-bf222e62-ebc6-4724-a234-aed3011d8888');\n",
              "          const dataTable =\n",
              "            await google.colab.kernel.invokeFunction('convertToInteractive',\n",
              "                                                     [key], {});\n",
              "          if (!dataTable) return;\n",
              "\n",
              "          const docLinkHtml = 'Like what you see? Visit the ' +\n",
              "            '<a target=\"_blank\" href=https://colab.research.google.com/notebooks/data_table.ipynb>data table notebook</a>'\n",
              "            + ' to learn more about interactive tables.';\n",
              "          element.innerHTML = '';\n",
              "          dataTable['output_type'] = 'display_data';\n",
              "          await google.colab.output.renderOutput(dataTable, element);\n",
              "          const docLink = document.createElement('div');\n",
              "          docLink.innerHTML = docLinkHtml;\n",
              "          element.appendChild(docLink);\n",
              "        }\n",
              "      </script>\n",
              "    </div>\n",
              "  </div>\n",
              "  "
            ]
          },
          "metadata": {},
          "execution_count": 105
        }
      ]
    },
    {
      "cell_type": "code",
      "source": [
        "colors = {'Broken Up': 'silver', \n",
        "          'Together with Runner-Up': 'lightpink', \n",
        "          'Together with Winner': 'crimson'}\n",
        "\n",
        "plt.figure(figsize = (20,15))\n",
        "plt.title('Relationship Status of Bachelors', fontsize = 20)\n",
        "plt.xlabel('Season', fontsize = 16)\n",
        "plt.ylabel('Relationship Length (Years)', fontsize = 16)\n",
        "\n",
        "sns.barplot(y = bachelors_df['Season'].apply(str), x = bachelors_df['Relationship Length in Years'],\n",
        "         hue = bachelors_df['Relationship Status'], palette = colors, dodge = False)\n",
        "plt.legend(loc = 'upper right', fontsize = 15)"
      ],
      "metadata": {
        "colab": {
          "base_uri": "https://localhost:8080/",
          "height": 920
        },
        "id": "mWd5XnkiSY7_",
        "outputId": "a576d666-a85a-4da9-9084-295c769a58bf"
      },
      "execution_count": 127,
      "outputs": [
        {
          "output_type": "execute_result",
          "data": {
            "text/plain": [
              "<matplotlib.legend.Legend at 0x7fb43359e550>"
            ]
          },
          "metadata": {},
          "execution_count": 127
        },
        {
          "output_type": "display_data",
          "data": {
            "text/plain": [
              "<Figure size 1440x1080 with 1 Axes>"
            ],
            "image/png": "[encoded data removed]"
          },
          "metadata": {
            "needs_background": "light"
          }
        }
      ]
    }
  ]
}