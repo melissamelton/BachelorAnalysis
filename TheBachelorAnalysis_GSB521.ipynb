{
  "nbformat": 4,
  "nbformat_minor": 0,
  "metadata": {
    "colab": {
      "provenance": [],
      "include_colab_link": true
    },
    "kernelspec": {
      "name": "python3",
      "display_name": "Python 3"
    },
    "language_info": {
      "name": "python"
    }
  },
  "cells": [
    {
      "cell_type": "markdown",
      "metadata": {
        "id": "view-in-github",
        "colab_type": "text"
      },
      "source": [
        "<a href=\"https://colab.research.google.com/github/melissamelton/BachelorAnalysis/blob/main/TheBachelorAnalysis_GSB521.ipynb\" target=\"_parent\"><img src=\"https://colab.research.google.com/assets/colab-badge.svg\" alt=\"Open In Colab\"/></a>"
      ]
    },
    {
      "cell_type": "markdown",
      "source": [
        "# **The Bachelor Analysis Version 2- *How Demographic Variables Play a Role in Contestant Success & Predictors of Relationship Length***\n",
        "\n",
        "\n",
        "*By Melissa Melton (mnmelton@calpoly.edu) & Annika Bertelsen (abertels@calpoly.edu)*\n",
        "\n",
        "March 9, 2023"
      ],
      "metadata": {
        "id": "q97pA2K3mY40"
      }
    },
    {
      "cell_type": "markdown",
      "source": [
        "**Brief Background**: A single bachelor (or bachelorette) dates a group of approximately 30 women (or men) over several weeks, narrowing the group of contestants down week by week after a series of one-on-one or group dates to hopefully find true love."
      ],
      "metadata": {
        "id": "8eE28CnaoYk0"
      }
    },
    {
      "cell_type": "markdown",
      "source": [
        "**Goal of Analysis:** Gather historical data of all participating contestants from past seasons, to be able to identify any trends within contestant demographics.\n",
        "Focusing on the Winner of each season, as well as contestants who made it to the Top Four, we will utilize demographics of age, occupation, and home state to examine how much each variable contributes to contestants' success likelihood.  \n",
        "\n",
        "We also aim to examine how predictors such as number of one-on-one dates or recieving the first impression role might have an impact on relationship length."
      ],
      "metadata": {
        "id": "xjIEKAmPmsUr"
      }
    },
    {
      "cell_type": "markdown",
      "source": [
        "**Hypothesis:** One of our driving questions was which variables, if any, from contestant demographics will be the most important in determining how far the contestant makes it to the end? Here, we hypothesize that Age will be the most significant predictor for the Bachelor, while Occupation will be the most significant for the Bachelorette. This hypothesis is rooted in sterotypes that men may tend to go for the younger woman while women may put high value on suitors' occupations.   \n",
        "\n",
        "Our driving question for part 2 of our analysis was if there a significant difference between the proportion of couples from the Bachelor versus Bachelorette who last at least one year? That is- do the men Bachelor's or women Bachelorette's make better decisions when selecting their partner out of the group of 30 contestants? Here we hypothesize that womans intuition will lead them to pick a best suited partner, meaning the Bachelorette will have longer relationship lengths on average."
      ],
      "metadata": {
        "id": "W0rnqStcp57m"
      }
    },
    {
      "cell_type": "code",
      "execution_count": 1,
      "metadata": {
        "id": "kdMFQi65MbCU"
      },
      "outputs": [],
      "source": [
        "import pandas as pd\n",
        "import requests\n",
        "import numpy as np\n",
        "from bs4 import BeautifulSoup\n",
        "import matplotlib.pyplot as plt\n",
        "import matplotlib.image as  image\n",
        "import seaborn as sns\n",
        "from geopy.geocoders import Nominatim\n",
        "from geopy import distance\n",
        "from scipy.stats import pearsonr\n",
        "from statsmodels.stats.proportion import proportions_ztest"
      ]
    },
    {
      "cell_type": "markdown",
      "source": [
        "# The Bachelor Data Gathering & Cleaning"
      ],
      "metadata": {
        "id": "OowWTRUtowuP"
      }
    },
    {
      "cell_type": "markdown",
      "source": [
        "We will start by gathering data on contestants from the Bachelor."
      ],
      "metadata": {
        "id": "-bFDE_6XZtOq"
      }
    },
    {
      "cell_type": "markdown",
      "source": [
        "## Scraping"
      ],
      "metadata": {
        "id": "lvy0P2uvW1OR"
      }
    },
    {
      "cell_type": "markdown",
      "source": [
        "Obtain a list of the seasons we can scrape data from on Wikipedia:"
      ],
      "metadata": {
        "id": "uufMShKpQAJe"
      }
    },
    {
      "cell_type": "code",
      "source": [
        "# The Bachelor has had 26 seasons so far (27 is currently airing so it will not be included)\n",
        "seasons = np.arange(1, 27, 1)\n",
        "# seasons 3, 4, and 6-8 do not have contestant data on Wikipedia\n",
        "missing_table = {3, 4, 6, 7, 8}\n",
        "# obtain list of season numbers which have contestant data on their wiki page\n",
        "seasons = [x for x in seasons if x not in missing_table]"
      ],
      "metadata": {
        "id": "MR8Cvhw2Oglh"
      },
      "execution_count": 2,
      "outputs": []
    },
    {
      "cell_type": "markdown",
      "source": [
        "We will now use the BeautifulSoup library to scrape data about contestants from Wikipedia."
      ],
      "metadata": {
        "id": "7fhBvdVWQF7g"
      }
    },
    {
      "cell_type": "code",
      "source": [
        "contestants_df = pd.DataFrame()\n",
        "urlstart = \"https://en.wikipedia.org/wiki/The_Bachelor_(American_season_\"\n",
        "\n",
        "def seasons_scrape(seasons, contestants_df, urlstart):\n",
        "  # loop through seasons\n",
        "  for i in range(0, len(seasons)):\n",
        "    # write the url for specific season\n",
        "    wikiurl = urlstart + str(seasons[i]) + \")\"\n",
        "    table_class = \"wikitable sortable jquery-tablesorter\"\n",
        "    response = requests.get(wikiurl)\n",
        "    # parse data from html\n",
        "    soup = BeautifulSoup(response.text, 'html.parser')\n",
        "    contestant_table = soup.find('table', {'class':\"wikitable\"})\n",
        "    df = pd.read_html(str(contestant_table))\n",
        "    # convert list to dataframe\n",
        "    df = pd.DataFrame(df[0])\n",
        "    # add column for the season (value the same for all rows from that season)\n",
        "    df['Season'] = seasons[i]\n",
        "    # seasons 1 and 2 have a different label for the Outcome and Occupation columns\n",
        "    if 'Eliminated' in df.columns and 'Job' in df.columns:\n",
        "      df.rename(columns = {'Eliminated': 'Outcome',\n",
        "                           'Job': 'Occupation'}, inplace = True)\n",
        "    # keep only desired columns\n",
        "    df = df[['Season', 'Name', 'Age', 'Hometown', 'Occupation', 'Outcome']]\n",
        "    contestants_df = contestants_df.append(df, ignore_index = True)\n",
        "  return contestants_df\n"
      ],
      "metadata": {
        "id": "gkwTqnsZRW2S"
      },
      "execution_count": 3,
      "outputs": []
    },
    {
      "cell_type": "code",
      "source": [
        "contestants_df = seasons_scrape(seasons, contestants_df, urlstart)"
      ],
      "metadata": {
        "id": "Qb55kE9fUoBI"
      },
      "execution_count": 4,
      "outputs": []
    },
    {
      "cell_type": "markdown",
      "source": [
        "Unfortunately, full contestant data cannot be found online for seasons 3, 4, 6, 7, and 8 (even the Bachelor Nation fandom Wiki does not have it). So, our resulting dataframe only represents 21 of the 26 full seasons."
      ],
      "metadata": {
        "id": "FAEIO0jRpRM0"
      }
    },
    {
      "cell_type": "markdown",
      "source": [
        "## Cleaning"
      ],
      "metadata": {
        "id": "_uXBBz9VW3z7"
      }
    },
    {
      "cell_type": "markdown",
      "source": [
        "Perform clean-up on the contestants_df dataframe."
      ],
      "metadata": {
        "id": "WA6q-F-8YKyF"
      }
    },
    {
      "cell_type": "code",
      "source": [
        "# sometimes contestants will leave one week then return a later week. Remove the\n",
        "# rows from the table which reference them leaving (the info we care about is stored\n",
        "# in another row, including their final placement)\n",
        "contestants_df[contestants_df['Age'] == \"(Returned to competition)\"]\n",
        "\n",
        "# remove these rows -- the data for these contestants is still in the table, just a different row\n",
        "contestants_df = contestants_df[contestants_df['Age'] != \"(Returned to competition)\"]"
      ],
      "metadata": {
        "id": "RYqlqXvWhZ2c"
      },
      "execution_count": 5,
      "outputs": []
    },
    {
      "cell_type": "code",
      "source": [
        "# some contestants' names had hyperlinks. Remove the references attached\n",
        "contestants_df['Name'] = contestants_df['Name'].apply(lambda x: x.split('[')[0]\n",
        "                                                      if '[' in x else x)\n",
        "# separate town and state into their own columns\n",
        "contestants_df[['Town', 'State']] = contestants_df.Hometown.str.split(',', expand = True)\n",
        "# make sure age is numeric\n",
        "contestants_df['Age'] = pd.to_numeric(contestants_df['Age'])\n",
        "\n",
        "# keep desired columns\n",
        "cols = ['Season', 'Name', 'Age', 'Town', 'State', 'Occupation', 'Outcome']\n",
        "contestants_df = contestants_df[cols]"
      ],
      "metadata": {
        "id": "jB5GgA8ohX_U"
      },
      "execution_count": 6,
      "outputs": []
    },
    {
      "cell_type": "code",
      "source": [
        "contestants_df"
      ],
      "metadata": {
        "colab": {
          "base_uri": "https://localhost:8080/",
          "height": 423
        },
        "id": "wa2-Huk0oboM",
        "outputId": "e86f1ac0-5752-47e3-938d-77b319f5bc4d"
      },
      "execution_count": 7,
      "outputs": [
        {
          "output_type": "execute_result",
          "data": {
            "text/plain": [
              "     Season               Name   Age            Town        State  \\\n",
              "0         1       Amanda Marsh  23.0         Chanute       Kansas   \n",
              "1         1        Trista Rehn  29.0       St. Louis     Missouri   \n",
              "2         1     Shannon Oliver  24.0          Dallas        Texas   \n",
              "3         1                Kim  24.0           Tempe      Arizona   \n",
              "4         1       Cathy Grimes  22.0     Terre Haute      Indiana   \n",
              "..      ...                ...   ...             ...          ...   \n",
              "578      26          Jane Paik  33.0    Santa Monica   California   \n",
              "579      26      Lindsay Dobbs  27.0   Warner Robins      Georgia   \n",
              "580      26    Rianna Hockaday  26.0  Mount Pleasant        Texas   \n",
              "581      26  Samantha Jeffries  26.0          Dayton         Ohio   \n",
              "582      26      Claire Heilig  28.0  Virginia Beach     Virginia   \n",
              "\n",
              "                          Occupation    Outcome  \n",
              "0                      Event Planner     Winner  \n",
              "1                  Miami Heat Dancer  Runner-up  \n",
              "2    Financial Management Consultant     Week 5  \n",
              "3                              Nanny     Week 4  \n",
              "4                   Graduate Student     Week 3  \n",
              "..                               ...        ...  \n",
              "578            Social Media Director     Week 1  \n",
              "579                   Neonatal Nurse     Week 1  \n",
              "580                 Registered Nurse     Week 1  \n",
              "581           Occupational Therapist     Week 1  \n",
              "582                     Spray Tanner     Week 1  \n",
              "\n",
              "[579 rows x 7 columns]"
            ],
            "text/html": [
              "\n",
              "  <div id=\"df-2b83fc01-6b72-4cb8-9fd8-7f737751cabe\">\n",
              "    <div class=\"colab-df-container\">\n",
              "      <div>\n",
              "<style scoped>\n",
              "    .dataframe tbody tr th:only-of-type {\n",
              "        vertical-align: middle;\n",
              "    }\n",
              "\n",
              "    .dataframe tbody tr th {\n",
              "        vertical-align: top;\n",
              "    }\n",
              "\n",
              "    .dataframe thead th {\n",
              "        text-align: right;\n",
              "    }\n",
              "</style>\n",
              "<table border=\"1\" class=\"dataframe\">\n",
              "  <thead>\n",
              "    <tr style=\"text-align: right;\">\n",
              "      <th></th>\n",
              "      <th>Season</th>\n",
              "      <th>Name</th>\n",
              "      <th>Age</th>\n",
              "      <th>Town</th>\n",
              "      <th>State</th>\n",
              "      <th>Occupation</th>\n",
              "      <th>Outcome</th>\n",
              "    </tr>\n",
              "  </thead>\n",
              "  <tbody>\n",
              "    <tr>\n",
              "      <th>0</th>\n",
              "      <td>1</td>\n",
              "      <td>Amanda Marsh</td>\n",
              "      <td>23.0</td>\n",
              "      <td>Chanute</td>\n",
              "      <td>Kansas</td>\n",
              "      <td>Event Planner</td>\n",
              "      <td>Winner</td>\n",
              "    </tr>\n",
              "    <tr>\n",
              "      <th>1</th>\n",
              "      <td>1</td>\n",
              "      <td>Trista Rehn</td>\n",
              "      <td>29.0</td>\n",
              "      <td>St. Louis</td>\n",
              "      <td>Missouri</td>\n",
              "      <td>Miami Heat Dancer</td>\n",
              "      <td>Runner-up</td>\n",
              "    </tr>\n",
              "    <tr>\n",
              "      <th>2</th>\n",
              "      <td>1</td>\n",
              "      <td>Shannon Oliver</td>\n",
              "      <td>24.0</td>\n",
              "      <td>Dallas</td>\n",
              "      <td>Texas</td>\n",
              "      <td>Financial Management Consultant</td>\n",
              "      <td>Week 5</td>\n",
              "    </tr>\n",
              "    <tr>\n",
              "      <th>3</th>\n",
              "      <td>1</td>\n",
              "      <td>Kim</td>\n",
              "      <td>24.0</td>\n",
              "      <td>Tempe</td>\n",
              "      <td>Arizona</td>\n",
              "      <td>Nanny</td>\n",
              "      <td>Week 4</td>\n",
              "    </tr>\n",
              "    <tr>\n",
              "      <th>4</th>\n",
              "      <td>1</td>\n",
              "      <td>Cathy Grimes</td>\n",
              "      <td>22.0</td>\n",
              "      <td>Terre Haute</td>\n",
              "      <td>Indiana</td>\n",
              "      <td>Graduate Student</td>\n",
              "      <td>Week 3</td>\n",
              "    </tr>\n",
              "    <tr>\n",
              "      <th>...</th>\n",
              "      <td>...</td>\n",
              "      <td>...</td>\n",
              "      <td>...</td>\n",
              "      <td>...</td>\n",
              "      <td>...</td>\n",
              "      <td>...</td>\n",
              "      <td>...</td>\n",
              "    </tr>\n",
              "    <tr>\n",
              "      <th>578</th>\n",
              "      <td>26</td>\n",
              "      <td>Jane Paik</td>\n",
              "      <td>33.0</td>\n",
              "      <td>Santa Monica</td>\n",
              "      <td>California</td>\n",
              "      <td>Social Media Director</td>\n",
              "      <td>Week 1</td>\n",
              "    </tr>\n",
              "    <tr>\n",
              "      <th>579</th>\n",
              "      <td>26</td>\n",
              "      <td>Lindsay Dobbs</td>\n",
              "      <td>27.0</td>\n",
              "      <td>Warner Robins</td>\n",
              "      <td>Georgia</td>\n",
              "      <td>Neonatal Nurse</td>\n",
              "      <td>Week 1</td>\n",
              "    </tr>\n",
              "    <tr>\n",
              "      <th>580</th>\n",
              "      <td>26</td>\n",
              "      <td>Rianna Hockaday</td>\n",
              "      <td>26.0</td>\n",
              "      <td>Mount Pleasant</td>\n",
              "      <td>Texas</td>\n",
              "      <td>Registered Nurse</td>\n",
              "      <td>Week 1</td>\n",
              "    </tr>\n",
              "    <tr>\n",
              "      <th>581</th>\n",
              "      <td>26</td>\n",
              "      <td>Samantha Jeffries</td>\n",
              "      <td>26.0</td>\n",
              "      <td>Dayton</td>\n",
              "      <td>Ohio</td>\n",
              "      <td>Occupational Therapist</td>\n",
              "      <td>Week 1</td>\n",
              "    </tr>\n",
              "    <tr>\n",
              "      <th>582</th>\n",
              "      <td>26</td>\n",
              "      <td>Claire Heilig</td>\n",
              "      <td>28.0</td>\n",
              "      <td>Virginia Beach</td>\n",
              "      <td>Virginia</td>\n",
              "      <td>Spray Tanner</td>\n",
              "      <td>Week 1</td>\n",
              "    </tr>\n",
              "  </tbody>\n",
              "</table>\n",
              "<p>579 rows × 7 columns</p>\n",
              "</div>\n",
              "      <button class=\"colab-df-convert\" onclick=\"convertToInteractive('df-2b83fc01-6b72-4cb8-9fd8-7f737751cabe')\"\n",
              "              title=\"Convert this dataframe to an interactive table.\"\n",
              "              style=\"display:none;\">\n",
              "        \n",
              "  <svg xmlns=\"http://www.w3.org/2000/svg\" height=\"24px\"viewBox=\"0 0 24 24\"\n",
              "       width=\"24px\">\n",
              "    <path d=\"M0 0h24v24H0V0z\" fill=\"none\"/>\n",
              "    <path d=\"M18.56 5.44l.94 2.06.94-2.06 2.06-.94-2.06-.94-.94-2.06-.94 2.06-2.06.94zm-11 1L8.5 8.5l.94-2.06 2.06-.94-2.06-.94L8.5 2.5l-.94 2.06-2.06.94zm10 10l.94 2.06.94-2.06 2.06-.94-2.06-.94-.94-2.06-.94 2.06-2.06.94z\"/><path d=\"M17.41 7.96l-1.37-1.37c-.4-.4-.92-.59-1.43-.59-.52 0-1.04.2-1.43.59L10.3 9.45l-7.72 7.72c-.78.78-.78 2.05 0 2.83L4 21.41c.39.39.9.59 1.41.59.51 0 1.02-.2 1.41-.59l7.78-7.78 2.81-2.81c.8-.78.8-2.07 0-2.86zM5.41 20L4 18.59l7.72-7.72 1.47 1.35L5.41 20z\"/>\n",
              "  </svg>\n",
              "      </button>\n",
              "      \n",
              "  <style>\n",
              "    .colab-df-container {\n",
              "      display:flex;\n",
              "      flex-wrap:wrap;\n",
              "      gap: 12px;\n",
              "    }\n",
              "\n",
              "    .colab-df-convert {\n",
              "      background-color: #E8F0FE;\n",
              "      border: none;\n",
              "      border-radius: 50%;\n",
              "      cursor: pointer;\n",
              "      display: none;\n",
              "      fill: #1967D2;\n",
              "      height: 32px;\n",
              "      padding: 0 0 0 0;\n",
              "      width: 32px;\n",
              "    }\n",
              "\n",
              "    .colab-df-convert:hover {\n",
              "      background-color: #E2EBFA;\n",
              "      box-shadow: 0px 1px 2px rgba(60, 64, 67, 0.3), 0px 1px 3px 1px rgba(60, 64, 67, 0.15);\n",
              "      fill: #174EA6;\n",
              "    }\n",
              "\n",
              "    [theme=dark] .colab-df-convert {\n",
              "      background-color: #3B4455;\n",
              "      fill: #D2E3FC;\n",
              "    }\n",
              "\n",
              "    [theme=dark] .colab-df-convert:hover {\n",
              "      background-color: #434B5C;\n",
              "      box-shadow: 0px 1px 3px 1px rgba(0, 0, 0, 0.15);\n",
              "      filter: drop-shadow(0px 1px 2px rgba(0, 0, 0, 0.3));\n",
              "      fill: #FFFFFF;\n",
              "    }\n",
              "  </style>\n",
              "\n",
              "      <script>\n",
              "        const buttonEl =\n",
              "          document.querySelector('#df-2b83fc01-6b72-4cb8-9fd8-7f737751cabe button.colab-df-convert');\n",
              "        buttonEl.style.display =\n",
              "          google.colab.kernel.accessAllowed ? 'block' : 'none';\n",
              "\n",
              "        async function convertToInteractive(key) {\n",
              "          const element = document.querySelector('#df-2b83fc01-6b72-4cb8-9fd8-7f737751cabe');\n",
              "          const dataTable =\n",
              "            await google.colab.kernel.invokeFunction('convertToInteractive',\n",
              "                                                     [key], {});\n",
              "          if (!dataTable) return;\n",
              "\n",
              "          const docLinkHtml = 'Like what you see? Visit the ' +\n",
              "            '<a target=\"_blank\" href=https://colab.research.google.com/notebooks/data_table.ipynb>data table notebook</a>'\n",
              "            + ' to learn more about interactive tables.';\n",
              "          element.innerHTML = '';\n",
              "          dataTable['output_type'] = 'display_data';\n",
              "          await google.colab.output.renderOutput(dataTable, element);\n",
              "          const docLink = document.createElement('div');\n",
              "          docLink.innerHTML = docLinkHtml;\n",
              "          element.appendChild(docLink);\n",
              "        }\n",
              "      </script>\n",
              "    </div>\n",
              "  </div>\n",
              "  "
            ]
          },
          "metadata": {},
          "execution_count": 7
        }
      ]
    },
    {
      "cell_type": "markdown",
      "source": [
        "Create a new data frame representing all winners of the show. Note: Season 11 notoriously does not have a winner--that season's bachelor Brad Womack infamously broke up with both his final two women!\n",
        "\n",
        "Create another new data frame with the top four contestants from each season."
      ],
      "metadata": {
        "id": "HkR7aSGvsD-g"
      }
    },
    {
      "cell_type": "code",
      "source": [
        "# winners\n",
        "winners_df = contestants_df[contestants_df['Outcome'] == \"Winner\"]\n",
        "\n",
        "# top 4\n",
        "top4_df = contestants_df.groupby('Season').head(4)"
      ],
      "metadata": {
        "id": "GyKCTgIWrxBR"
      },
      "execution_count": 8,
      "outputs": []
    },
    {
      "cell_type": "markdown",
      "source": [
        "## Occupation Categorization \n",
        "The contestant occupations are specific to the individual. To better analyze trends in popular occupations, we will create a dictionary to categorize contestants' jobs. We created this dictionary based on common themes identified in the jobs of contestants in the top 4 of each season."
      ],
      "metadata": {
        "id": "0szh7HnwuXIf"
      }
    },
    {
      "cell_type": "code",
      "source": [
        "# set up key words we will use for detecting occupation categories\n",
        "marketing = ['Marketing', 'Content', 'Publicist', 'Communications', 'Social Media', 'Advertising']\n",
        "sales = ['Sales', 'Salesperson', 'Account Executive']\n",
        "finance = ['Finance', 'Financial']\n",
        "managmentconsult = ['Consultant', 'Business', 'Buyer', 'Executive Assistant',\n",
        "                    'Recruiter', 'Administrative']\n",
        "teacher = ['Teacher']\n",
        "student = ['Student']\n",
        "medical = ['Nurse', 'Hospital', 'Chiropractic', 'Phlebotomist']\n",
        "dance = ['Dancer', 'Dance Instructor', 'Cheerleader']\n",
        "therapy = ['Psychologist', 'Therapist', 'Speech Pathologist']\n",
        "dental = ['Dental']\n",
        "realestate = ['Real Estate', 'Realtor']\n",
        "attorney = ['Attorney']\n",
        "flight = ['Flight']\n",
        "arts = ['Graphic Designer', 'Creative Director', 'Photographer', 'Videographer', 'Actress', 'Designer']\n",
        "beauty = ['Stylist', 'Hairstylist', 'Esthetician', 'Fashion', 'Cosmetics', 'Clothier']\n",
        "events = ['Event Planner', 'Bridal', 'Funeral Director']\n",
        "model = ['Model']\n",
        "construction = ['Contractor']\n",
        "socialwork = ['Social Worker']\n",
        "\n",
        "# create a dictionary of job categories, with the values representing the list of jobs within the key\n",
        "job_dictionary1 = {'Marketing': marketing, 'Sales': sales, 'Teaching': teacher, \n",
        "                   'Finance': finance, 'Management and Consulting': managmentconsult,\n",
        "                  'Medical': medical, 'Dance': dance, 'Therapy': therapy,\n",
        "                  'Dental Care': dental, 'Real Estate': realestate, 'Legal': attorney, \n",
        "                  'Flight': flight, 'Arts': arts, 'Beauty': beauty, \n",
        "                  'Events': events, 'Modeling': model, 'Student': student,\n",
        "                   'Construction': construction, 'Social Work': socialwork}"
      ],
      "metadata": {
        "id": "dbIr6dgl3XKY"
      },
      "execution_count": 9,
      "outputs": []
    },
    {
      "cell_type": "markdown",
      "source": [
        "This function will look at the occupation of each contestant in a data frame and then look through each key, value pair in the provided job dictionary. If the contestant's occupation matches a job in one of the keys, the name of that key will be inputted as their job category. If the contestant's job does not appear in the dictionary, the category will be designated as \"Not Found\".\n",
        "\n",
        "Note: we are only running this function for the top 4 and winners dataframes since these contestants' jobs were the ones used in designing the dictionary. We are primarily interested in comparing the job categories for the women who were \"successful\" on the show."
      ],
      "metadata": {
        "id": "aPcDaGeYLf9S"
      }
    },
    {
      "cell_type": "code",
      "source": [
        "def calculateJobCategory(row):\n",
        "  occupation = row['Occupation'].casefold()\n",
        "\n",
        "  for k, v in job_dictionary1.items():\n",
        "    for occupation_keywords in v:\n",
        "      if occupation_keywords.casefold() in occupation:\n",
        "        return k\n",
        "\n",
        "  #print(f\"did not find {occupation}\")\n",
        "  return \"not found\"\n",
        "\n",
        "top4_df['Job Category'] = top4_df.apply(calculateJobCategory, axis=1)\n",
        "winners_df['Job Category'] = winners_df.apply(calculateJobCategory, axis=1)\n",
        "\n",
        "# counts of each job category among all Bachelorette contestants who made top 4\n",
        "top4_df['Job Category'].value_counts()"
      ],
      "metadata": {
        "id": "jwrMt6c2-7gI",
        "colab": {
          "base_uri": "https://localhost:8080/"
        },
        "outputId": "4b5b782b-aada-4378-ff33-b830e2258ff0"
      },
      "execution_count": 10,
      "outputs": [
        {
          "output_type": "stream",
          "name": "stderr",
          "text": [
            "<ipython-input-10-d7b5bab1e4a1>:12: SettingWithCopyWarning: \n",
            "A value is trying to be set on a copy of a slice from a DataFrame.\n",
            "Try using .loc[row_indexer,col_indexer] = value instead\n",
            "\n",
            "See the caveats in the documentation: https://pandas.pydata.org/pandas-docs/stable/user_guide/indexing.html#returning-a-view-versus-a-copy\n",
            "  top4_df['Job Category'] = top4_df.apply(calculateJobCategory, axis=1)\n",
            "<ipython-input-10-d7b5bab1e4a1>:13: SettingWithCopyWarning: \n",
            "A value is trying to be set on a copy of a slice from a DataFrame.\n",
            "Try using .loc[row_indexer,col_indexer] = value instead\n",
            "\n",
            "See the caveats in the documentation: https://pandas.pydata.org/pandas-docs/stable/user_guide/indexing.html#returning-a-view-versus-a-copy\n",
            "  winners_df['Job Category'] = winners_df.apply(calculateJobCategory, axis=1)\n"
          ]
        },
        {
          "output_type": "execute_result",
          "data": {
            "text/plain": [
              "Arts                         9\n",
              "Marketing                    9\n",
              "Management and Consulting    7\n",
              "Medical                      7\n",
              "Sales                        6\n",
              "Beauty                       6\n",
              "Teaching                     6\n",
              "not found                    5\n",
              "Modeling                     4\n",
              "Real Estate                  4\n",
              "Therapy                      3\n",
              "Student                      3\n",
              "Dance                        3\n",
              "Flight                       3\n",
              "Dental Care                  2\n",
              "Events                       2\n",
              "Legal                        2\n",
              "Social Work                  1\n",
              "Construction                 1\n",
              "Finance                      1\n",
              "Name: Job Category, dtype: int64"
            ]
          },
          "metadata": {},
          "execution_count": 10
        }
      ]
    },
    {
      "cell_type": "code",
      "source": [
        "#new Job Category df with percentages for TOP4 and WINNERS- women on Bachelor\n",
        "norm_job_4 = top4_df['Job Category'].value_counts()\n",
        "norm_job_4 = norm_job_4.reset_index(name='count')\n",
        "norm_job_4['percentage'] = norm_job_4['count']/norm_job_4['count'].sum()\n",
        "\n",
        "norm_job_win = winners_df['Job Category'].value_counts()\n",
        "norm_job_win = norm_job_win.reset_index(name='count')\n",
        "norm_job_win['percentage'] = norm_job_win['count']/norm_job_win['count'].sum()"
      ],
      "metadata": {
        "id": "8rzkrX7038Do"
      },
      "execution_count": 11,
      "outputs": []
    },
    {
      "cell_type": "markdown",
      "source": [
        "# The Bachelorette Data Gathering & Cleaning"
      ],
      "metadata": {
        "id": "UACBGn-aMTj6"
      }
    },
    {
      "cell_type": "markdown",
      "source": [
        "Now we will perform the same process, but for contestants on the Bachelorette, where a female lead dates a group of male suitors."
      ],
      "metadata": {
        "id": "IcVJxMy_Za3X"
      }
    },
    {
      "cell_type": "markdown",
      "source": [
        "## Scraping"
      ],
      "metadata": {
        "id": "ZxJ0oZl7XKAg"
      }
    },
    {
      "cell_type": "markdown",
      "source": [
        "Once again, we create an array representing the seasons we can obtain data from on Wikipedia. Thankfully this time, all seasons have contestant data available."
      ],
      "metadata": {
        "id": "x8gYZ-KyRAfm"
      }
    },
    {
      "cell_type": "code",
      "source": [
        "# The Bachelorette has had 19 seasons so far\n",
        "seasons = np.arange(1, 20, 1)"
      ],
      "metadata": {
        "id": "uMaOCMdpQgnt"
      },
      "execution_count": 12,
      "outputs": []
    },
    {
      "cell_type": "markdown",
      "source": [
        "Use the BeautifulSoup library to create a data frame containing information on all Bachelorette contestants, using the seasons_scrape() function from the prior section."
      ],
      "metadata": {
        "id": "JDgZ1l-ER6H6"
      }
    },
    {
      "cell_type": "code",
      "source": [
        "# create new contestant data frame for Bachelorette\n",
        "contestants_df2 = pd.DataFrame()\n",
        "urlstart = \"https://en.wikipedia.org/wiki/The_Bachelorette_(American_season_\"\n",
        "\n",
        "# call seasons_scrape() function\n",
        "contestants_df2 = seasons_scrape(seasons, contestants_df2, urlstart)"
      ],
      "metadata": {
        "id": "w235MuP0RMga"
      },
      "execution_count": 13,
      "outputs": []
    },
    {
      "cell_type": "markdown",
      "source": [
        "## Cleaning"
      ],
      "metadata": {
        "id": "_TzFDc9uXM8Z"
      }
    },
    {
      "cell_type": "markdown",
      "source": [
        "Perform some clean-up on the contestants dataframe:"
      ],
      "metadata": {
        "id": "_zjc_N1iTzCB"
      }
    },
    {
      "cell_type": "code",
      "source": [
        "# sometimes contestants will leave one week then return a later week. Remove the\n",
        "# rows from the table which reference them leaving (the info we care about is stored\n",
        "# in another row, including their final placement)\n",
        "contestants_df2[contestants_df2['Age'] == \"(Returned to competition)\"]\n",
        "\n",
        "# remove these rows -- the data for these contestants is still in the table, just a different row\n",
        "contestants_df2 = contestants_df2[contestants_df2['Age'] != \"(Returned to competition)\"]\n",
        "\n",
        "contestants_df2 = contestants_df2.dropna(axis=0)"
      ],
      "metadata": {
        "id": "uVTULdkdT4Sl"
      },
      "execution_count": 14,
      "outputs": []
    },
    {
      "cell_type": "code",
      "source": [
        "# some contestants' names had hyperlinks. Remove the references attached\n",
        "contestants_df2['Name'] = contestants_df2['Name'].apply(lambda x: x.split('[')[0] if '[' in x else x)\n",
        "# fix some unclean age values\n",
        "contestants_df2['Age'] = contestants_df2['Age'].apply(str).apply(lambda x: x.split('[')[0] if '[' in x else x)\n",
        "# separate town and state into their own columns\n",
        "contestants_df2[['Town', 'State']] = contestants_df2['Hometown'].str.split(',', expand = True)\n",
        "# make sure age is numeric\n",
        "contestants_df2['Age'] = pd.to_numeric(contestants_df2['Age'])\n",
        "\n",
        "# keep desired columns\n",
        "cols = ['Season', 'Name', 'Age', 'Town', 'State', 'Occupation', 'Outcome']\n",
        "contestants_df2 = contestants_df2[cols]"
      ],
      "metadata": {
        "id": "qmA59BzwXXJR",
        "colab": {
          "base_uri": "https://localhost:8080/"
        },
        "outputId": "162daa07-f385-48fe-f1da-7332fcb3fe5d"
      },
      "execution_count": 15,
      "outputs": [
        {
          "output_type": "stream",
          "name": "stderr",
          "text": [
            "<ipython-input-15-db3357fb9832>:2: SettingWithCopyWarning: \n",
            "A value is trying to be set on a copy of a slice from a DataFrame.\n",
            "Try using .loc[row_indexer,col_indexer] = value instead\n",
            "\n",
            "See the caveats in the documentation: https://pandas.pydata.org/pandas-docs/stable/user_guide/indexing.html#returning-a-view-versus-a-copy\n",
            "  contestants_df2['Name'] = contestants_df2['Name'].apply(lambda x: x.split('[')[0] if '[' in x else x)\n",
            "<ipython-input-15-db3357fb9832>:4: SettingWithCopyWarning: \n",
            "A value is trying to be set on a copy of a slice from a DataFrame.\n",
            "Try using .loc[row_indexer,col_indexer] = value instead\n",
            "\n",
            "See the caveats in the documentation: https://pandas.pydata.org/pandas-docs/stable/user_guide/indexing.html#returning-a-view-versus-a-copy\n",
            "  contestants_df2['Age'] = contestants_df2['Age'].apply(str).apply(lambda x: x.split('[')[0] if '[' in x else x)\n",
            "/usr/local/lib/python3.9/dist-packages/pandas/core/frame.py:3641: SettingWithCopyWarning: \n",
            "A value is trying to be set on a copy of a slice from a DataFrame.\n",
            "Try using .loc[row_indexer,col_indexer] = value instead\n",
            "\n",
            "See the caveats in the documentation: https://pandas.pydata.org/pandas-docs/stable/user_guide/indexing.html#returning-a-view-versus-a-copy\n",
            "  self[k1] = value[k2]\n",
            "<ipython-input-15-db3357fb9832>:8: SettingWithCopyWarning: \n",
            "A value is trying to be set on a copy of a slice from a DataFrame.\n",
            "Try using .loc[row_indexer,col_indexer] = value instead\n",
            "\n",
            "See the caveats in the documentation: https://pandas.pydata.org/pandas-docs/stable/user_guide/indexing.html#returning-a-view-versus-a-copy\n",
            "  contestants_df2['Age'] = pd.to_numeric(contestants_df2['Age'])\n"
          ]
        }
      ]
    },
    {
      "cell_type": "code",
      "source": [
        "contestants_df2"
      ],
      "metadata": {
        "colab": {
          "base_uri": "https://localhost:8080/",
          "height": 423
        },
        "id": "HAUL0X6Maf_J",
        "outputId": "6434c7d8-2f06-4928-a59b-e431e8bdc835"
      },
      "execution_count": 16,
      "outputs": [
        {
          "output_type": "execute_result",
          "data": {
            "text/plain": [
              "     Season                    Name  Age           Town         State  \\\n",
              "0         1             Ryan Sutter   28           Vail      Colorado   \n",
              "1         1           Charlie Maher   28  Hermosa Beach    California   \n",
              "2         1           Russell Woods   31     San Rafael    California   \n",
              "3         1            Greg Todtman   28      Manhattan      New York   \n",
              "4         1              Bob Guiney   31       Ferndale      Michigan   \n",
              "..      ...                     ...  ...            ...           ...   \n",
              "525      19            Chris Austin   30  Redondo Beach    California   \n",
              "526      19      Jordan Vandergriff   27     Alpharetta       Georgia   \n",
              "527      19              Joey Young   24     Brookfield   Connecticut   \n",
              "528      19            Justin Young   24     Brookfield   Connecticut   \n",
              "529      19  Robert \"Roby\" Sobieski   33    Los Angeles    California   \n",
              "\n",
              "            Occupation    Outcome  \n",
              "0          Firefighter     Winner  \n",
              "1    Financial Analyst  Runner-up  \n",
              "2               Writer     Week 5  \n",
              "3             Importer     Week 4  \n",
              "4      Mortgage Broker     Week 3  \n",
              "..                 ...        ...  \n",
              "525    Mentality Coach     Week 2  \n",
              "526         Drag Racer     Week 2  \n",
              "527               Twin     Week 1  \n",
              "528         Other Twin     Week 1  \n",
              "529           Magician     Week 1  \n",
              "\n",
              "[524 rows x 7 columns]"
            ],
            "text/html": [
              "\n",
              "  <div id=\"df-4eaf8ddd-3797-45ab-b595-15db28d65c23\">\n",
              "    <div class=\"colab-df-container\">\n",
              "      <div>\n",
              "<style scoped>\n",
              "    .dataframe tbody tr th:only-of-type {\n",
              "        vertical-align: middle;\n",
              "    }\n",
              "\n",
              "    .dataframe tbody tr th {\n",
              "        vertical-align: top;\n",
              "    }\n",
              "\n",
              "    .dataframe thead th {\n",
              "        text-align: right;\n",
              "    }\n",
              "</style>\n",
              "<table border=\"1\" class=\"dataframe\">\n",
              "  <thead>\n",
              "    <tr style=\"text-align: right;\">\n",
              "      <th></th>\n",
              "      <th>Season</th>\n",
              "      <th>Name</th>\n",
              "      <th>Age</th>\n",
              "      <th>Town</th>\n",
              "      <th>State</th>\n",
              "      <th>Occupation</th>\n",
              "      <th>Outcome</th>\n",
              "    </tr>\n",
              "  </thead>\n",
              "  <tbody>\n",
              "    <tr>\n",
              "      <th>0</th>\n",
              "      <td>1</td>\n",
              "      <td>Ryan Sutter</td>\n",
              "      <td>28</td>\n",
              "      <td>Vail</td>\n",
              "      <td>Colorado</td>\n",
              "      <td>Firefighter</td>\n",
              "      <td>Winner</td>\n",
              "    </tr>\n",
              "    <tr>\n",
              "      <th>1</th>\n",
              "      <td>1</td>\n",
              "      <td>Charlie Maher</td>\n",
              "      <td>28</td>\n",
              "      <td>Hermosa Beach</td>\n",
              "      <td>California</td>\n",
              "      <td>Financial Analyst</td>\n",
              "      <td>Runner-up</td>\n",
              "    </tr>\n",
              "    <tr>\n",
              "      <th>2</th>\n",
              "      <td>1</td>\n",
              "      <td>Russell Woods</td>\n",
              "      <td>31</td>\n",
              "      <td>San Rafael</td>\n",
              "      <td>California</td>\n",
              "      <td>Writer</td>\n",
              "      <td>Week 5</td>\n",
              "    </tr>\n",
              "    <tr>\n",
              "      <th>3</th>\n",
              "      <td>1</td>\n",
              "      <td>Greg Todtman</td>\n",
              "      <td>28</td>\n",
              "      <td>Manhattan</td>\n",
              "      <td>New York</td>\n",
              "      <td>Importer</td>\n",
              "      <td>Week 4</td>\n",
              "    </tr>\n",
              "    <tr>\n",
              "      <th>4</th>\n",
              "      <td>1</td>\n",
              "      <td>Bob Guiney</td>\n",
              "      <td>31</td>\n",
              "      <td>Ferndale</td>\n",
              "      <td>Michigan</td>\n",
              "      <td>Mortgage Broker</td>\n",
              "      <td>Week 3</td>\n",
              "    </tr>\n",
              "    <tr>\n",
              "      <th>...</th>\n",
              "      <td>...</td>\n",
              "      <td>...</td>\n",
              "      <td>...</td>\n",
              "      <td>...</td>\n",
              "      <td>...</td>\n",
              "      <td>...</td>\n",
              "      <td>...</td>\n",
              "    </tr>\n",
              "    <tr>\n",
              "      <th>525</th>\n",
              "      <td>19</td>\n",
              "      <td>Chris Austin</td>\n",
              "      <td>30</td>\n",
              "      <td>Redondo Beach</td>\n",
              "      <td>California</td>\n",
              "      <td>Mentality Coach</td>\n",
              "      <td>Week 2</td>\n",
              "    </tr>\n",
              "    <tr>\n",
              "      <th>526</th>\n",
              "      <td>19</td>\n",
              "      <td>Jordan Vandergriff</td>\n",
              "      <td>27</td>\n",
              "      <td>Alpharetta</td>\n",
              "      <td>Georgia</td>\n",
              "      <td>Drag Racer</td>\n",
              "      <td>Week 2</td>\n",
              "    </tr>\n",
              "    <tr>\n",
              "      <th>527</th>\n",
              "      <td>19</td>\n",
              "      <td>Joey Young</td>\n",
              "      <td>24</td>\n",
              "      <td>Brookfield</td>\n",
              "      <td>Connecticut</td>\n",
              "      <td>Twin</td>\n",
              "      <td>Week 1</td>\n",
              "    </tr>\n",
              "    <tr>\n",
              "      <th>528</th>\n",
              "      <td>19</td>\n",
              "      <td>Justin Young</td>\n",
              "      <td>24</td>\n",
              "      <td>Brookfield</td>\n",
              "      <td>Connecticut</td>\n",
              "      <td>Other Twin</td>\n",
              "      <td>Week 1</td>\n",
              "    </tr>\n",
              "    <tr>\n",
              "      <th>529</th>\n",
              "      <td>19</td>\n",
              "      <td>Robert \"Roby\" Sobieski</td>\n",
              "      <td>33</td>\n",
              "      <td>Los Angeles</td>\n",
              "      <td>California</td>\n",
              "      <td>Magician</td>\n",
              "      <td>Week 1</td>\n",
              "    </tr>\n",
              "  </tbody>\n",
              "</table>\n",
              "<p>524 rows × 7 columns</p>\n",
              "</div>\n",
              "      <button class=\"colab-df-convert\" onclick=\"convertToInteractive('df-4eaf8ddd-3797-45ab-b595-15db28d65c23')\"\n",
              "              title=\"Convert this dataframe to an interactive table.\"\n",
              "              style=\"display:none;\">\n",
              "        \n",
              "  <svg xmlns=\"http://www.w3.org/2000/svg\" height=\"24px\"viewBox=\"0 0 24 24\"\n",
              "       width=\"24px\">\n",
              "    <path d=\"M0 0h24v24H0V0z\" fill=\"none\"/>\n",
              "    <path d=\"M18.56 5.44l.94 2.06.94-2.06 2.06-.94-2.06-.94-.94-2.06-.94 2.06-2.06.94zm-11 1L8.5 8.5l.94-2.06 2.06-.94-2.06-.94L8.5 2.5l-.94 2.06-2.06.94zm10 10l.94 2.06.94-2.06 2.06-.94-2.06-.94-.94-2.06-.94 2.06-2.06.94z\"/><path d=\"M17.41 7.96l-1.37-1.37c-.4-.4-.92-.59-1.43-.59-.52 0-1.04.2-1.43.59L10.3 9.45l-7.72 7.72c-.78.78-.78 2.05 0 2.83L4 21.41c.39.39.9.59 1.41.59.51 0 1.02-.2 1.41-.59l7.78-7.78 2.81-2.81c.8-.78.8-2.07 0-2.86zM5.41 20L4 18.59l7.72-7.72 1.47 1.35L5.41 20z\"/>\n",
              "  </svg>\n",
              "      </button>\n",
              "      \n",
              "  <style>\n",
              "    .colab-df-container {\n",
              "      display:flex;\n",
              "      flex-wrap:wrap;\n",
              "      gap: 12px;\n",
              "    }\n",
              "\n",
              "    .colab-df-convert {\n",
              "      background-color: #E8F0FE;\n",
              "      border: none;\n",
              "      border-radius: 50%;\n",
              "      cursor: pointer;\n",
              "      display: none;\n",
              "      fill: #1967D2;\n",
              "      height: 32px;\n",
              "      padding: 0 0 0 0;\n",
              "      width: 32px;\n",
              "    }\n",
              "\n",
              "    .colab-df-convert:hover {\n",
              "      background-color: #E2EBFA;\n",
              "      box-shadow: 0px 1px 2px rgba(60, 64, 67, 0.3), 0px 1px 3px 1px rgba(60, 64, 67, 0.15);\n",
              "      fill: #174EA6;\n",
              "    }\n",
              "\n",
              "    [theme=dark] .colab-df-convert {\n",
              "      background-color: #3B4455;\n",
              "      fill: #D2E3FC;\n",
              "    }\n",
              "\n",
              "    [theme=dark] .colab-df-convert:hover {\n",
              "      background-color: #434B5C;\n",
              "      box-shadow: 0px 1px 3px 1px rgba(0, 0, 0, 0.15);\n",
              "      filter: drop-shadow(0px 1px 2px rgba(0, 0, 0, 0.3));\n",
              "      fill: #FFFFFF;\n",
              "    }\n",
              "  </style>\n",
              "\n",
              "      <script>\n",
              "        const buttonEl =\n",
              "          document.querySelector('#df-4eaf8ddd-3797-45ab-b595-15db28d65c23 button.colab-df-convert');\n",
              "        buttonEl.style.display =\n",
              "          google.colab.kernel.accessAllowed ? 'block' : 'none';\n",
              "\n",
              "        async function convertToInteractive(key) {\n",
              "          const element = document.querySelector('#df-4eaf8ddd-3797-45ab-b595-15db28d65c23');\n",
              "          const dataTable =\n",
              "            await google.colab.kernel.invokeFunction('convertToInteractive',\n",
              "                                                     [key], {});\n",
              "          if (!dataTable) return;\n",
              "\n",
              "          const docLinkHtml = 'Like what you see? Visit the ' +\n",
              "            '<a target=\"_blank\" href=https://colab.research.google.com/notebooks/data_table.ipynb>data table notebook</a>'\n",
              "            + ' to learn more about interactive tables.';\n",
              "          element.innerHTML = '';\n",
              "          dataTable['output_type'] = 'display_data';\n",
              "          await google.colab.output.renderOutput(dataTable, element);\n",
              "          const docLink = document.createElement('div');\n",
              "          docLink.innerHTML = docLinkHtml;\n",
              "          element.appendChild(docLink);\n",
              "        }\n",
              "      </script>\n",
              "    </div>\n",
              "  </div>\n",
              "  "
            ]
          },
          "metadata": {},
          "execution_count": 16
        }
      ]
    },
    {
      "cell_type": "markdown",
      "source": [
        "Create two new data frames for the winners and top 4 of each season. It should be noted that two Bachelorette seasons are rather special--seasons 16 and 19 both had two different Bachelorettes, so they will each have two winners!"
      ],
      "metadata": {
        "id": "kVbruM6-hImz"
      }
    },
    {
      "cell_type": "code",
      "source": [
        "# winners\n",
        "winners_df2 = contestants_df2[contestants_df2['Outcome'] == \"Winner\"]\n",
        "\n",
        "# top 4\n",
        "top4_df2 = contestants_df2.groupby('Season').head(4)"
      ],
      "metadata": {
        "id": "ks8wR2RnhLsq"
      },
      "execution_count": 17,
      "outputs": []
    },
    {
      "cell_type": "markdown",
      "source": [
        "## Occupation Categorization"
      ],
      "metadata": {
        "id": "bZauhiebXUS_"
      }
    },
    {
      "cell_type": "markdown",
      "source": [
        "We will create a different jobs dictionary, since the male contestants tend to have different jobs from the female contestants. Like we did with the female contestants, we observed common trends among the top 4 contestants from each season to create this dictionary."
      ],
      "metadata": {
        "id": "9Ulvcxi0XXoO"
      }
    },
    {
      "cell_type": "code",
      "source": [
        "# set up key words we will use for detecting occupation categories\n",
        "marketing = ['Marketing', 'Content', 'Publicist', 'Communications', 'Social Media']\n",
        "finance = ['Banker', 'Portfolio', 'Equity', 'Financial', 'Investment']\n",
        "sales = ['Sales', 'Salesperson', 'Salesman', 'Insurance Agent']\n",
        "managementconsult = ['Consultant', 'Business', 'Buyer', 'Entrepreneur', \n",
        "                     'Wine', 'Restaurant', 'Startup', 'Account Executive', 'Tech Executive',\n",
        "                     'Retail Manager']\n",
        "teacher = ['Teacher']\n",
        "student = ['Student']\n",
        "medical = ['Nurse', 'Hospital', 'Chiropractor', 'Medicine']\n",
        "sports = ['Snowboarder', 'Football', 'Quarterback', 'Swimmer',' Trainer', 'Race', \n",
        "          'Baseball', 'Basketball', 'Personal Trainer']\n",
        "therapy = ['Psychologist', 'Therapist', 'Speech Pathologist', 'Addiction Specialist']\n",
        "dental = ['Dental']\n",
        "arts = ['Singer', 'Photographer', 'Writer', 'Musician', 'Art']\n",
        "realestate = ['Real Estate', 'Realtor', 'Mortgage']\n",
        "attorney = ['Attorney']\n",
        "flight = ['Flight', 'Pilot']\n",
        "engineer = ['Engineer']\n",
        "armyvet = ['Army', 'Veteran']\n",
        "construction = ['General Contractor', 'Construction', 'Landscaper']\n",
        "\n",
        "# create a dictionary of job categories, with the values representing the list of jobs within the key\n",
        "job_dictionary2 = {'Marketing': marketing, 'Finance': finance, 'Sales': sales, 'Teaching': teacher, 'Management and Consulting': managementconsult,\n",
        "                  'Medical': medical, 'Sports': sports, 'Arts': arts, 'Therapy': therapy,\n",
        "                  'Dental Care': dental, 'Real Estate': realestate, 'Legal': attorney, \n",
        "                  'Flight': flight, 'Engineering': engineer, \n",
        "                  'Army or Veteran': armyvet, 'Student': student, 'Construction': construction}"
      ],
      "metadata": {
        "id": "SQwxJR6rzKFk"
      },
      "execution_count": 18,
      "outputs": []
    },
    {
      "cell_type": "code",
      "source": [
        "def calculateJobCategory(row):\n",
        "  occupation = row['Occupation'].casefold()\n",
        "\n",
        "  for k, v in job_dictionary2.items():\n",
        "    for occupation_keywords in v:\n",
        "      if occupation_keywords.casefold() in occupation:\n",
        "        return k\n",
        "\n",
        "  #print(f\"did not find {occupation}\")\n",
        "  return \"not found\"\n",
        "\n",
        "top4_df2['Job Category'] = top4_df2.apply(calculateJobCategory, axis=1)\n",
        "winners_df2['Job Category'] = winners_df2.apply(calculateJobCategory, axis=1)\n",
        "\n",
        "# counts of each job category among all Bachelorette contestants who made top 4\n",
        "top4_df2['Job Category'].value_counts()"
      ],
      "metadata": {
        "colab": {
          "base_uri": "https://localhost:8080/"
        },
        "id": "kawDXhbAuvvR",
        "outputId": "a86b0b74-4c19-4937-dbfc-31899fb0a4e8"
      },
      "execution_count": 19,
      "outputs": [
        {
          "output_type": "stream",
          "name": "stderr",
          "text": [
            "<ipython-input-19-1ecf9a92a34f>:12: SettingWithCopyWarning: \n",
            "A value is trying to be set on a copy of a slice from a DataFrame.\n",
            "Try using .loc[row_indexer,col_indexer] = value instead\n",
            "\n",
            "See the caveats in the documentation: https://pandas.pydata.org/pandas-docs/stable/user_guide/indexing.html#returning-a-view-versus-a-copy\n",
            "  top4_df2['Job Category'] = top4_df2.apply(calculateJobCategory, axis=1)\n",
            "<ipython-input-19-1ecf9a92a34f>:13: SettingWithCopyWarning: \n",
            "A value is trying to be set on a copy of a slice from a DataFrame.\n",
            "Try using .loc[row_indexer,col_indexer] = value instead\n",
            "\n",
            "See the caveats in the documentation: https://pandas.pydata.org/pandas-docs/stable/user_guide/indexing.html#returning-a-view-versus-a-copy\n",
            "  winners_df2['Job Category'] = winners_df2.apply(calculateJobCategory, axis=1)\n"
          ]
        },
        {
          "output_type": "execute_result",
          "data": {
            "text/plain": [
              "Sales                        16\n",
              "Management and Consulting    14\n",
              "Sports                       10\n",
              "not found                     6\n",
              "Finance                       5\n",
              "Real Estate                   5\n",
              "Arts                          4\n",
              "Construction                  4\n",
              "Medical                       3\n",
              "Marketing                     2\n",
              "Engineering                   2\n",
              "Army or Veteran               2\n",
              "Teaching                      1\n",
              "Flight                        1\n",
              "Therapy                       1\n",
              "Name: Job Category, dtype: int64"
            ]
          },
          "metadata": {},
          "execution_count": 19
        }
      ]
    },
    {
      "cell_type": "markdown",
      "source": [
        "Normalize the categories and get the percent of contestants each makes up."
      ],
      "metadata": {
        "id": "t6DB4z4bG6QR"
      }
    },
    {
      "cell_type": "code",
      "source": [
        "#new Job Category df with percentages for TOP4 and WINNERS- men on Bachelor\n",
        "norm_job_4_2 = top4_df2['Job Category'].value_counts()\n",
        "norm_job_4_2 = norm_job_4_2.reset_index(name='count')\n",
        "norm_job_4_2['percentage'] = norm_job_4_2['count']/norm_job_4_2['count'].sum()\n",
        "\n",
        "norm_job_win2 = winners_df2['Job Category'].value_counts()\n",
        "norm_job_win2 = norm_job_win2.reset_index(name='count')\n",
        "norm_job_win2['percentage'] = norm_job_win2['count']/norm_job_win2['count'].sum()"
      ],
      "metadata": {
        "id": "WapN7q-p51jj"
      },
      "execution_count": 20,
      "outputs": []
    },
    {
      "cell_type": "code",
      "source": [
        "norm_job_4_2.head()"
      ],
      "metadata": {
        "colab": {
          "base_uri": "https://localhost:8080/",
          "height": 206
        },
        "id": "zlSRh4RK2tiX",
        "outputId": "c5f85c30-4758-46bd-a8f6-bdefd756437b"
      },
      "execution_count": 21,
      "outputs": [
        {
          "output_type": "execute_result",
          "data": {
            "text/plain": [
              "                       index  count  percentage\n",
              "0                      Sales     16    0.210526\n",
              "1  Management and Consulting     14    0.184211\n",
              "2                     Sports     10    0.131579\n",
              "3                  not found      6    0.078947\n",
              "4                    Finance      5    0.065789"
            ],
            "text/html": [
              "\n",
              "  <div id=\"df-3378e392-8396-4230-a7b8-3a230da05f34\">\n",
              "    <div class=\"colab-df-container\">\n",
              "      <div>\n",
              "<style scoped>\n",
              "    .dataframe tbody tr th:only-of-type {\n",
              "        vertical-align: middle;\n",
              "    }\n",
              "\n",
              "    .dataframe tbody tr th {\n",
              "        vertical-align: top;\n",
              "    }\n",
              "\n",
              "    .dataframe thead th {\n",
              "        text-align: right;\n",
              "    }\n",
              "</style>\n",
              "<table border=\"1\" class=\"dataframe\">\n",
              "  <thead>\n",
              "    <tr style=\"text-align: right;\">\n",
              "      <th></th>\n",
              "      <th>index</th>\n",
              "      <th>count</th>\n",
              "      <th>percentage</th>\n",
              "    </tr>\n",
              "  </thead>\n",
              "  <tbody>\n",
              "    <tr>\n",
              "      <th>0</th>\n",
              "      <td>Sales</td>\n",
              "      <td>16</td>\n",
              "      <td>0.210526</td>\n",
              "    </tr>\n",
              "    <tr>\n",
              "      <th>1</th>\n",
              "      <td>Management and Consulting</td>\n",
              "      <td>14</td>\n",
              "      <td>0.184211</td>\n",
              "    </tr>\n",
              "    <tr>\n",
              "      <th>2</th>\n",
              "      <td>Sports</td>\n",
              "      <td>10</td>\n",
              "      <td>0.131579</td>\n",
              "    </tr>\n",
              "    <tr>\n",
              "      <th>3</th>\n",
              "      <td>not found</td>\n",
              "      <td>6</td>\n",
              "      <td>0.078947</td>\n",
              "    </tr>\n",
              "    <tr>\n",
              "      <th>4</th>\n",
              "      <td>Finance</td>\n",
              "      <td>5</td>\n",
              "      <td>0.065789</td>\n",
              "    </tr>\n",
              "  </tbody>\n",
              "</table>\n",
              "</div>\n",
              "      <button class=\"colab-df-convert\" onclick=\"convertToInteractive('df-3378e392-8396-4230-a7b8-3a230da05f34')\"\n",
              "              title=\"Convert this dataframe to an interactive table.\"\n",
              "              style=\"display:none;\">\n",
              "        \n",
              "  <svg xmlns=\"http://www.w3.org/2000/svg\" height=\"24px\"viewBox=\"0 0 24 24\"\n",
              "       width=\"24px\">\n",
              "    <path d=\"M0 0h24v24H0V0z\" fill=\"none\"/>\n",
              "    <path d=\"M18.56 5.44l.94 2.06.94-2.06 2.06-.94-2.06-.94-.94-2.06-.94 2.06-2.06.94zm-11 1L8.5 8.5l.94-2.06 2.06-.94-2.06-.94L8.5 2.5l-.94 2.06-2.06.94zm10 10l.94 2.06.94-2.06 2.06-.94-2.06-.94-.94-2.06-.94 2.06-2.06.94z\"/><path d=\"M17.41 7.96l-1.37-1.37c-.4-.4-.92-.59-1.43-.59-.52 0-1.04.2-1.43.59L10.3 9.45l-7.72 7.72c-.78.78-.78 2.05 0 2.83L4 21.41c.39.39.9.59 1.41.59.51 0 1.02-.2 1.41-.59l7.78-7.78 2.81-2.81c.8-.78.8-2.07 0-2.86zM5.41 20L4 18.59l7.72-7.72 1.47 1.35L5.41 20z\"/>\n",
              "  </svg>\n",
              "      </button>\n",
              "      \n",
              "  <style>\n",
              "    .colab-df-container {\n",
              "      display:flex;\n",
              "      flex-wrap:wrap;\n",
              "      gap: 12px;\n",
              "    }\n",
              "\n",
              "    .colab-df-convert {\n",
              "      background-color: #E8F0FE;\n",
              "      border: none;\n",
              "      border-radius: 50%;\n",
              "      cursor: pointer;\n",
              "      display: none;\n",
              "      fill: #1967D2;\n",
              "      height: 32px;\n",
              "      padding: 0 0 0 0;\n",
              "      width: 32px;\n",
              "    }\n",
              "\n",
              "    .colab-df-convert:hover {\n",
              "      background-color: #E2EBFA;\n",
              "      box-shadow: 0px 1px 2px rgba(60, 64, 67, 0.3), 0px 1px 3px 1px rgba(60, 64, 67, 0.15);\n",
              "      fill: #174EA6;\n",
              "    }\n",
              "\n",
              "    [theme=dark] .colab-df-convert {\n",
              "      background-color: #3B4455;\n",
              "      fill: #D2E3FC;\n",
              "    }\n",
              "\n",
              "    [theme=dark] .colab-df-convert:hover {\n",
              "      background-color: #434B5C;\n",
              "      box-shadow: 0px 1px 3px 1px rgba(0, 0, 0, 0.15);\n",
              "      filter: drop-shadow(0px 1px 2px rgba(0, 0, 0, 0.3));\n",
              "      fill: #FFFFFF;\n",
              "    }\n",
              "  </style>\n",
              "\n",
              "      <script>\n",
              "        const buttonEl =\n",
              "          document.querySelector('#df-3378e392-8396-4230-a7b8-3a230da05f34 button.colab-df-convert');\n",
              "        buttonEl.style.display =\n",
              "          google.colab.kernel.accessAllowed ? 'block' : 'none';\n",
              "\n",
              "        async function convertToInteractive(key) {\n",
              "          const element = document.querySelector('#df-3378e392-8396-4230-a7b8-3a230da05f34');\n",
              "          const dataTable =\n",
              "            await google.colab.kernel.invokeFunction('convertToInteractive',\n",
              "                                                     [key], {});\n",
              "          if (!dataTable) return;\n",
              "\n",
              "          const docLinkHtml = 'Like what you see? Visit the ' +\n",
              "            '<a target=\"_blank\" href=https://colab.research.google.com/notebooks/data_table.ipynb>data table notebook</a>'\n",
              "            + ' to learn more about interactive tables.';\n",
              "          element.innerHTML = '';\n",
              "          dataTable['output_type'] = 'display_data';\n",
              "          await google.colab.output.renderOutput(dataTable, element);\n",
              "          const docLink = document.createElement('div');\n",
              "          docLink.innerHTML = docLinkHtml;\n",
              "          element.appendChild(docLink);\n",
              "        }\n",
              "      </script>\n",
              "    </div>\n",
              "  </div>\n",
              "  "
            ]
          },
          "metadata": {},
          "execution_count": 21
        }
      ]
    },
    {
      "cell_type": "markdown",
      "source": [
        "# Visualization of Contestant Demographics"
      ],
      "metadata": {
        "id": "JZpvsBIATHEx"
      }
    },
    {
      "cell_type": "markdown",
      "source": [
        "## Contestants by Age"
      ],
      "metadata": {
        "id": "v6Cv81-CUBuF"
      }
    },
    {
      "cell_type": "markdown",
      "source": [
        "To start our investigation into contestants' age, we will first show boxplots of all contestant ages by season for both franchises."
      ],
      "metadata": {
        "id": "IdXVgkoIGubh"
      }
    },
    {
      "cell_type": "code",
      "source": [
        "fig, ax = plt.subplots(nrows = 2, ncols = 1, figsize=(15, 12))\n",
        "\n",
        "#distribution of ALL Contestant ages by season: Bachelor\n",
        "sns.boxplot(x='Season', y='Age', data = contestants_df, ax=ax[0])\n",
        "ax[0].set_title(\"Distribution of Female Contestant Ages by Season: The Bachelor\")\n",
        "\n",
        "#distribution of ALL Contestant ages by season: Bachelorette\n",
        "sns.boxplot(x='Season', y='Age', data = contestants_df2, ax=ax[1])\n",
        "ax[1].set_title(\"Distribution of Male Contestant Ages by Season: The Bachelorette\") \n",
        "# show the graph\n",
        "plt.show()"
      ],
      "metadata": {
        "id": "gfZEBgpkSgYg",
        "colab": {
          "base_uri": "https://localhost:8080/",
          "height": 730
        },
        "outputId": "c25c1aa5-4a87-46f4-afd0-e8e56594f7c9"
      },
      "execution_count": 22,
      "outputs": [
        {
          "output_type": "display_data",
          "data": {
            "text/plain": [
              "<Figure size 1080x864 with 2 Axes>"
            ],
            "image/png": "[encoded data removed]"
          },
          "metadata": {
            "needs_background": "light"
          }
        }
      ]
    },
    {
      "cell_type": "markdown",
      "source": [
        "**Overall (all Contestants, all Seasons) mean ages were as follows:**  \n",
        "\n",
        "Female Mean Age: 26.3 years old \n",
        "\n",
        "Male Mean Age: 29.1 years old \n"
      ],
      "metadata": {
        "id": "Sru2NN3DQYnz"
      }
    },
    {
      "cell_type": "markdown",
      "source": [
        "Now, we will examine how the distribution of contestant ages for all seasons on the Bachelor varies Overall, among the Top 4 contestants, and among the Winners."
      ],
      "metadata": {
        "id": "6W1VJ1xvrYVG"
      }
    },
    {
      "cell_type": "code",
      "source": [
        "df_list = [contestants_df, top4_df, winners_df]\n",
        "df_names = ['Overall', 'Top 4', 'Winners']\n",
        "colors = ['thistle', 'plum', 'violet']\n",
        "fig, axes = plt.subplots(nrows = 1, ncols = 3, figsize = (10,8))\n",
        "\n",
        "for c in range(3):\n",
        "  sns.boxplot(y='Age', data = df_list[c], ax=axes[c], color=colors[c], \n",
        "              showmeans = True, meanprops = {'marker': 'o',\n",
        "                                             'markerfacecolor': 'white',\n",
        "                                             'markeredgecolor': 'black',\n",
        "                                             'markersize': 7})\n",
        "  axes[c].set(ylabel='', xlabel=df_names[c])\n",
        "  axes[c].set_ylim(20,37)\n",
        "  axes[c].set_facecolor\n",
        "\n",
        "fig.subplots_adjust(top=0.9)\n",
        "fig.suptitle(\"Distribution of Female Contestant Ages on The Bachelor\")\n",
        "plt.show()"
      ],
      "metadata": {
        "colab": {
          "base_uri": "https://localhost:8080/",
          "height": 544
        },
        "id": "mZPAb8wBq3dT",
        "outputId": "b0292bff-4541-4181-bd2e-1421647d2dc3"
      },
      "execution_count": 23,
      "outputs": [
        {
          "output_type": "display_data",
          "data": {
            "text/plain": [
              "<Figure size 720x576 with 3 Axes>"
            ],
            "image/png": "[encoded data removed]"
          },
          "metadata": {
            "needs_background": "light"
          }
        }
      ]
    },
    {
      "cell_type": "markdown",
      "source": [
        "The boxplot demonstrates that the mean age Overall (all contestants) is slightly over 26, but for the Top 4 and the Winners, it slightly decreases to 25, with the Winners having the lowest mean age. We see that the variability in age also decreases from Overall to Top 4 to Winners. No woman over 29 has won the show before. This supports our hypothesis that the Bachelors tend to favor younger women, with ages 23-27 being the most popular."
      ],
      "metadata": {
        "id": "KxDdJ2Kt_1If"
      }
    },
    {
      "cell_type": "code",
      "source": [
        "df_list = [contestants_df2, top4_df2, winners_df2]\n",
        "df_names = ['Overall', 'Top 4', 'Winners']\n",
        "colors = ['skyblue', 'paleturquoise', 'mediumturquoise']\n",
        "fig, axes = plt.subplots(nrows = 1, ncols = 3, figsize = (10,8))\n",
        "\n",
        "for c in range(3):\n",
        "  sns.boxplot(y='Age', data = df_list[c], ax=axes[c], color=colors[c], \n",
        "              showmeans = True, meanprops = {'marker': 'o',\n",
        "                                             'markerfacecolor': 'white',\n",
        "                                             'markeredgecolor': 'black',\n",
        "                                             'markersize': 7})\n",
        "  axes[c].set(ylabel='', xlabel=df_names[c])\n",
        "  axes[c].set_ylim(22, 45)\n",
        "  axes[c].set_facecolor\n",
        "\n",
        "fig.subplots_adjust(top=0.9)\n",
        "fig.suptitle(\"Distribution of Male Contestant Ages on The Bachelorette\")\n",
        "plt.show()"
      ],
      "metadata": {
        "colab": {
          "base_uri": "https://localhost:8080/",
          "height": 544
        },
        "id": "Scws0jvvA_oY",
        "outputId": "594ad161-ce1d-437b-c651-96e88e11683e"
      },
      "execution_count": 24,
      "outputs": [
        {
          "output_type": "display_data",
          "data": {
            "text/plain": [
              "<Figure size 720x576 with 3 Axes>"
            ],
            "image/png": "[encoded data removed]"
          },
          "metadata": {
            "needs_background": "light"
          }
        }
      ]
    },
    {
      "cell_type": "markdown",
      "source": [
        "The mean age of male contestants looks to be around 28 years old for all subgroups- Overall, Top 4, and Winners. The distributions of the Overall and Top 4 groups are quite similar, except for a few outliers in the Overall grouping. For Winners, the IQR is much smaller. The majority of Winners are between ages 27-29. This narrow range of low age values is smaller than we expected; we expected more of the men who won to be in their early thirties. \n",
        "\n",
        "We had expected age to be a factor the Bachelors used to narrow down their top choices among the women, but the Bachelorettes seem to also be quite selective in their age preference of men!"
      ],
      "metadata": {
        "id": "_hxVX1tHCg2w"
      }
    },
    {
      "cell_type": "markdown",
      "source": [
        "## Contestants by Occupation"
      ],
      "metadata": {
        "id": "iCocligEzlZJ"
      }
    },
    {
      "cell_type": "markdown",
      "source": [
        "To determine the most common occupations among Winners or contestants who place in the Top 4, we will use a barplot, including the 7 most popular job categories."
      ],
      "metadata": {
        "id": "6i-5jcl6NFOD"
      }
    },
    {
      "cell_type": "code",
      "source": [
        "fig, axes = plt.subplots(nrows = 1, ncols = 2, figsize = (10,8))\n",
        "\n",
        "order_top4 = norm_job_4['index'].iloc[:7]\n",
        "order_winners = norm_job_win[\"index\"].iloc[:7]\n",
        "\n",
        "# value on the y axis will be the percentage of contestants from the category, instead of the count\n",
        "sns.barplot(x = norm_job_4[\"index\"], y = norm_job_4[\"percentage\"], color=\"pink\", ax = axes[0],\n",
        "              order=order_top4).set(title=\"Top 4\")\n",
        "axes[0].set_xticklabels(order_top4, rotation = 70)\n",
        "axes[0].set_xlabel('Job Category')\n",
        "axes[0].set_ylabel('Percentage')\n",
        "\n",
        "sns.barplot(x = norm_job_win[\"index\"], y = norm_job_win[\"percentage\"], color=\"coral\", ax = axes[1],\n",
        "              order=order_winners).set(title=\"Winners\")\n",
        "axes[1].set_xticklabels(order_winners, rotation = 70)\n",
        "axes[1].set_xlabel('Job Category')\n",
        "axes[1].set_ylabel('Percentage')\n",
        "\n",
        "fig.suptitle('Most Common Job Categories of High-Performing Female Bachelor Contestants')\n",
        "sns.despine()"
      ],
      "metadata": {
        "colab": {
          "base_uri": "https://localhost:8080/",
          "height": 683
        },
        "id": "wJ3zG6Pt9xOd",
        "outputId": "0b7546dc-5fa6-4a25-e0b5-6b02fc9b35ad"
      },
      "execution_count": 25,
      "outputs": [
        {
          "output_type": "display_data",
          "data": {
            "text/plain": [
              "<Figure size 720x576 with 2 Axes>"
            ],
            "image/png": "[encoded data removed]"
          },
          "metadata": {
            "needs_background": "light"
          }
        }
      ]
    },
    {
      "cell_type": "markdown",
      "source": [
        "For the Top 4 subgroup, there was 84 women total. For the Winners, there were 20 women. This histogram plots the popularity of the job in comparision to the entire group.\n",
        "Arts and Medicine are the leading job categories for female Winners, with categories Therapy, Teaching, Marketing, and Modeling all tied. \n",
        "Arts, marketing, teaching, and medicine are common among both the Top 4 and just Winners. Arts and Marketing are the most common field among contestants who made Top 4. We would expect marketing to be a common occupation for many Bachelor contestants, as the show's contestants sometimes are hopeful to build an influencer career after appearing on the show.\n",
        "\n",
        "Next, we will do the same visualization of most common Job Categories for the male contestants on The Bachelorette."
      ],
      "metadata": {
        "id": "QdqobsG0Ve67"
      }
    },
    {
      "cell_type": "code",
      "source": [
        "fig, axes = plt.subplots(nrows = 1, ncols = 2, figsize = (10,8))\n",
        "\n",
        "order_top4_2 = norm_job_4_2['index'].iloc[:7]\n",
        "order_winners_2 = norm_job_win2[\"index\"].iloc[:7]\n",
        "\n",
        "sns.barplot(x = norm_job_4_2[\"index\"], y = norm_job_4_2[\"percentage\"], color=\"lightsteelblue\", ax = axes[0],\n",
        "              order=order_top4_2).set(title=\"Top 4\")\n",
        "axes[0].set_xticklabels(order_top4_2, rotation = 70)\n",
        "axes[0].set_xlabel('Job Category')\n",
        "axes[0].set_ylabel('Percentage')\n",
        "\n",
        "sns.barplot(x = norm_job_win2[\"index\"], y = norm_job_win2[\"percentage\"], color=\"royalblue\", ax = axes[1],\n",
        "              order=order_winners_2).set(title=\"Winners\")\n",
        "axes[1].set_xticklabels(order_winners_2, rotation = 70)\n",
        "axes[1].set_xlabel('Job Category')\n",
        "axes[1].set_ylabel('Percentage')\n",
        "\n",
        "fig.suptitle('Most Common Job Categories of High-Performing Male Bachelorette Contestants')\n",
        "sns.despine()"
      ],
      "metadata": {
        "colab": {
          "base_uri": "https://localhost:8080/",
          "height": 683
        },
        "id": "kaDgmHM8_cW2",
        "outputId": "083b031b-8255-4f74-ce0d-4769e41a8d71"
      },
      "execution_count": 26,
      "outputs": [
        {
          "output_type": "display_data",
          "data": {
            "text/plain": [
              "<Figure size 720x576 with 2 Axes>"
            ],
            "image/png": "[encoded data removed]"
          },
          "metadata": {
            "needs_background": "light"
          }
        }
      ]
    },
    {
      "cell_type": "markdown",
      "source": [
        "For the Top 4 subgroup, there was 76 men total. For the Winners, there were 19 men. This histogram plots the popularity of the job in comparision to the entire group.\n",
        "For males, Sports and Sales are the most common job categories. We expected Sports to be a high-performing category, as the show's Bachelorettes may be interested in dating an athlete. However, we had not considered how popular Sales would be. 16 contestants who made top 4 had sales jobs! We are curious if this is simply because lots of men who appear on the Bachelorette work in sales, or if men who work in sales know how to \"sell themselves\" as an ideal partner to the Bachelorette and push themselves far on the show."
      ],
      "metadata": {
        "id": "AY8Dhl1PV74u"
      }
    },
    {
      "cell_type": "markdown",
      "source": [
        "## Contestants by Home State"
      ],
      "metadata": {
        "id": "Lw4lIk7RUIXa"
      }
    },
    {
      "cell_type": "markdown",
      "source": [
        "Another potential predictor variable we wanted to analyze is Home State of the contestants. "
      ],
      "metadata": {
        "id": "krzmiDlSRGvS"
      }
    },
    {
      "cell_type": "markdown",
      "source": [
        "First, we will normalize the categories for home state for Bachelor and Bachelorette contestants by comparing the frequency of state occurance to the whole of the subgroup for All, Top 4 and Winners."
      ],
      "metadata": {
        "id": "V1Y1oM2hH6AB"
      }
    },
    {
      "cell_type": "code",
      "source": [
        "#creating new df to normalize State Data for all subgroups for women on Bachelor\n",
        "\n",
        "norm_state_all = contestants_df['State'].value_counts()\n",
        "norm_state_all = norm_state_all.reset_index(name='count')\n",
        "norm_state_all['Percentage'] = norm_state_all['count']/norm_state_all['count'].sum()\n",
        "#print(norm_state_all)\n",
        "\n",
        "norm_state_4 = top4_df['State'].value_counts()\n",
        "norm_state_4 = norm_state_4.reset_index(name='count')\n",
        "norm_state_4['Percentage'] = norm_state_4['count']/norm_state_4['count'].sum()\n",
        "#print(norm_state_4)\n",
        "\n",
        "norm_state_win = winners_df['State'].value_counts()\n",
        "norm_state_win = norm_state_win.reset_index(name='count')\n",
        "norm_state_win['Percentage'] = norm_state_win['count']/norm_state_win['count'].sum()\n",
        "#print(norm_state_win)"
      ],
      "metadata": {
        "id": "hsXTZ_-284ro"
      },
      "execution_count": 27,
      "outputs": []
    },
    {
      "cell_type": "code",
      "source": [
        "#creating new df to normalize State Data for all subgroups for men on Bachelorette\n",
        "\n",
        "norm_state_all_2 = contestants_df2['State'].value_counts()\n",
        "norm_state_all_2 = norm_state_all_2.reset_index(name='count')\n",
        "norm_state_all_2['Percentage'] = norm_state_all_2['count']/norm_state_all_2['count'].sum()\n",
        "#print(norm_state_all)\n",
        "\n",
        "norm_state_4_2 = top4_df2['State'].value_counts()\n",
        "norm_state_4_2 = norm_state_4_2.reset_index(name='count')\n",
        "norm_state_4_2['Percentage'] = norm_state_4_2['count']/norm_state_4_2['count'].sum()\n",
        "#print(norm_state_4)\n",
        "\n",
        "norm_state_win_2 = winners_df2['State'].value_counts()\n",
        "norm_state_win_2 = norm_state_win_2.reset_index(name='count')\n",
        "norm_state_win_2['Percentage'] = norm_state_win_2['count']/norm_state_win_2['count'].sum()\n",
        "#print(norm_state_win)"
      ],
      "metadata": {
        "id": "sulMa6goHkEV"
      },
      "execution_count": 28,
      "outputs": []
    },
    {
      "cell_type": "markdown",
      "source": [
        "Plot the categories of state for Bachelor contestants."
      ],
      "metadata": {
        "id": "IeT3ilBkH_Nl"
      }
    },
    {
      "cell_type": "code",
      "source": [
        "#Popular home states for Overall, Winners, and Top 4: The Bachelor\n",
        "fig, axes = plt.subplots(nrows = 1, ncols = 3, figsize = (20,8))\n",
        "\n",
        "order_overall = norm_state_all['index'].iloc[:9]\n",
        "order_top4 = norm_state_4['index'].iloc[:9]\n",
        "order_winners = norm_state_win['index'].iloc[:9]\n",
        "\n",
        "sns.barplot(x = norm_state_all[\"index\"], y = norm_state_all[\"Percentage\"], color=\"palevioletred\", ax = axes[0],\n",
        "              order=order_overall).set(title=\"Overall\")\n",
        "axes[0].set_xticklabels(order_overall, rotation = 70)\n",
        "axes[0].set_xlabel(\"State\")\n",
        "\n",
        "sns.barplot(x = norm_state_4[\"index\"], y = norm_state_4[\"Percentage\"], color=\"pink\", ax = axes[1],\n",
        "              order=order_top4).set(title=\"Top 4\")\n",
        "axes[1].set_xticklabels(order_top4, rotation = 70)\n",
        "axes[1].set_xlabel(\"State\")\n",
        "\n",
        "sns.barplot(x = norm_state_win[\"index\"], y = norm_state_win[\"Percentage\"], color=\"coral\", ax = axes[2],\n",
        "              order=order_winners).set(title=\"Winners\")\n",
        "axes[2].set_xticklabels(order_winners, rotation = 70)\n",
        "axes[2].set_xlabel(\"State\")\n",
        "\n",
        "fig.suptitle('Most Common Home States of Female Bachelor Contestants')\n",
        "sns.despine()"
      ],
      "metadata": {
        "colab": {
          "base_uri": "https://localhost:8080/",
          "height": 613
        },
        "id": "oovOsOcAKEdW",
        "outputId": "ec45f265-25a0-4f12-cfd6-fbc0007233d1"
      },
      "execution_count": 29,
      "outputs": [
        {
          "output_type": "display_data",
          "data": {
            "text/plain": [
              "<Figure size 1440x576 with 3 Axes>"
            ],
            "image/png": "[encoded data removed]"
          },
          "metadata": {
            "needs_background": "light"
          }
        }
      ]
    },
    {
      "cell_type": "markdown",
      "source": [
        "Here we can see that many of the high performing contestants (Winners and Top 4) live in California and Florida. Many top 4 contestants also are from Texas. These three states are the most represented among all contestants, so this is not surprising. However, it is a bit interesting that Illinois and New York are the next two most popular states overall, and no winners have come from either of those two states (and only one person from both those states has even reached the top 4!).\n",
        "\n",
        "Now, we will take a look at home state among contestants on the Bachelorette."
      ],
      "metadata": {
        "id": "mtZ98zl6Ks2e"
      }
    },
    {
      "cell_type": "code",
      "source": [
        "#Popular home states for Overall, Winners, and Top 4: The Bachelorette\n",
        "fig, axes = plt.subplots(nrows = 1, ncols = 3, figsize = (20,8))\n",
        "\n",
        "order_overall2 = norm_state_all_2['index'].iloc[:9]\n",
        "order_top4_2 = norm_state_4_2['index'].iloc[:9]\n",
        "order_winners2 = norm_state_win_2['index'].iloc[:9]\n",
        "\n",
        "sns.barplot(x = norm_state_all_2[\"index\"], y = norm_state_all_2[\"Percentage\"], color=\"paleturquoise\", ax = axes[0],\n",
        "              order=order_overall2).set(title=\"Overall\")\n",
        "axes[0].set_xticklabels(order_overall2, rotation = 70)\n",
        "axes[0].set_xlabel(\"State\")\n",
        "\n",
        "sns.barplot(x = norm_state_4_2[\"index\"], y = norm_state_4_2[\"Percentage\"], color=\"lightsteelblue\", ax = axes[1],\n",
        "              order=order_top4_2).set(title=\"Top 4\")\n",
        "axes[1].set_xticklabels(order_top4_2, rotation = 70)\n",
        "axes[1].set_xlabel(\"State\")\n",
        "\n",
        "sns.barplot(x = norm_state_win_2[\"index\"], y = norm_state_win_2[\"Percentage\"], color=\"royalblue\", ax = axes[2],\n",
        "              order=order_winners2).set(title=\"Winners\")\n",
        "axes[2].set_xticklabels(order_winners2, rotation = 70)\n",
        "axes[2].set_xlabel(\"State\")\n",
        "\n",
        "fig.suptitle('Most Common Home States of Male Bachelorette Contestants')\n",
        "sns.despine()"
      ],
      "metadata": {
        "id": "TWI_b6xaUX1W",
        "colab": {
          "base_uri": "https://localhost:8080/",
          "height": 620
        },
        "outputId": "5ed01c60-e31f-493f-803e-00ac35354a6d"
      },
      "execution_count": 30,
      "outputs": [
        {
          "output_type": "display_data",
          "data": {
            "text/plain": [
              "<Figure size 1440x576 with 3 Axes>"
            ],
            "image/png": "[encoded data removed]"
          },
          "metadata": {
            "needs_background": "light"
          }
        }
      ]
    },
    {
      "cell_type": "markdown",
      "source": [
        "Similarly to the Bachelor, most Bachelorette contestants are from California, Texas, Illinois, Florida, and New York. After observing both the plots for the men and womens' home states, we observe that while Texans are one of the largest categories overall and in the Top 4, only one has actually won one of the shows before!"
      ],
      "metadata": {
        "id": "hbOHycgbRZMt"
      }
    },
    {
      "cell_type": "markdown",
      "source": [
        "# Continued Analysis"
      ],
      "metadata": {
        "id": "QJ7q6jgO28sH"
      }
    },
    {
      "cell_type": "markdown",
      "source": [
        "**Driving Questions:**  \n",
        "Do couples whose hometowns are a lower distance apart have a significantly higher chance of lasting after the show?\n",
        "\n",
        "Is there a significant difference between the proportion of couples from the Bachelor versus Bachelorette who last at least one year?\n",
        "\n",
        "What is the probability of winning/making top 4 if you are awarded the coveted \"first impression rose\"?  "
      ],
      "metadata": {
        "id": "YgFEx7Yy2-iM"
      }
    },
    {
      "cell_type": "markdown",
      "source": [
        "# Analysis of Relationship Length"
      ],
      "metadata": {
        "id": "0U_EAKe-EeGt"
      }
    },
    {
      "cell_type": "markdown",
      "source": [
        "We are now curious how long the couples on the Bachelor and Bachelorette tend to last after the show finishes airing. We will create new dataframes representing each season, with data on the lead, his/her final choice, and how long they last. We will also investigate whether the distance between the lead and their final choice's hometown is correlated with how long the couple lasts.\n",
        "\n",
        "(For seasons 13 and 22 of the Bachelor, where the Bachelor ended up breaking up with his final choice before the show finished airing and pursuing a relationship with the runner-up, we are going to use the data for the woman he chose to stay with, since these \"switches\" happened before the seasons finished airing.)"
      ],
      "metadata": {
        "id": "ZOuStH5XEkP6"
      }
    },
    {
      "cell_type": "markdown",
      "source": [
        "***Bachelor Couples***"
      ],
      "metadata": {
        "id": "BAIMtizMSFVq"
      }
    },
    {
      "cell_type": "markdown",
      "source": [
        "First we make the Bachelors data frame."
      ],
      "metadata": {
        "id": "aGmH5DDESKMg"
      }
    },
    {
      "cell_type": "code",
      "source": [
        "bachelors_df = pd.DataFrame()\n",
        "url = \"https://en.wikipedia.org/wiki/The_Bachelor_(American_TV_series)\"\n",
        "table_class = \"wikitable sortable jquery-tablesorter\"\n",
        "response = requests.get(url)\n",
        "soup = BeautifulSoup(response.text, 'html.parser')\n",
        "table = soup.find('table', {'class':\"wikitable\"})\n",
        "bachelors_df = pd.read_html(str(table))\n",
        "bachelors_df = pd.DataFrame(bachelors_df[0])\n",
        "# keep cols for season, bachelor, winner, and relationship status\n",
        "cols = ['Season', 'Bachelor', 'Winner', 'Still together?']\n",
        "bachelors_df = bachelors_df[cols]\n",
        "\n",
        "# some clean-up\n",
        "# remove \"[]\" from hyperlinks\n",
        "bachelors_df['Season'] = bachelors_df['Season'].apply(lambda x: x.split('[')[0] if '[' in x else x)\n",
        "# table includes the season & bachelor twice if there were two runner-ups. remove the duplicates\n",
        "bachelors_df.drop_duplicates(subset = ['Season'], keep = 'first', inplace = True) \n",
        "\n",
        "# in seasons 13 and 22, prior to the show finishing airing, the Bachelor chose to pursue\n",
        "#  his runner up instead of the winner. change the winner category to instead have the woman\n",
        "#  the bachelor ended up choosing. and adjust relationship status (both of these couples are still together!)\n",
        "bachelors_df.loc[bachelors_df['Season'] == '13', 'Winner'] = 'Molly Malaney'\n",
        "bachelors_df.loc[bachelors_df['Season'] == '22', 'Winner'] = 'Lauren Burnham'\n",
        "bachelors_df.loc[bachelors_df['Season'].isin(['13', '22']), 'Still together?'] = 'Together with Runner-Up'\n",
        "\n",
        "# change values of 'still together?'\n",
        "bachelors_df.loc[bachelors_df['Still together?'] == 'No', 'Still together?'] = 'Broken Up'\n",
        "bachelors_df.loc[bachelors_df['Still together?'] == 'Yes', 'Still together?'] = 'Together with Winner'\n",
        "\n",
        "# remove most recent season (27) since it hasn't finished airing\n",
        "bachelors_df.drop(bachelors_df.tail(1).index,inplace=True)\n",
        "\n",
        "# add a column for relationship length\n",
        "bachelors_df['Relationship Length in Years'] = [8/12, 3/12, 7/12,\n",
        "                                          1/12, 1/12, 5,\n",
        "                                          59/12, 1/12, 2/12,\n",
        "                                          4/12, 0, 2/12,\n",
        "                                          14, 3/12, 3/12,\n",
        "                                          7/12, 11, 7/12,\n",
        "                                          2/12, 14/12, 5/12,\n",
        "                                          5, 14/12, 0,\n",
        "                                          2, 6/12]"
      ],
      "metadata": {
        "id": "jcJJY6NlEcUD"
      },
      "execution_count": 31,
      "outputs": []
    },
    {
      "cell_type": "markdown",
      "source": [
        "This barplot displays the relationship lengths of Bachelor couples, colored by relationship status. We can see that only four couples are still together. The median relationship length is less than half a year. Interestingly, both couples who chose to go back on their choice and pursue the runner-up are still together."
      ],
      "metadata": {
        "id": "9-jE5QMhxYDR"
      }
    },
    {
      "cell_type": "code",
      "source": [
        "colors = {'Broken Up': 'silver', \n",
        "          'Together with Runner-Up': 'lightpink', \n",
        "          'Together with Winner': 'crimson'}\n",
        "\n",
        "plt.figure(figsize = (10,10))\n",
        "height = 0.9\n",
        "\n",
        "plt.title('Relationship Status of Bachelors', fontsize = 20)\n",
        "\n",
        "sns.barplot(y = bachelors_df['Season'].apply(str), x = bachelors_df['Relationship Length in Years'],\n",
        "         hue = bachelors_df['Still together?'], palette = colors, dodge = False)\n",
        "\n",
        "plt.legend(loc = 'upper right', fontsize = 12)\n",
        "plt.ylabel('Season', fontsize = 13)\n",
        "plt.xlabel('Relationship Length (Years After Finale Aired)', fontsize = 13)\n",
        "\n",
        "plt.show()"
      ],
      "metadata": {
        "colab": {
          "base_uri": "https://localhost:8080/",
          "height": 630
        },
        "id": "ML0utkweP59C",
        "outputId": "4a6bdc40-2638-4476-959a-e81c6b54fba1"
      },
      "execution_count": 32,
      "outputs": [
        {
          "output_type": "display_data",
          "data": {
            "text/plain": [
              "<Figure size 720x720 with 1 Axes>"
            ],
            "image/png": "[encoded data removed]"
          },
          "metadata": {
            "needs_background": "light"
          }
        }
      ]
    },
    {
      "cell_type": "code",
      "source": [
        "np.median(bachelors_df['Relationship Length in Years'])"
      ],
      "metadata": {
        "colab": {
          "base_uri": "https://localhost:8080/"
        },
        "id": "wP1COQbIyYM7",
        "outputId": "a6a91a7e-e336-4389-b980-66a26a8eadca"
      },
      "execution_count": 33,
      "outputs": [
        {
          "output_type": "execute_result",
          "data": {
            "text/plain": [
              "0.45833333333333337"
            ]
          },
          "metadata": {},
          "execution_count": 33
        }
      ]
    },
    {
      "cell_type": "markdown",
      "source": [
        "We will now perform some joins in order to get some of the Bachelor's hometowns. Since about half of these Bachelors (at least in the more recent seasons) were once contestants on the Bachelorette, we can get their hometowns from the contestants_df2 table. For the rest of them, we will manually enter their hometowns."
      ],
      "metadata": {
        "id": "9quABe59G3q1"
      }
    },
    {
      "cell_type": "code",
      "source": [
        "bachelors_df = bachelors_df.merge(contestants_df2[['Name', 'Town', 'State']], left_on = 'Bachelor', right_on = 'Name', how = 'left')"
      ],
      "metadata": {
        "id": "hgH97H3JGSOS"
      },
      "execution_count": 34,
      "outputs": []
    },
    {
      "cell_type": "code",
      "source": [
        "bachelors_df.loc[bachelors_df['Season'] == '1', ['Town', 'State']] = ['Charlottesville', 'Virginia']\n",
        "bachelors_df.loc[bachelors_df['Season'] == '2', ['Town', 'State']] = ['Butler', 'Missouri']\n",
        "bachelors_df.loc[bachelors_df['Season'] == '3', ['Town', 'State']] = ['Santa Barbara', 'California']\n",
        "bachelors_df.loc[bachelors_df['Season'] == '5', ['Town', 'State']] = ['Nepean', 'Ontario']\n",
        "bachelors_df.loc[bachelors_df['Season'] == '6', ['Town', 'State']] = ['Downey', 'California']\n",
        "bachelors_df.loc[bachelors_df['Season'] == '7', ['Town', 'State']] = ['New York City', 'New York']\n",
        "bachelors_df.loc[bachelors_df['Season'] == '8', ['Town', 'State']] = ['Fort Collins', 'Colorado']\n",
        "bachelors_df.loc[bachelors_df['Season'] == '9', ['Town', 'State']] = ['Milan', 'Italy']\n",
        "bachelors_df.loc[bachelors_df['Season'] == '10', ['Town', 'State']] = ['Lancaster', 'Pennsylvania']\n",
        "bachelors_df.loc[bachelors_df['Season'] == '11', ['Town', 'State']] = ['Livingston', 'Texas']\n",
        "bachelors_df.loc[bachelors_df['Season'] == '12', ['Town', 'State']] = ['London', 'United Kingdom']\n",
        "bachelors_df.loc[bachelors_df['Season'] == '14', ['Town', 'State']] = ['Dallas', 'Texas']\n",
        "bachelors_df.loc[bachelors_df['Season'] == '15', ['Town', 'State']] = ['Livingston', 'Texas']\n",
        "bachelors_df.loc[bachelors_df['Season'] == '25', ['Town', 'State']] = ['New York City', 'New York']\n",
        "bachelors_df['Season'] = pd.to_numeric(bachelors_df['Season'])\n",
        "\n",
        "bachelors_df.drop(['Name'], axis = 1, inplace = True)\n",
        "bachelors_df.drop_duplicates(subset = ['Season'], keep = 'first', inplace = True) \n",
        "# rename town and state for bachelors\n",
        "bachelors_df = bachelors_df.rename(columns={\"Town\": \"Lead Town\", \"State\": \"Lead State\"})"
      ],
      "metadata": {
        "id": "YUhWLAnXHwHY"
      },
      "execution_count": 35,
      "outputs": []
    },
    {
      "cell_type": "markdown",
      "source": [
        "Now, we will merge with the winners_df to get each winning woman's town and state! We only need to manually add the ones though for seasons 3-4 and 6-8, which didn't have contestant data on Wikipedia when we did our initial scraping."
      ],
      "metadata": {
        "id": "cMpsy6rpKriM"
      }
    },
    {
      "cell_type": "code",
      "source": [
        "bachelors_df = bachelors_df.merge(winners_df[['Season', 'Name', 'Town', 'State']], right_on = 'Season', left_on = 'Season', how = 'left')\n",
        "bachelors_df.drop(['Name'], axis = 1, inplace = True)\n",
        "bachelors_df.loc[bachelors_df['Season'] == 3, ['Town', 'State']] = ['Mentor', 'Ohio']\n",
        "bachelors_df.loc[bachelors_df['Season'] == 4, ['Town', 'State']] = ['Beverly Hills', 'California']\n",
        "bachelors_df.loc[bachelors_df['Season'] == 6, ['Town', 'State']] = ['Tampa', 'Florida']\n",
        "bachelors_df.loc[bachelors_df['Season'] == 7, ['Town', 'State']] = ['McKinney', 'Texas']\n",
        "bachelors_df.loc[bachelors_df['Season'] == 8, ['Town', 'State']] = ['Nashville', 'Tennessee']\n",
        "\n",
        "bachelors_df = bachelors_df.rename(columns={\"Town\": \"Winner Town\", \"State\": \"Winner State\"})"
      ],
      "metadata": {
        "id": "vdqsKJVrKDUa"
      },
      "execution_count": 36,
      "outputs": []
    },
    {
      "cell_type": "code",
      "source": [
        "bachelors_df.head()"
      ],
      "metadata": {
        "colab": {
          "base_uri": "https://localhost:8080/",
          "height": 206
        },
        "id": "VMenzTkxL7se",
        "outputId": "135b3165-4f34-4b90-f988-8d7c786ba2bb"
      },
      "execution_count": 37,
      "outputs": [
        {
          "output_type": "execute_result",
          "data": {
            "text/plain": [
              "   Season          Bachelor              Winner Still together?  \\\n",
              "0       1       Alex Michel        Amanda Marsh       Broken Up   \n",
              "1       2      Aaron Buerge  Helene Eksterowicz       Broken Up   \n",
              "2       3  Andrew Firestone         Jen Schefft       Broken Up   \n",
              "3       4        Bob Guiney   Estella Gardinier       Broken Up   \n",
              "4       5      Jesse Palmer      Jessica Bowlin       Broken Up   \n",
              "\n",
              "   Relationship Length in Years        Lead Town  Lead State  \\\n",
              "0                      0.666667  Charlottesville    Virginia   \n",
              "1                      0.250000           Butler    Missouri   \n",
              "2                      0.583333    Santa Barbara  California   \n",
              "3                      0.083333         Ferndale    Michigan   \n",
              "4                      0.083333           Nepean     Ontario   \n",
              "\n",
              "        Winner Town Winner State  \n",
              "0           Chanute       Kansas  \n",
              "1        Gloucester   New Jersey  \n",
              "2            Mentor         Ohio  \n",
              "3     Beverly Hills   California  \n",
              "4  Huntington Beach   California  "
            ],
            "text/html": [
              "\n",
              "  <div id=\"df-512c44c8-fca3-44c5-87a3-e66acbc9dde2\">\n",
              "    <div class=\"colab-df-container\">\n",
              "      <div>\n",
              "<style scoped>\n",
              "    .dataframe tbody tr th:only-of-type {\n",
              "        vertical-align: middle;\n",
              "    }\n",
              "\n",
              "    .dataframe tbody tr th {\n",
              "        vertical-align: top;\n",
              "    }\n",
              "\n",
              "    .dataframe thead th {\n",
              "        text-align: right;\n",
              "    }\n",
              "</style>\n",
              "<table border=\"1\" class=\"dataframe\">\n",
              "  <thead>\n",
              "    <tr style=\"text-align: right;\">\n",
              "      <th></th>\n",
              "      <th>Season</th>\n",
              "      <th>Bachelor</th>\n",
              "      <th>Winner</th>\n",
              "      <th>Still together?</th>\n",
              "      <th>Relationship Length in Years</th>\n",
              "      <th>Lead Town</th>\n",
              "      <th>Lead State</th>\n",
              "      <th>Winner Town</th>\n",
              "      <th>Winner State</th>\n",
              "    </tr>\n",
              "  </thead>\n",
              "  <tbody>\n",
              "    <tr>\n",
              "      <th>0</th>\n",
              "      <td>1</td>\n",
              "      <td>Alex Michel</td>\n",
              "      <td>Amanda Marsh</td>\n",
              "      <td>Broken Up</td>\n",
              "      <td>0.666667</td>\n",
              "      <td>Charlottesville</td>\n",
              "      <td>Virginia</td>\n",
              "      <td>Chanute</td>\n",
              "      <td>Kansas</td>\n",
              "    </tr>\n",
              "    <tr>\n",
              "      <th>1</th>\n",
              "      <td>2</td>\n",
              "      <td>Aaron Buerge</td>\n",
              "      <td>Helene Eksterowicz</td>\n",
              "      <td>Broken Up</td>\n",
              "      <td>0.250000</td>\n",
              "      <td>Butler</td>\n",
              "      <td>Missouri</td>\n",
              "      <td>Gloucester</td>\n",
              "      <td>New Jersey</td>\n",
              "    </tr>\n",
              "    <tr>\n",
              "      <th>2</th>\n",
              "      <td>3</td>\n",
              "      <td>Andrew Firestone</td>\n",
              "      <td>Jen Schefft</td>\n",
              "      <td>Broken Up</td>\n",
              "      <td>0.583333</td>\n",
              "      <td>Santa Barbara</td>\n",
              "      <td>California</td>\n",
              "      <td>Mentor</td>\n",
              "      <td>Ohio</td>\n",
              "    </tr>\n",
              "    <tr>\n",
              "      <th>3</th>\n",
              "      <td>4</td>\n",
              "      <td>Bob Guiney</td>\n",
              "      <td>Estella Gardinier</td>\n",
              "      <td>Broken Up</td>\n",
              "      <td>0.083333</td>\n",
              "      <td>Ferndale</td>\n",
              "      <td>Michigan</td>\n",
              "      <td>Beverly Hills</td>\n",
              "      <td>California</td>\n",
              "    </tr>\n",
              "    <tr>\n",
              "      <th>4</th>\n",
              "      <td>5</td>\n",
              "      <td>Jesse Palmer</td>\n",
              "      <td>Jessica Bowlin</td>\n",
              "      <td>Broken Up</td>\n",
              "      <td>0.083333</td>\n",
              "      <td>Nepean</td>\n",
              "      <td>Ontario</td>\n",
              "      <td>Huntington Beach</td>\n",
              "      <td>California</td>\n",
              "    </tr>\n",
              "  </tbody>\n",
              "</table>\n",
              "</div>\n",
              "      <button class=\"colab-df-convert\" onclick=\"convertToInteractive('df-512c44c8-fca3-44c5-87a3-e66acbc9dde2')\"\n",
              "              title=\"Convert this dataframe to an interactive table.\"\n",
              "              style=\"display:none;\">\n",
              "        \n",
              "  <svg xmlns=\"http://www.w3.org/2000/svg\" height=\"24px\"viewBox=\"0 0 24 24\"\n",
              "       width=\"24px\">\n",
              "    <path d=\"M0 0h24v24H0V0z\" fill=\"none\"/>\n",
              "    <path d=\"M18.56 5.44l.94 2.06.94-2.06 2.06-.94-2.06-.94-.94-2.06-.94 2.06-2.06.94zm-11 1L8.5 8.5l.94-2.06 2.06-.94-2.06-.94L8.5 2.5l-.94 2.06-2.06.94zm10 10l.94 2.06.94-2.06 2.06-.94-2.06-.94-.94-2.06-.94 2.06-2.06.94z\"/><path d=\"M17.41 7.96l-1.37-1.37c-.4-.4-.92-.59-1.43-.59-.52 0-1.04.2-1.43.59L10.3 9.45l-7.72 7.72c-.78.78-.78 2.05 0 2.83L4 21.41c.39.39.9.59 1.41.59.51 0 1.02-.2 1.41-.59l7.78-7.78 2.81-2.81c.8-.78.8-2.07 0-2.86zM5.41 20L4 18.59l7.72-7.72 1.47 1.35L5.41 20z\"/>\n",
              "  </svg>\n",
              "      </button>\n",
              "      \n",
              "  <style>\n",
              "    .colab-df-container {\n",
              "      display:flex;\n",
              "      flex-wrap:wrap;\n",
              "      gap: 12px;\n",
              "    }\n",
              "\n",
              "    .colab-df-convert {\n",
              "      background-color: #E8F0FE;\n",
              "      border: none;\n",
              "      border-radius: 50%;\n",
              "      cursor: pointer;\n",
              "      display: none;\n",
              "      fill: #1967D2;\n",
              "      height: 32px;\n",
              "      padding: 0 0 0 0;\n",
              "      width: 32px;\n",
              "    }\n",
              "\n",
              "    .colab-df-convert:hover {\n",
              "      background-color: #E2EBFA;\n",
              "      box-shadow: 0px 1px 2px rgba(60, 64, 67, 0.3), 0px 1px 3px 1px rgba(60, 64, 67, 0.15);\n",
              "      fill: #174EA6;\n",
              "    }\n",
              "\n",
              "    [theme=dark] .colab-df-convert {\n",
              "      background-color: #3B4455;\n",
              "      fill: #D2E3FC;\n",
              "    }\n",
              "\n",
              "    [theme=dark] .colab-df-convert:hover {\n",
              "      background-color: #434B5C;\n",
              "      box-shadow: 0px 1px 3px 1px rgba(0, 0, 0, 0.15);\n",
              "      filter: drop-shadow(0px 1px 2px rgba(0, 0, 0, 0.3));\n",
              "      fill: #FFFFFF;\n",
              "    }\n",
              "  </style>\n",
              "\n",
              "      <script>\n",
              "        const buttonEl =\n",
              "          document.querySelector('#df-512c44c8-fca3-44c5-87a3-e66acbc9dde2 button.colab-df-convert');\n",
              "        buttonEl.style.display =\n",
              "          google.colab.kernel.accessAllowed ? 'block' : 'none';\n",
              "\n",
              "        async function convertToInteractive(key) {\n",
              "          const element = document.querySelector('#df-512c44c8-fca3-44c5-87a3-e66acbc9dde2');\n",
              "          const dataTable =\n",
              "            await google.colab.kernel.invokeFunction('convertToInteractive',\n",
              "                                                     [key], {});\n",
              "          if (!dataTable) return;\n",
              "\n",
              "          const docLinkHtml = 'Like what you see? Visit the ' +\n",
              "            '<a target=\"_blank\" href=https://colab.research.google.com/notebooks/data_table.ipynb>data table notebook</a>'\n",
              "            + ' to learn more about interactive tables.';\n",
              "          element.innerHTML = '';\n",
              "          dataTable['output_type'] = 'display_data';\n",
              "          await google.colab.output.renderOutput(dataTable, element);\n",
              "          const docLink = document.createElement('div');\n",
              "          docLink.innerHTML = docLinkHtml;\n",
              "          element.appendChild(docLink);\n",
              "        }\n",
              "      </script>\n",
              "    </div>\n",
              "  </div>\n",
              "  "
            ]
          },
          "metadata": {},
          "execution_count": 37
        }
      ]
    },
    {
      "cell_type": "markdown",
      "source": [
        "***Special call out that the current Bachelor Franchise host, Jesse Palmer, was only with his match for .08 years after the show aired. That is about 1 month!!***"
      ],
      "metadata": {
        "id": "OOxwTdfDpvo0"
      }
    },
    {
      "cell_type": "markdown",
      "source": [
        "Next we need to use an API to obtain the latitude and longitude for both members of the couples hometowns, then compute the distance between the two locations."
      ],
      "metadata": {
        "id": "JyGWHP6XFOPI"
      }
    },
    {
      "cell_type": "code",
      "source": [
        "# combine town and state into one column, for both leads and winners\n",
        "bachelors_df['Lead Location'] = bachelors_df['Lead Town'] + ', ' + bachelors_df['Lead State']\n",
        "bachelors_df['Winner Location'] = bachelors_df['Winner Town'] + ', ' + bachelors_df['Winner State']\n",
        "\n",
        "# use Nominatim to obtain latitude and longitude for lead's and winner's hometown. This is a free service\n",
        "locator = Nominatim(user_agent=\"email@gmail.com\", timeout=5)\n",
        "bachelors_df['Lead Lat Long'] = bachelors_df['Lead Location'].apply(lambda x: locator.geocode(x)).apply(lambda x: (x.latitude, x.longitude))\n",
        "bachelors_df['Winner Lat Long'] = bachelors_df['Winner Location'].apply(lambda x: locator.geocode(x)).apply(lambda x: (x.latitude, x.longitude))\n",
        "\n",
        "# calculate distance\n",
        "bachelors_df['Distance'] = bachelors_df.apply(lambda x: distance.distance(x['Lead Lat Long'], x['Winner Lat Long']), axis=1)\n",
        "bachelors_df['Distance'] = bachelors_df['Distance'].astype(str).str[:-3].astype(float)"
      ],
      "metadata": {
        "id": "hj4pNtR-suFG"
      },
      "execution_count": 38,
      "outputs": []
    },
    {
      "cell_type": "markdown",
      "source": [
        "Because the relationship lengths have a positive skew, we will log-transform relationship length before computing the correlation with distance between hometowns. We suspect there will be a negative correlation between distance and relationship length."
      ],
      "metadata": {
        "id": "10DVgkrgFczJ"
      }
    },
    {
      "cell_type": "code",
      "source": [
        "bachelors_df['Log Relationship'] = np.log(bachelors_df['Relationship Length in Years'] + 1)\n",
        "\n",
        "pearsonr(bachelors_df['Log Relationship'], bachelors_df['Distance'])"
      ],
      "metadata": {
        "colab": {
          "base_uri": "https://localhost:8080/"
        },
        "id": "daJqnUbbLoSs",
        "outputId": "36ae7b0b-8a93-4d29-eb34-e551cc6deedd"
      },
      "execution_count": 39,
      "outputs": [
        {
          "output_type": "execute_result",
          "data": {
            "text/plain": [
              "PearsonRResult(statistic=-0.19841544176361303, pvalue=0.33121322519457463)"
            ]
          },
          "metadata": {},
          "execution_count": 39
        }
      ]
    },
    {
      "cell_type": "markdown",
      "source": [
        "For contestants from the Bachelor, there is a minimal correlation of -.2 between relationship length and distance between hometowns. The p-value associated is 0.33. But we will still perform the same procedure for Bachelorettes and their winners."
      ],
      "metadata": {
        "id": "zSRLczv9FoeC"
      }
    },
    {
      "cell_type": "markdown",
      "source": [
        "***Bachelorette Couples***"
      ],
      "metadata": {
        "id": "XrEJIpg-SNkW"
      }
    },
    {
      "cell_type": "markdown",
      "source": [
        "Let's make the Bachelorettes dataframe:"
      ],
      "metadata": {
        "id": "h2tYXdEtGiJN"
      }
    },
    {
      "cell_type": "code",
      "source": [
        "bachelorettes_df = pd.DataFrame()\n",
        "url = \"https://en.wikipedia.org/wiki/The_Bachelorette_(American_TV_series)\"\n",
        "table_class = \"wikitable sortable jquery-tablesorter\"\n",
        "response = requests.get(url)\n",
        "soup = BeautifulSoup(response.text, 'html.parser')\n",
        "table = soup.find('table', {'class':\"wikitable\"})\n",
        "bachelorettes_df = pd.read_html(str(table))\n",
        "bachelorettes_df = pd.DataFrame(bachelorettes_df[0])\n",
        "# keep cols for season, bachelor, winner, and relationship status\n",
        "cols = ['Season', 'Bachelorette', 'Winner', 'Still together?']\n",
        "bachelorettes_df = bachelorettes_df[cols]\n",
        "\n",
        "# some clean-up\n",
        "# remove \"[]\" from hyperlinks\n",
        "bachelorettes_df['Season'] = bachelorettes_df['Season'].apply(lambda x: x.split('[')[0] if '[' in x else x)\n",
        "\n",
        "# change values of 'still together?'\n",
        "bachelorettes_df.loc[bachelorettes_df['Still together?'] == 'No', 'Still together?'] = 'Broken Up'\n",
        "bachelorettes_df.loc[bachelorettes_df['Still together?'] == 'Yes', 'Still together?'] = 'Together with Winner'\n",
        "\n",
        "bachelorettes_df['Relationship Length in Years'] = [13, 1, 0,\n",
        "                                                  4/12, 1, 15/12,\n",
        "                                                  9, 3/12, 9.5,\n",
        "                                                  5/12, 39/12, 7.5,\n",
        "                                                  6.5, 2, 0,\n",
        "                                                  9/12, 11/12, 3/12,\n",
        "                                                  6/12, 1/12, 0]\n",
        "\n",
        "# change season names for seasons where there were two bachelorettes\n",
        "bachelorettes_df.loc[bachelorettes_df['Bachelorette'] == 'Clare Crawley', 'Season'] = '16a'\n",
        "bachelorettes_df.loc[bachelorettes_df['Bachelorette'] == 'Tayshia Adams', 'Season'] = '16b'\n",
        "bachelorettes_df.loc[bachelorettes_df['Bachelorette'] == 'Gabby Windey', 'Season'] = '19a'\n",
        "bachelorettes_df.loc[bachelorettes_df['Bachelorette'] == 'Rachel Recchia', 'Season'] = '19b'"
      ],
      "metadata": {
        "id": "Q4XnvFSNGm-g"
      },
      "execution_count": 40,
      "outputs": []
    },
    {
      "cell_type": "markdown",
      "source": [
        "We will create a similar visualization as we did previously of relationship lengths of couples, but this time for the Bachelorette. Four couples are still together. The median relationship length is about 10 months, which is a little longer than for couples on the Bachelor."
      ],
      "metadata": {
        "id": "RQyyeUMdx527"
      }
    },
    {
      "cell_type": "code",
      "source": [
        "colors = {'Broken Up': 'silver', \n",
        "          'Together with Runner-Up': 'lightpink', \n",
        "          'Together with Winner': 'crimson'}\n",
        "\n",
        "plt.figure(figsize = (10,10))\n",
        "height = 0.9\n",
        "\n",
        "plt.title('Relationship Status of Bachelorettes', fontsize = 20)\n",
        "\n",
        "sns.barplot(y = bachelorettes_df['Season'].apply(str), x = bachelorettes_df['Relationship Length in Years'],\n",
        "         hue = bachelorettes_df['Still together?'], palette = colors, dodge = False)\n",
        "\n",
        "plt.legend(loc = 'upper right', fontsize = 12)\n",
        "plt.ylabel('Season', fontsize = 13)\n",
        "plt.xlabel('Relationship Length (Years After Finale Aired)', fontsize = 13)\n",
        "\n",
        "plt.show()"
      ],
      "metadata": {
        "colab": {
          "base_uri": "https://localhost:8080/",
          "height": 630
        },
        "id": "L35Jv3nPQtvw",
        "outputId": "9a0796c2-a4d2-4bbe-9013-c45893c2974f"
      },
      "execution_count": 41,
      "outputs": [
        {
          "output_type": "display_data",
          "data": {
            "text/plain": [
              "<Figure size 720x720 with 1 Axes>"
            ],
            "image/png": "[encoded data removed]"
          },
          "metadata": {
            "needs_background": "light"
          }
        }
      ]
    },
    {
      "cell_type": "code",
      "source": [
        "np.median(bachelorettes_df['Relationship Length in Years'])"
      ],
      "metadata": {
        "colab": {
          "base_uri": "https://localhost:8080/"
        },
        "id": "wNpe7xwQyFZE",
        "outputId": "cdcb3931-5186-4e8d-8cbf-e5827ddf46a7"
      },
      "execution_count": 42,
      "outputs": [
        {
          "output_type": "execute_result",
          "data": {
            "text/plain": [
              "0.9166666666666666"
            ]
          },
          "metadata": {},
          "execution_count": 42
        }
      ]
    },
    {
      "cell_type": "markdown",
      "source": [
        "Now, we proceed with getting the distances between lead and winners' hometowns. Use a join with the contestants on the Bachelor contestants table, contestants_df, to get these Bachelorette's hometown and state. Only three need to be manually added."
      ],
      "metadata": {
        "id": "IqhIZCSuIET3"
      }
    },
    {
      "cell_type": "code",
      "source": [
        "bachelorettes_df = bachelorettes_df.merge(contestants_df[['Name', 'Town', 'State']], left_on = 'Bachelorette', right_on = 'Name', how = 'left')\n",
        "bachelorettes_df.drop(['Name'], axis = 1, inplace = True)\n",
        "bachelorettes_df.loc[bachelorettes_df['Season'] == '2', ['Town', 'State']] = ['Beaverton', 'Oregon']\n",
        "bachelorettes_df.loc[bachelorettes_df['Season'] == '3', ['Town', 'State']] = ['Mentor', 'Ohio']\n",
        "bachelorettes_df.loc[bachelorettes_df['Bachelorette'] == 'Gabby Windey', ['Town', 'State']] = ['Denver', 'Colorado']\n",
        "bachelors_df['Season'] = pd.to_numeric(bachelors_df['Season'])\n",
        "\n",
        "# rename town and state for bachelors\n",
        "bachelorettes_df = bachelorettes_df.rename(columns={\"Town\": \"Lead Town\", \"State\": \"Lead State\"})"
      ],
      "metadata": {
        "id": "EttN2eLlH7L9"
      },
      "execution_count": 43,
      "outputs": []
    },
    {
      "cell_type": "markdown",
      "source": [
        "Now merge again with contestants_df2, which contains Bachelorette contestant data, to get as many of the male winners' hometowns as possible."
      ],
      "metadata": {
        "id": "jEMCeeraJ8p8"
      }
    },
    {
      "cell_type": "code",
      "source": [
        "bachelorettes_df = bachelorettes_df.merge(contestants_df2[['Name', 'Town', 'State']], left_on = 'Winner', right_on = 'Name', how = 'left')\n",
        "bachelorettes_df.drop(['Name'], axis = 1, inplace = True)\n",
        "bachelorettes_df.loc[bachelorettes_df['Season'] == 2, ['Town', 'State']] = ['New York', 'New York']\n",
        "bachelorettes_df.loc[bachelorettes_df['Season'] == 5, ['Town', 'State']] = ['Monroe', 'Michigan']\n",
        "bachelorettes_df.loc[bachelorettes_df['Season'] == 7, ['Town', 'State']] = ['Roslyn', 'New York']\n",
        "bachelorettes_df.loc[bachelorettes_df['Season'] == 8, ['Town', 'State']] = ['St. George', 'Utah']\n",
        "bachelorettes_df.loc[bachelorettes_df['Season'] == 15, ['Town', 'State']] = ['Sevierville', 'Tennessee']\n",
        "# rename town and state for winners\n",
        "bachelorettes_df = bachelorettes_df.rename(columns={\"Town\": \"Winner Town\", \"State\": \"Winner State\"})\n"
      ],
      "metadata": {
        "id": "P2zHg9wEJP6O"
      },
      "execution_count": 44,
      "outputs": []
    },
    {
      "cell_type": "code",
      "source": [
        "bachelorettes_df.head()"
      ],
      "metadata": {
        "colab": {
          "base_uri": "https://localhost:8080/",
          "height": 206
        },
        "id": "-cclUCd4xTRA",
        "outputId": "ca6ae57c-e953-43cb-d94a-a09d5610747a"
      },
      "execution_count": 45,
      "outputs": [
        {
          "output_type": "execute_result",
          "data": {
            "text/plain": [
              "  Season       Bachelorette          Winner       Still together?  \\\n",
              "0      1        Trista Rehn     Ryan Sutter  Together with Winner   \n",
              "1      2  Meredith Phillips       Ian Mckee             Broken Up   \n",
              "2      3        Jen Schefft    Jerry Ferris             Broken Up   \n",
              "3      4      DeAnna Pappas  Jesse Csincsak             Broken Up   \n",
              "4      5     Jillian Harris    Ed Swiderski             Broken Up   \n",
              "\n",
              "   Relationship Length in Years    Lead Town Lead State   Winner Town  \\\n",
              "0                     13.000000    St. Louis   Missouri          Vail   \n",
              "1                      1.000000    Beaverton     Oregon           NaN   \n",
              "2                      0.000000       Mentor       Ohio   Los Angeles   \n",
              "3                      0.333333       Newnan    Georgia  Breckenridge   \n",
              "4                      1.000000  Peace River    Alberta           NaN   \n",
              "\n",
              "  Winner State  \n",
              "0     Colorado  \n",
              "1          NaN  \n",
              "2   California  \n",
              "3     Colorado  \n",
              "4          NaN  "
            ],
            "text/html": [
              "\n",
              "  <div id=\"df-c478c199-d7d3-4c11-a6fc-4b4e5f3945ae\">\n",
              "    <div class=\"colab-df-container\">\n",
              "      <div>\n",
              "<style scoped>\n",
              "    .dataframe tbody tr th:only-of-type {\n",
              "        vertical-align: middle;\n",
              "    }\n",
              "\n",
              "    .dataframe tbody tr th {\n",
              "        vertical-align: top;\n",
              "    }\n",
              "\n",
              "    .dataframe thead th {\n",
              "        text-align: right;\n",
              "    }\n",
              "</style>\n",
              "<table border=\"1\" class=\"dataframe\">\n",
              "  <thead>\n",
              "    <tr style=\"text-align: right;\">\n",
              "      <th></th>\n",
              "      <th>Season</th>\n",
              "      <th>Bachelorette</th>\n",
              "      <th>Winner</th>\n",
              "      <th>Still together?</th>\n",
              "      <th>Relationship Length in Years</th>\n",
              "      <th>Lead Town</th>\n",
              "      <th>Lead State</th>\n",
              "      <th>Winner Town</th>\n",
              "      <th>Winner State</th>\n",
              "    </tr>\n",
              "  </thead>\n",
              "  <tbody>\n",
              "    <tr>\n",
              "      <th>0</th>\n",
              "      <td>1</td>\n",
              "      <td>Trista Rehn</td>\n",
              "      <td>Ryan Sutter</td>\n",
              "      <td>Together with Winner</td>\n",
              "      <td>13.000000</td>\n",
              "      <td>St. Louis</td>\n",
              "      <td>Missouri</td>\n",
              "      <td>Vail</td>\n",
              "      <td>Colorado</td>\n",
              "    </tr>\n",
              "    <tr>\n",
              "      <th>1</th>\n",
              "      <td>2</td>\n",
              "      <td>Meredith Phillips</td>\n",
              "      <td>Ian Mckee</td>\n",
              "      <td>Broken Up</td>\n",
              "      <td>1.000000</td>\n",
              "      <td>Beaverton</td>\n",
              "      <td>Oregon</td>\n",
              "      <td>NaN</td>\n",
              "      <td>NaN</td>\n",
              "    </tr>\n",
              "    <tr>\n",
              "      <th>2</th>\n",
              "      <td>3</td>\n",
              "      <td>Jen Schefft</td>\n",
              "      <td>Jerry Ferris</td>\n",
              "      <td>Broken Up</td>\n",
              "      <td>0.000000</td>\n",
              "      <td>Mentor</td>\n",
              "      <td>Ohio</td>\n",
              "      <td>Los Angeles</td>\n",
              "      <td>California</td>\n",
              "    </tr>\n",
              "    <tr>\n",
              "      <th>3</th>\n",
              "      <td>4</td>\n",
              "      <td>DeAnna Pappas</td>\n",
              "      <td>Jesse Csincsak</td>\n",
              "      <td>Broken Up</td>\n",
              "      <td>0.333333</td>\n",
              "      <td>Newnan</td>\n",
              "      <td>Georgia</td>\n",
              "      <td>Breckenridge</td>\n",
              "      <td>Colorado</td>\n",
              "    </tr>\n",
              "    <tr>\n",
              "      <th>4</th>\n",
              "      <td>5</td>\n",
              "      <td>Jillian Harris</td>\n",
              "      <td>Ed Swiderski</td>\n",
              "      <td>Broken Up</td>\n",
              "      <td>1.000000</td>\n",
              "      <td>Peace River</td>\n",
              "      <td>Alberta</td>\n",
              "      <td>NaN</td>\n",
              "      <td>NaN</td>\n",
              "    </tr>\n",
              "  </tbody>\n",
              "</table>\n",
              "</div>\n",
              "      <button class=\"colab-df-convert\" onclick=\"convertToInteractive('df-c478c199-d7d3-4c11-a6fc-4b4e5f3945ae')\"\n",
              "              title=\"Convert this dataframe to an interactive table.\"\n",
              "              style=\"display:none;\">\n",
              "        \n",
              "  <svg xmlns=\"http://www.w3.org/2000/svg\" height=\"24px\"viewBox=\"0 0 24 24\"\n",
              "       width=\"24px\">\n",
              "    <path d=\"M0 0h24v24H0V0z\" fill=\"none\"/>\n",
              "    <path d=\"M18.56 5.44l.94 2.06.94-2.06 2.06-.94-2.06-.94-.94-2.06-.94 2.06-2.06.94zm-11 1L8.5 8.5l.94-2.06 2.06-.94-2.06-.94L8.5 2.5l-.94 2.06-2.06.94zm10 10l.94 2.06.94-2.06 2.06-.94-2.06-.94-.94-2.06-.94 2.06-2.06.94z\"/><path d=\"M17.41 7.96l-1.37-1.37c-.4-.4-.92-.59-1.43-.59-.52 0-1.04.2-1.43.59L10.3 9.45l-7.72 7.72c-.78.78-.78 2.05 0 2.83L4 21.41c.39.39.9.59 1.41.59.51 0 1.02-.2 1.41-.59l7.78-7.78 2.81-2.81c.8-.78.8-2.07 0-2.86zM5.41 20L4 18.59l7.72-7.72 1.47 1.35L5.41 20z\"/>\n",
              "  </svg>\n",
              "      </button>\n",
              "      \n",
              "  <style>\n",
              "    .colab-df-container {\n",
              "      display:flex;\n",
              "      flex-wrap:wrap;\n",
              "      gap: 12px;\n",
              "    }\n",
              "\n",
              "    .colab-df-convert {\n",
              "      background-color: #E8F0FE;\n",
              "      border: none;\n",
              "      border-radius: 50%;\n",
              "      cursor: pointer;\n",
              "      display: none;\n",
              "      fill: #1967D2;\n",
              "      height: 32px;\n",
              "      padding: 0 0 0 0;\n",
              "      width: 32px;\n",
              "    }\n",
              "\n",
              "    .colab-df-convert:hover {\n",
              "      background-color: #E2EBFA;\n",
              "      box-shadow: 0px 1px 2px rgba(60, 64, 67, 0.3), 0px 1px 3px 1px rgba(60, 64, 67, 0.15);\n",
              "      fill: #174EA6;\n",
              "    }\n",
              "\n",
              "    [theme=dark] .colab-df-convert {\n",
              "      background-color: #3B4455;\n",
              "      fill: #D2E3FC;\n",
              "    }\n",
              "\n",
              "    [theme=dark] .colab-df-convert:hover {\n",
              "      background-color: #434B5C;\n",
              "      box-shadow: 0px 1px 3px 1px rgba(0, 0, 0, 0.15);\n",
              "      filter: drop-shadow(0px 1px 2px rgba(0, 0, 0, 0.3));\n",
              "      fill: #FFFFFF;\n",
              "    }\n",
              "  </style>\n",
              "\n",
              "      <script>\n",
              "        const buttonEl =\n",
              "          document.querySelector('#df-c478c199-d7d3-4c11-a6fc-4b4e5f3945ae button.colab-df-convert');\n",
              "        buttonEl.style.display =\n",
              "          google.colab.kernel.accessAllowed ? 'block' : 'none';\n",
              "\n",
              "        async function convertToInteractive(key) {\n",
              "          const element = document.querySelector('#df-c478c199-d7d3-4c11-a6fc-4b4e5f3945ae');\n",
              "          const dataTable =\n",
              "            await google.colab.kernel.invokeFunction('convertToInteractive',\n",
              "                                                     [key], {});\n",
              "          if (!dataTable) return;\n",
              "\n",
              "          const docLinkHtml = 'Like what you see? Visit the ' +\n",
              "            '<a target=\"_blank\" href=https://colab.research.google.com/notebooks/data_table.ipynb>data table notebook</a>'\n",
              "            + ' to learn more about interactive tables.';\n",
              "          element.innerHTML = '';\n",
              "          dataTable['output_type'] = 'display_data';\n",
              "          await google.colab.output.renderOutput(dataTable, element);\n",
              "          const docLink = document.createElement('div');\n",
              "          docLink.innerHTML = docLinkHtml;\n",
              "          element.appendChild(docLink);\n",
              "        }\n",
              "      </script>\n",
              "    </div>\n",
              "  </div>\n",
              "  "
            ]
          },
          "metadata": {},
          "execution_count": 45
        }
      ]
    },
    {
      "cell_type": "code",
      "source": [
        "# combine town and state into one column, for both leads and winners\n",
        "bachelorettes_df['Lead Location'] = bachelorettes_df['Lead Town'] + ', ' + bachelorettes_df['Lead State']\n",
        "bachelorettes_df['Winner Location'] = bachelorettes_df['Winner Town'] + ', ' + bachelorettes_df['Winner State']\n",
        "\n",
        "# use Nominatim to obtain latitude and longitude for lead's and winner's hometown. This is a free service\n",
        "locator = Nominatim(user_agent=\"email@gmail.com\", timeout=5)\n",
        "bachelorettes_df['Lead Lat Long'] = bachelorettes_df['Lead Location'].apply(lambda x: locator.geocode(x)).apply(lambda x: (x.latitude, x.longitude))\n",
        "bachelorettes_df['Winner Lat Long'] = bachelorettes_df['Winner Location'].apply(lambda x: locator.geocode(x)).apply(lambda x: (x.latitude, x.longitude))\n",
        "\n",
        "# calculate distance\n",
        "bachelorettes_df['Distance'] = bachelorettes_df.apply(lambda x: distance.distance(x['Lead Lat Long'], x['Winner Lat Long']), axis=1)\n",
        "bachelorettes_df['Distance'] = bachelorettes_df['Distance'].astype(str).str[:-3].astype(float)"
      ],
      "metadata": {
        "id": "1qZHyZR_SBic"
      },
      "execution_count": 46,
      "outputs": []
    },
    {
      "cell_type": "code",
      "source": [
        "bachelorettes_df['Log Relationship'] = np.log(bachelorettes_df['Relationship Length in Years'] + 1)\n",
        "\n",
        "pearsonr(bachelorettes_df['Log Relationship'], bachelorettes_df['Distance'])"
      ],
      "metadata": {
        "colab": {
          "base_uri": "https://localhost:8080/"
        },
        "id": "DrcbTdjuSuvf",
        "outputId": "62738172-6812-4536-d954-b062bcb93123"
      },
      "execution_count": 47,
      "outputs": [
        {
          "output_type": "execute_result",
          "data": {
            "text/plain": [
              "PearsonRResult(statistic=-0.22143017590420297, pvalue=0.32200804764190655)"
            ]
          },
          "metadata": {},
          "execution_count": 47
        }
      ]
    },
    {
      "cell_type": "markdown",
      "source": [
        "The correlation between relationship length and distance is about the same for couples from the Bachelorette as Bachelor couples. So, it is also not a statistically significant relationship."
      ],
      "metadata": {
        "id": "0ZQaZvJ3Tcce"
      }
    },
    {
      "cell_type": "markdown",
      "source": [
        "#Test of Significance: Relationship Length"
      ],
      "metadata": {
        "id": "QNfeQ2OnuHsm"
      }
    },
    {
      "cell_type": "markdown",
      "source": [
        "***Is the proportion of couples from the two franchises who lasted at least a year significantly different?***"
      ],
      "metadata": {
        "id": "3DCHQJhSTwEM"
      }
    },
    {
      "cell_type": "markdown",
      "source": [
        "Is there evidence that the Bachelors make better decisions than the Bachelorettes, or vice versa? We will see if there is a significant difference in the proportion of Bachelor and Bachelorette couples which last longer than one year after the show."
      ],
      "metadata": {
        "id": "0KRLnPpnuePP"
      }
    },
    {
      "cell_type": "code",
      "source": [
        "# indicate whether relationship lasted at least a year\n",
        "bachelorettes_df['At Least One Year'] = bachelorettes_df['Relationship Length in Years'].apply(lambda x: 1 if x >= 1 else 0)\n",
        "bachelors_df['At Least One Year'] = bachelors_df['Relationship Length in Years'].apply(lambda x: 1 if x >= 1 else 0)"
      ],
      "metadata": {
        "id": "1ba9bSUlwL5Y"
      },
      "execution_count": 48,
      "outputs": []
    },
    {
      "cell_type": "code",
      "source": [
        "n_together_after_1_year = np.array([np.sum(bachelorettes_df['At Least One Year']),\n",
        "np.sum(bachelors_df['At Least One Year'])])\n",
        "n_rows = np.array([len(bachelorettes_df),\n",
        "                   len(bachelors_df)])\n",
        "z_score, p_value = proportions_ztest(count = n_together_after_1_year, nobs = n_rows)\n",
        "print('Z-score:', z_score, 'P-value:', p_value)"
      ],
      "metadata": {
        "colab": {
          "base_uri": "https://localhost:8080/"
        },
        "id": "lUBiU_tCwQY6",
        "outputId": "c2989fb6-1447-4a3e-97bc-37160907d048"
      },
      "execution_count": 49,
      "outputs": [
        {
          "output_type": "stream",
          "name": "stdout",
          "text": [
            "Z-score: 1.0471406288094718 P-value: 0.2950347231665088\n"
          ]
        }
      ]
    },
    {
      "cell_type": "markdown",
      "source": [
        "With a p-value of 0.295, we do not have significant evidence to conclude that couples from one franchise are more successful in terms of lasting at least one year after the show airs."
      ],
      "metadata": {
        "id": "NejqEA-DwaGG"
      }
    },
    {
      "cell_type": "markdown",
      "source": [
        "# First Impression Roses"
      ],
      "metadata": {
        "id": "RvrX_4LAM06M"
      }
    },
    {
      "cell_type": "markdown",
      "source": [
        "How important is a first impression in Bachelor Nation? Our final question concerns how much the coveted \"first impression rose\" can influence contestant success. This rose is given on night one to the contestant who makes the best first impression on the lead. Does winning this special rose give you a higher probability of winning? Does it at least improve your probability of making it to the top 4?\n",
        "\n",
        "To investigate this question, we will use scrape data from the Bachelor Nation Wiki containing information on eliminations and roses in each episode. We were able to do this for Bachelor seasons 10-16 and 18-22."
      ],
      "metadata": {
        "id": "-IFJmp3RNIvg"
      }
    },
    {
      "cell_type": "code",
      "source": [
        "seasons = np.arange(10, 23)\n",
        "# don't include s17 since there were multiple first impression roses\n",
        "seasons = seasons[seasons != 17]\n",
        "roses_df = pd.DataFrame()\n",
        "urlstart = 'https://bachelor-nation.fandom.com/wiki/The_Bachelor_(Season_'\n",
        "\n",
        "def FIR_scrape(seasons, roses_df, urlstart):\n",
        "  for i in range(0, len(seasons)):\n",
        "    # write the url for specific season\n",
        "    url = urlstart + str(seasons[i]) + ')#Call-Out_Order'\n",
        "    table_class = \"wikitable sortable jquery-tablesorter\"\n",
        "    response = requests.get(url)\n",
        "    # parse data from html\n",
        "    soup = BeautifulSoup(response.text, 'html.parser')\n",
        "    callout_table = soup.find('table', {'class':\"wikitable\"})\n",
        "    df = pd.read_html(str(callout_table))\n",
        "    # convert list to data frame\n",
        "    df = pd.DataFrame(df[0])\n",
        "    # fix multiindex\n",
        "    if seasons[i] <= 22:\n",
        "      df.columns = df.columns.droplevel(0)\n",
        "    # get first row of the data. FIR winner will be listed first in column 1\n",
        "    roses = df.head(1)\n",
        "    roses_df = roses_df.append(roses, ignore_index = True)\n",
        "  d = {'FIR': roses_df['1'], 'Season': seasons}\n",
        "  roses_df = pd.DataFrame(data = d)\n",
        "  return roses_df\n"
      ],
      "metadata": {
        "id": "XObTXcLHW-59"
      },
      "execution_count": 50,
      "outputs": []
    },
    {
      "cell_type": "code",
      "source": [
        "roses_df = FIR_scrape(seasons, roses_df, urlstart)\n",
        "roses_df.head()"
      ],
      "metadata": {
        "colab": {
          "base_uri": "https://localhost:8080/",
          "height": 206
        },
        "id": "HBlsnLjYR44v",
        "outputId": "97dc865c-39c9-4721-d6bb-29135791750c"
      },
      "execution_count": 51,
      "outputs": [
        {
          "output_type": "execute_result",
          "data": {
            "text/plain": [
              "            FIR  Season\n",
              "0  Stephanie T.      10\n",
              "1         Jenni      11\n",
              "2     Amanda R.      12\n",
              "3         Nikki      13\n",
              "4        Tenley      14"
            ],
            "text/html": [
              "\n",
              "  <div id=\"df-757e3a38-55f2-4b37-9cbc-a2b1cc3e4b06\">\n",
              "    <div class=\"colab-df-container\">\n",
              "      <div>\n",
              "<style scoped>\n",
              "    .dataframe tbody tr th:only-of-type {\n",
              "        vertical-align: middle;\n",
              "    }\n",
              "\n",
              "    .dataframe tbody tr th {\n",
              "        vertical-align: top;\n",
              "    }\n",
              "\n",
              "    .dataframe thead th {\n",
              "        text-align: right;\n",
              "    }\n",
              "</style>\n",
              "<table border=\"1\" class=\"dataframe\">\n",
              "  <thead>\n",
              "    <tr style=\"text-align: right;\">\n",
              "      <th></th>\n",
              "      <th>FIR</th>\n",
              "      <th>Season</th>\n",
              "    </tr>\n",
              "  </thead>\n",
              "  <tbody>\n",
              "    <tr>\n",
              "      <th>0</th>\n",
              "      <td>Stephanie T.</td>\n",
              "      <td>10</td>\n",
              "    </tr>\n",
              "    <tr>\n",
              "      <th>1</th>\n",
              "      <td>Jenni</td>\n",
              "      <td>11</td>\n",
              "    </tr>\n",
              "    <tr>\n",
              "      <th>2</th>\n",
              "      <td>Amanda R.</td>\n",
              "      <td>12</td>\n",
              "    </tr>\n",
              "    <tr>\n",
              "      <th>3</th>\n",
              "      <td>Nikki</td>\n",
              "      <td>13</td>\n",
              "    </tr>\n",
              "    <tr>\n",
              "      <th>4</th>\n",
              "      <td>Tenley</td>\n",
              "      <td>14</td>\n",
              "    </tr>\n",
              "  </tbody>\n",
              "</table>\n",
              "</div>\n",
              "      <button class=\"colab-df-convert\" onclick=\"convertToInteractive('df-757e3a38-55f2-4b37-9cbc-a2b1cc3e4b06')\"\n",
              "              title=\"Convert this dataframe to an interactive table.\"\n",
              "              style=\"display:none;\">\n",
              "        \n",
              "  <svg xmlns=\"http://www.w3.org/2000/svg\" height=\"24px\"viewBox=\"0 0 24 24\"\n",
              "       width=\"24px\">\n",
              "    <path d=\"M0 0h24v24H0V0z\" fill=\"none\"/>\n",
              "    <path d=\"M18.56 5.44l.94 2.06.94-2.06 2.06-.94-2.06-.94-.94-2.06-.94 2.06-2.06.94zm-11 1L8.5 8.5l.94-2.06 2.06-.94-2.06-.94L8.5 2.5l-.94 2.06-2.06.94zm10 10l.94 2.06.94-2.06 2.06-.94-2.06-.94-.94-2.06-.94 2.06-2.06.94z\"/><path d=\"M17.41 7.96l-1.37-1.37c-.4-.4-.92-.59-1.43-.59-.52 0-1.04.2-1.43.59L10.3 9.45l-7.72 7.72c-.78.78-.78 2.05 0 2.83L4 21.41c.39.39.9.59 1.41.59.51 0 1.02-.2 1.41-.59l7.78-7.78 2.81-2.81c.8-.78.8-2.07 0-2.86zM5.41 20L4 18.59l7.72-7.72 1.47 1.35L5.41 20z\"/>\n",
              "  </svg>\n",
              "      </button>\n",
              "      \n",
              "  <style>\n",
              "    .colab-df-container {\n",
              "      display:flex;\n",
              "      flex-wrap:wrap;\n",
              "      gap: 12px;\n",
              "    }\n",
              "\n",
              "    .colab-df-convert {\n",
              "      background-color: #E8F0FE;\n",
              "      border: none;\n",
              "      border-radius: 50%;\n",
              "      cursor: pointer;\n",
              "      display: none;\n",
              "      fill: #1967D2;\n",
              "      height: 32px;\n",
              "      padding: 0 0 0 0;\n",
              "      width: 32px;\n",
              "    }\n",
              "\n",
              "    .colab-df-convert:hover {\n",
              "      background-color: #E2EBFA;\n",
              "      box-shadow: 0px 1px 2px rgba(60, 64, 67, 0.3), 0px 1px 3px 1px rgba(60, 64, 67, 0.15);\n",
              "      fill: #174EA6;\n",
              "    }\n",
              "\n",
              "    [theme=dark] .colab-df-convert {\n",
              "      background-color: #3B4455;\n",
              "      fill: #D2E3FC;\n",
              "    }\n",
              "\n",
              "    [theme=dark] .colab-df-convert:hover {\n",
              "      background-color: #434B5C;\n",
              "      box-shadow: 0px 1px 3px 1px rgba(0, 0, 0, 0.15);\n",
              "      filter: drop-shadow(0px 1px 2px rgba(0, 0, 0, 0.3));\n",
              "      fill: #FFFFFF;\n",
              "    }\n",
              "  </style>\n",
              "\n",
              "      <script>\n",
              "        const buttonEl =\n",
              "          document.querySelector('#df-757e3a38-55f2-4b37-9cbc-a2b1cc3e4b06 button.colab-df-convert');\n",
              "        buttonEl.style.display =\n",
              "          google.colab.kernel.accessAllowed ? 'block' : 'none';\n",
              "\n",
              "        async function convertToInteractive(key) {\n",
              "          const element = document.querySelector('#df-757e3a38-55f2-4b37-9cbc-a2b1cc3e4b06');\n",
              "          const dataTable =\n",
              "            await google.colab.kernel.invokeFunction('convertToInteractive',\n",
              "                                                     [key], {});\n",
              "          if (!dataTable) return;\n",
              "\n",
              "          const docLinkHtml = 'Like what you see? Visit the ' +\n",
              "            '<a target=\"_blank\" href=https://colab.research.google.com/notebooks/data_table.ipynb>data table notebook</a>'\n",
              "            + ' to learn more about interactive tables.';\n",
              "          element.innerHTML = '';\n",
              "          dataTable['output_type'] = 'display_data';\n",
              "          await google.colab.output.renderOutput(dataTable, element);\n",
              "          const docLink = document.createElement('div');\n",
              "          docLink.innerHTML = docLinkHtml;\n",
              "          element.appendChild(docLink);\n",
              "        }\n",
              "      </script>\n",
              "    </div>\n",
              "  </div>\n",
              "  "
            ]
          },
          "metadata": {},
          "execution_count": 51
        }
      ]
    },
    {
      "cell_type": "markdown",
      "source": [
        "Because the roses data frame does not use the same conventions for using the women's last initial or full last name in the name column, we will change the name column to only be the first name."
      ],
      "metadata": {
        "id": "wDgbAaeRlBMW"
      }
    },
    {
      "cell_type": "code",
      "source": [
        "winners_df.loc[:,'Name'] = winners_df['Name'].apply(lambda x: x.split(' ')[0] if ' ' in x else x)\n",
        "top4_df.loc[:,'Name'] = top4_df['Name'].apply(lambda x: x.split(' ')[0] if ' ' in x else x)\n",
        "roses_df.loc[:,'FIR'] = roses_df['FIR'].apply(lambda x: x.split(' ')[0] if ' ' in x else x)"
      ],
      "metadata": {
        "colab": {
          "base_uri": "https://localhost:8080/"
        },
        "id": "9o-j6kj-Zli0",
        "outputId": "4d4d88a4-a6bd-40e4-c0c8-de8ca7ef55f9"
      },
      "execution_count": 52,
      "outputs": [
        {
          "output_type": "stream",
          "name": "stderr",
          "text": [
            "/usr/local/lib/python3.9/dist-packages/pandas/core/indexing.py:1773: SettingWithCopyWarning: \n",
            "A value is trying to be set on a copy of a slice from a DataFrame.\n",
            "Try using .loc[row_indexer,col_indexer] = value instead\n",
            "\n",
            "See the caveats in the documentation: https://pandas.pydata.org/pandas-docs/stable/user_guide/indexing.html#returning-a-view-versus-a-copy\n",
            "  self._setitem_single_column(ilocs[0], value, pi)\n"
          ]
        }
      ]
    },
    {
      "cell_type": "markdown",
      "source": [
        "Now, merge the FIR data with the winners data frame and the top 4 data frame on season."
      ],
      "metadata": {
        "id": "cb6LfaXZnftS"
      }
    },
    {
      "cell_type": "code",
      "source": [
        "FIR_merge_winners = roses_df.merge(winners_df, on = 'Season')\n",
        "FIR_merge_top4 = roses_df.merge(top4_df, on = 'Season')"
      ],
      "metadata": {
        "id": "ArXxL1xvkA9O"
      },
      "execution_count": 53,
      "outputs": []
    },
    {
      "cell_type": "code",
      "source": [
        "# in how many seasons was the FIR the overall winner?\n",
        "FIR_merge_winners[FIR_merge_winners['FIR'] == FIR_merge_winners['Name']]"
      ],
      "metadata": {
        "colab": {
          "base_uri": "https://localhost:8080/",
          "height": 49
        },
        "id": "VQ2JCb5JkKrS",
        "outputId": "31d5e14a-d381-4f96-a787-7c9838c06c87"
      },
      "execution_count": 54,
      "outputs": [
        {
          "output_type": "execute_result",
          "data": {
            "text/plain": [
              "Empty DataFrame\n",
              "Columns: [FIR, Season, Name, Age, Town, State, Occupation, Outcome, Job Category]\n",
              "Index: []"
            ],
            "text/html": [
              "\n",
              "  <div id=\"df-255a1375-3d51-4d21-88d1-d44a40e4fc26\">\n",
              "    <div class=\"colab-df-container\">\n",
              "      <div>\n",
              "<style scoped>\n",
              "    .dataframe tbody tr th:only-of-type {\n",
              "        vertical-align: middle;\n",
              "    }\n",
              "\n",
              "    .dataframe tbody tr th {\n",
              "        vertical-align: top;\n",
              "    }\n",
              "\n",
              "    .dataframe thead th {\n",
              "        text-align: right;\n",
              "    }\n",
              "</style>\n",
              "<table border=\"1\" class=\"dataframe\">\n",
              "  <thead>\n",
              "    <tr style=\"text-align: right;\">\n",
              "      <th></th>\n",
              "      <th>FIR</th>\n",
              "      <th>Season</th>\n",
              "      <th>Name</th>\n",
              "      <th>Age</th>\n",
              "      <th>Town</th>\n",
              "      <th>State</th>\n",
              "      <th>Occupation</th>\n",
              "      <th>Outcome</th>\n",
              "      <th>Job Category</th>\n",
              "    </tr>\n",
              "  </thead>\n",
              "  <tbody>\n",
              "  </tbody>\n",
              "</table>\n",
              "</div>\n",
              "      <button class=\"colab-df-convert\" onclick=\"convertToInteractive('df-255a1375-3d51-4d21-88d1-d44a40e4fc26')\"\n",
              "              title=\"Convert this dataframe to an interactive table.\"\n",
              "              style=\"display:none;\">\n",
              "        \n",
              "  <svg xmlns=\"http://www.w3.org/2000/svg\" height=\"24px\"viewBox=\"0 0 24 24\"\n",
              "       width=\"24px\">\n",
              "    <path d=\"M0 0h24v24H0V0z\" fill=\"none\"/>\n",
              "    <path d=\"M18.56 5.44l.94 2.06.94-2.06 2.06-.94-2.06-.94-.94-2.06-.94 2.06-2.06.94zm-11 1L8.5 8.5l.94-2.06 2.06-.94-2.06-.94L8.5 2.5l-.94 2.06-2.06.94zm10 10l.94 2.06.94-2.06 2.06-.94-2.06-.94-.94-2.06-.94 2.06-2.06.94z\"/><path d=\"M17.41 7.96l-1.37-1.37c-.4-.4-.92-.59-1.43-.59-.52 0-1.04.2-1.43.59L10.3 9.45l-7.72 7.72c-.78.78-.78 2.05 0 2.83L4 21.41c.39.39.9.59 1.41.59.51 0 1.02-.2 1.41-.59l7.78-7.78 2.81-2.81c.8-.78.8-2.07 0-2.86zM5.41 20L4 18.59l7.72-7.72 1.47 1.35L5.41 20z\"/>\n",
              "  </svg>\n",
              "      </button>\n",
              "      \n",
              "  <style>\n",
              "    .colab-df-container {\n",
              "      display:flex;\n",
              "      flex-wrap:wrap;\n",
              "      gap: 12px;\n",
              "    }\n",
              "\n",
              "    .colab-df-convert {\n",
              "      background-color: #E8F0FE;\n",
              "      border: none;\n",
              "      border-radius: 50%;\n",
              "      cursor: pointer;\n",
              "      display: none;\n",
              "      fill: #1967D2;\n",
              "      height: 32px;\n",
              "      padding: 0 0 0 0;\n",
              "      width: 32px;\n",
              "    }\n",
              "\n",
              "    .colab-df-convert:hover {\n",
              "      background-color: #E2EBFA;\n",
              "      box-shadow: 0px 1px 2px rgba(60, 64, 67, 0.3), 0px 1px 3px 1px rgba(60, 64, 67, 0.15);\n",
              "      fill: #174EA6;\n",
              "    }\n",
              "\n",
              "    [theme=dark] .colab-df-convert {\n",
              "      background-color: #3B4455;\n",
              "      fill: #D2E3FC;\n",
              "    }\n",
              "\n",
              "    [theme=dark] .colab-df-convert:hover {\n",
              "      background-color: #434B5C;\n",
              "      box-shadow: 0px 1px 3px 1px rgba(0, 0, 0, 0.15);\n",
              "      filter: drop-shadow(0px 1px 2px rgba(0, 0, 0, 0.3));\n",
              "      fill: #FFFFFF;\n",
              "    }\n",
              "  </style>\n",
              "\n",
              "      <script>\n",
              "        const buttonEl =\n",
              "          document.querySelector('#df-255a1375-3d51-4d21-88d1-d44a40e4fc26 button.colab-df-convert');\n",
              "        buttonEl.style.display =\n",
              "          google.colab.kernel.accessAllowed ? 'block' : 'none';\n",
              "\n",
              "        async function convertToInteractive(key) {\n",
              "          const element = document.querySelector('#df-255a1375-3d51-4d21-88d1-d44a40e4fc26');\n",
              "          const dataTable =\n",
              "            await google.colab.kernel.invokeFunction('convertToInteractive',\n",
              "                                                     [key], {});\n",
              "          if (!dataTable) return;\n",
              "\n",
              "          const docLinkHtml = 'Like what you see? Visit the ' +\n",
              "            '<a target=\"_blank\" href=https://colab.research.google.com/notebooks/data_table.ipynb>data table notebook</a>'\n",
              "            + ' to learn more about interactive tables.';\n",
              "          element.innerHTML = '';\n",
              "          dataTable['output_type'] = 'display_data';\n",
              "          await google.colab.output.renderOutput(dataTable, element);\n",
              "          const docLink = document.createElement('div');\n",
              "          docLink.innerHTML = docLinkHtml;\n",
              "          element.appendChild(docLink);\n",
              "        }\n",
              "      </script>\n",
              "    </div>\n",
              "  </div>\n",
              "  "
            ]
          },
          "metadata": {},
          "execution_count": 54
        }
      ]
    },
    {
      "cell_type": "code",
      "source": [
        "# in how many seasons did the FIR make top 4?\n",
        "FIR_merge_top4[FIR_merge_top4['FIR'] == FIR_merge_top4['Name']]"
      ],
      "metadata": {
        "colab": {
          "base_uri": "https://localhost:8080/",
          "height": 237
        },
        "id": "G7zyjkpNm4f1",
        "outputId": "ae669b27-edb4-499b-82a4-4a9e86b07aea"
      },
      "execution_count": 55,
      "outputs": [
        {
          "output_type": "execute_result",
          "data": {
            "text/plain": [
              "       FIR  Season    Name   Age       Town     State  \\\n",
              "5    Jenni      11   Jenni  27.0    Wichita    Kansas   \n",
              "10  Amanda      12  Amanda  27.0  Niceville   Florida   \n",
              "17  Tenley      14  Tenley  25.0    Newberg    Oregon   \n",
              "22  Ashley      15  Ashley  26.0  Madawaska     Maine   \n",
              "25  Lindzi      16  Lindzi  27.0      Ocala   Florida   \n",
              "42  Rachel      21  Rachel  31.0     Dallas     Texas   \n",
              "\n",
              "                      Occupation        Outcome               Job Category  \n",
              "5       Phoenix Suns Cheerleader  Co-runners-up                      Dance  \n",
              "10             Account Executive         Week 7                      Sales  \n",
              "17            College Admissions      Runner-Up                  not found  \n",
              "22                Dental Student         Week 9                Dental Care  \n",
              "25  Business Development Manager      Runner-up  Management and Consulting  \n",
              "42                      Attorney         Week 9                      Legal  "
            ],
            "text/html": [
              "\n",
              "  <div id=\"df-7dc9ca44-0c2a-4be8-863a-e1ce155b9793\">\n",
              "    <div class=\"colab-df-container\">\n",
              "      <div>\n",
              "<style scoped>\n",
              "    .dataframe tbody tr th:only-of-type {\n",
              "        vertical-align: middle;\n",
              "    }\n",
              "\n",
              "    .dataframe tbody tr th {\n",
              "        vertical-align: top;\n",
              "    }\n",
              "\n",
              "    .dataframe thead th {\n",
              "        text-align: right;\n",
              "    }\n",
              "</style>\n",
              "<table border=\"1\" class=\"dataframe\">\n",
              "  <thead>\n",
              "    <tr style=\"text-align: right;\">\n",
              "      <th></th>\n",
              "      <th>FIR</th>\n",
              "      <th>Season</th>\n",
              "      <th>Name</th>\n",
              "      <th>Age</th>\n",
              "      <th>Town</th>\n",
              "      <th>State</th>\n",
              "      <th>Occupation</th>\n",
              "      <th>Outcome</th>\n",
              "      <th>Job Category</th>\n",
              "    </tr>\n",
              "  </thead>\n",
              "  <tbody>\n",
              "    <tr>\n",
              "      <th>5</th>\n",
              "      <td>Jenni</td>\n",
              "      <td>11</td>\n",
              "      <td>Jenni</td>\n",
              "      <td>27.0</td>\n",
              "      <td>Wichita</td>\n",
              "      <td>Kansas</td>\n",
              "      <td>Phoenix Suns Cheerleader</td>\n",
              "      <td>Co-runners-up</td>\n",
              "      <td>Dance</td>\n",
              "    </tr>\n",
              "    <tr>\n",
              "      <th>10</th>\n",
              "      <td>Amanda</td>\n",
              "      <td>12</td>\n",
              "      <td>Amanda</td>\n",
              "      <td>27.0</td>\n",
              "      <td>Niceville</td>\n",
              "      <td>Florida</td>\n",
              "      <td>Account Executive</td>\n",
              "      <td>Week 7</td>\n",
              "      <td>Sales</td>\n",
              "    </tr>\n",
              "    <tr>\n",
              "      <th>17</th>\n",
              "      <td>Tenley</td>\n",
              "      <td>14</td>\n",
              "      <td>Tenley</td>\n",
              "      <td>25.0</td>\n",
              "      <td>Newberg</td>\n",
              "      <td>Oregon</td>\n",
              "      <td>College Admissions</td>\n",
              "      <td>Runner-Up</td>\n",
              "      <td>not found</td>\n",
              "    </tr>\n",
              "    <tr>\n",
              "      <th>22</th>\n",
              "      <td>Ashley</td>\n",
              "      <td>15</td>\n",
              "      <td>Ashley</td>\n",
              "      <td>26.0</td>\n",
              "      <td>Madawaska</td>\n",
              "      <td>Maine</td>\n",
              "      <td>Dental Student</td>\n",
              "      <td>Week 9</td>\n",
              "      <td>Dental Care</td>\n",
              "    </tr>\n",
              "    <tr>\n",
              "      <th>25</th>\n",
              "      <td>Lindzi</td>\n",
              "      <td>16</td>\n",
              "      <td>Lindzi</td>\n",
              "      <td>27.0</td>\n",
              "      <td>Ocala</td>\n",
              "      <td>Florida</td>\n",
              "      <td>Business Development Manager</td>\n",
              "      <td>Runner-up</td>\n",
              "      <td>Management and Consulting</td>\n",
              "    </tr>\n",
              "    <tr>\n",
              "      <th>42</th>\n",
              "      <td>Rachel</td>\n",
              "      <td>21</td>\n",
              "      <td>Rachel</td>\n",
              "      <td>31.0</td>\n",
              "      <td>Dallas</td>\n",
              "      <td>Texas</td>\n",
              "      <td>Attorney</td>\n",
              "      <td>Week 9</td>\n",
              "      <td>Legal</td>\n",
              "    </tr>\n",
              "  </tbody>\n",
              "</table>\n",
              "</div>\n",
              "      <button class=\"colab-df-convert\" onclick=\"convertToInteractive('df-7dc9ca44-0c2a-4be8-863a-e1ce155b9793')\"\n",
              "              title=\"Convert this dataframe to an interactive table.\"\n",
              "              style=\"display:none;\">\n",
              "        \n",
              "  <svg xmlns=\"http://www.w3.org/2000/svg\" height=\"24px\"viewBox=\"0 0 24 24\"\n",
              "       width=\"24px\">\n",
              "    <path d=\"M0 0h24v24H0V0z\" fill=\"none\"/>\n",
              "    <path d=\"M18.56 5.44l.94 2.06.94-2.06 2.06-.94-2.06-.94-.94-2.06-.94 2.06-2.06.94zm-11 1L8.5 8.5l.94-2.06 2.06-.94-2.06-.94L8.5 2.5l-.94 2.06-2.06.94zm10 10l.94 2.06.94-2.06 2.06-.94-2.06-.94-.94-2.06-.94 2.06-2.06.94z\"/><path d=\"M17.41 7.96l-1.37-1.37c-.4-.4-.92-.59-1.43-.59-.52 0-1.04.2-1.43.59L10.3 9.45l-7.72 7.72c-.78.78-.78 2.05 0 2.83L4 21.41c.39.39.9.59 1.41.59.51 0 1.02-.2 1.41-.59l7.78-7.78 2.81-2.81c.8-.78.8-2.07 0-2.86zM5.41 20L4 18.59l7.72-7.72 1.47 1.35L5.41 20z\"/>\n",
              "  </svg>\n",
              "      </button>\n",
              "      \n",
              "  <style>\n",
              "    .colab-df-container {\n",
              "      display:flex;\n",
              "      flex-wrap:wrap;\n",
              "      gap: 12px;\n",
              "    }\n",
              "\n",
              "    .colab-df-convert {\n",
              "      background-color: #E8F0FE;\n",
              "      border: none;\n",
              "      border-radius: 50%;\n",
              "      cursor: pointer;\n",
              "      display: none;\n",
              "      fill: #1967D2;\n",
              "      height: 32px;\n",
              "      padding: 0 0 0 0;\n",
              "      width: 32px;\n",
              "    }\n",
              "\n",
              "    .colab-df-convert:hover {\n",
              "      background-color: #E2EBFA;\n",
              "      box-shadow: 0px 1px 2px rgba(60, 64, 67, 0.3), 0px 1px 3px 1px rgba(60, 64, 67, 0.15);\n",
              "      fill: #174EA6;\n",
              "    }\n",
              "\n",
              "    [theme=dark] .colab-df-convert {\n",
              "      background-color: #3B4455;\n",
              "      fill: #D2E3FC;\n",
              "    }\n",
              "\n",
              "    [theme=dark] .colab-df-convert:hover {\n",
              "      background-color: #434B5C;\n",
              "      box-shadow: 0px 1px 3px 1px rgba(0, 0, 0, 0.15);\n",
              "      filter: drop-shadow(0px 1px 2px rgba(0, 0, 0, 0.3));\n",
              "      fill: #FFFFFF;\n",
              "    }\n",
              "  </style>\n",
              "\n",
              "      <script>\n",
              "        const buttonEl =\n",
              "          document.querySelector('#df-7dc9ca44-0c2a-4be8-863a-e1ce155b9793 button.colab-df-convert');\n",
              "        buttonEl.style.display =\n",
              "          google.colab.kernel.accessAllowed ? 'block' : 'none';\n",
              "\n",
              "        async function convertToInteractive(key) {\n",
              "          const element = document.querySelector('#df-7dc9ca44-0c2a-4be8-863a-e1ce155b9793');\n",
              "          const dataTable =\n",
              "            await google.colab.kernel.invokeFunction('convertToInteractive',\n",
              "                                                     [key], {});\n",
              "          if (!dataTable) return;\n",
              "\n",
              "          const docLinkHtml = 'Like what you see? Visit the ' +\n",
              "            '<a target=\"_blank\" href=https://colab.research.google.com/notebooks/data_table.ipynb>data table notebook</a>'\n",
              "            + ' to learn more about interactive tables.';\n",
              "          element.innerHTML = '';\n",
              "          dataTable['output_type'] = 'display_data';\n",
              "          await google.colab.output.renderOutput(dataTable, element);\n",
              "          const docLink = document.createElement('div');\n",
              "          docLink.innerHTML = docLinkHtml;\n",
              "          element.appendChild(docLink);\n",
              "        }\n",
              "      </script>\n",
              "    </div>\n",
              "  </div>\n",
              "  "
            ]
          },
          "metadata": {},
          "execution_count": 55
        }
      ]
    },
    {
      "cell_type": "markdown",
      "source": [
        "It appears that among the 12 Bachelor seasons we observed, where we were able to scrape this data regarding roses from the fan wiki, 50% of first impression rose winners made top 4! None of them, however, won the show. While we may not have evidence that this highly sought after rose enhances your chances of winning, contestants can have some confidence that it might mean they'll be sticking around for a while."
      ],
      "metadata": {
        "id": "TdiWfCLJnher"
      }
    },
    {
      "cell_type": "markdown",
      "source": [
        "***Bachelorette***"
      ],
      "metadata": {
        "id": "yRwILinsJr1n"
      }
    },
    {
      "cell_type": "markdown",
      "source": [
        "We then perform the same process for the Bachelorette, seasons 5-8, 10, 11, 13-14, and 15, and 17-18. These are seasons where only one FIR was given."
      ],
      "metadata": {
        "id": "BxPqReTxT6U9"
      }
    },
    {
      "cell_type": "code",
      "source": [
        "seasons = np.array([i for i in range(5,19) if i not in [9, 12, 14, 16]])\n",
        "urlstart = 'https://bachelor-nation.fandom.com/wiki/The_Bachelorette_(Season_'\n",
        "roses_df2 = pd.DataFrame()\n",
        "\n",
        "def FIR_scrape(seasons, roses_df, urlstart):\n",
        "  for i in range(0, len(seasons)):\n",
        "    # write the url for specific season\n",
        "    if seasons[i] <= 14:\n",
        "      url = urlstart + str(seasons[i]) + ')#Call-Out_Order'\n",
        "      #print(url)\n",
        "    else:\n",
        "      url = urlstart + str(seasons[i]) + ')#Call-out_order'\n",
        "    table_class = \"wikitable sortable jquery-tablesorter\"\n",
        "    response = requests.get(url)\n",
        "    # parse data from html\n",
        "    soup = BeautifulSoup(response.text, 'html.parser')\n",
        "    callout_table = soup.find('table', {'class':\"wikitable\"})\n",
        "    df = pd.read_html(str(callout_table))\n",
        "    # convert list to data frame\n",
        "    df = pd.DataFrame(df[0])\n",
        "    # fix multiindex\n",
        "    df.columns = df.columns.droplevel(0)\n",
        "    # get first row of the data. FIR winner will be listed first in column 1\n",
        "    roses = df.head(1)\n",
        "    roses_df = roses_df.append(roses, ignore_index = True)\n",
        "  d = {'FIR': roses_df['1'], 'Season': seasons}\n",
        "  roses_df = pd.DataFrame(data = d)\n",
        "  return roses_df"
      ],
      "metadata": {
        "id": "jPGVCX7OJwIq"
      },
      "execution_count": 57,
      "outputs": []
    },
    {
      "cell_type": "code",
      "source": [
        "roses_df2 = FIR_scrape(seasons, roses_df2, urlstart)\n",
        "roses_df2.head()"
      ],
      "metadata": {
        "colab": {
          "base_uri": "https://localhost:8080/",
          "height": 206
        },
        "id": "4bctSbOUZLpW",
        "outputId": "c6dc4598-f269-4df9-9124-764bba12fcd8"
      },
      "execution_count": 58,
      "outputs": [
        {
          "output_type": "execute_result",
          "data": {
            "text/plain": [
              "       FIR  Season\n",
              "0    David       5\n",
              "1  Roberto       6\n",
              "2  Ryan P.       7\n",
              "3     Doug       8\n",
              "4  Nick V.      10"
            ],
            "text/html": [
              "\n",
              "  <div id=\"df-1ed2ba6c-4b0f-4e61-b801-db52e80e07b3\">\n",
              "    <div class=\"colab-df-container\">\n",
              "      <div>\n",
              "<style scoped>\n",
              "    .dataframe tbody tr th:only-of-type {\n",
              "        vertical-align: middle;\n",
              "    }\n",
              "\n",
              "    .dataframe tbody tr th {\n",
              "        vertical-align: top;\n",
              "    }\n",
              "\n",
              "    .dataframe thead th {\n",
              "        text-align: right;\n",
              "    }\n",
              "</style>\n",
              "<table border=\"1\" class=\"dataframe\">\n",
              "  <thead>\n",
              "    <tr style=\"text-align: right;\">\n",
              "      <th></th>\n",
              "      <th>FIR</th>\n",
              "      <th>Season</th>\n",
              "    </tr>\n",
              "  </thead>\n",
              "  <tbody>\n",
              "    <tr>\n",
              "      <th>0</th>\n",
              "      <td>David</td>\n",
              "      <td>5</td>\n",
              "    </tr>\n",
              "    <tr>\n",
              "      <th>1</th>\n",
              "      <td>Roberto</td>\n",
              "      <td>6</td>\n",
              "    </tr>\n",
              "    <tr>\n",
              "      <th>2</th>\n",
              "      <td>Ryan P.</td>\n",
              "      <td>7</td>\n",
              "    </tr>\n",
              "    <tr>\n",
              "      <th>3</th>\n",
              "      <td>Doug</td>\n",
              "      <td>8</td>\n",
              "    </tr>\n",
              "    <tr>\n",
              "      <th>4</th>\n",
              "      <td>Nick V.</td>\n",
              "      <td>10</td>\n",
              "    </tr>\n",
              "  </tbody>\n",
              "</table>\n",
              "</div>\n",
              "      <button class=\"colab-df-convert\" onclick=\"convertToInteractive('df-1ed2ba6c-4b0f-4e61-b801-db52e80e07b3')\"\n",
              "              title=\"Convert this dataframe to an interactive table.\"\n",
              "              style=\"display:none;\">\n",
              "        \n",
              "  <svg xmlns=\"http://www.w3.org/2000/svg\" height=\"24px\"viewBox=\"0 0 24 24\"\n",
              "       width=\"24px\">\n",
              "    <path d=\"M0 0h24v24H0V0z\" fill=\"none\"/>\n",
              "    <path d=\"M18.56 5.44l.94 2.06.94-2.06 2.06-.94-2.06-.94-.94-2.06-.94 2.06-2.06.94zm-11 1L8.5 8.5l.94-2.06 2.06-.94-2.06-.94L8.5 2.5l-.94 2.06-2.06.94zm10 10l.94 2.06.94-2.06 2.06-.94-2.06-.94-.94-2.06-.94 2.06-2.06.94z\"/><path d=\"M17.41 7.96l-1.37-1.37c-.4-.4-.92-.59-1.43-.59-.52 0-1.04.2-1.43.59L10.3 9.45l-7.72 7.72c-.78.78-.78 2.05 0 2.83L4 21.41c.39.39.9.59 1.41.59.51 0 1.02-.2 1.41-.59l7.78-7.78 2.81-2.81c.8-.78.8-2.07 0-2.86zM5.41 20L4 18.59l7.72-7.72 1.47 1.35L5.41 20z\"/>\n",
              "  </svg>\n",
              "      </button>\n",
              "      \n",
              "  <style>\n",
              "    .colab-df-container {\n",
              "      display:flex;\n",
              "      flex-wrap:wrap;\n",
              "      gap: 12px;\n",
              "    }\n",
              "\n",
              "    .colab-df-convert {\n",
              "      background-color: #E8F0FE;\n",
              "      border: none;\n",
              "      border-radius: 50%;\n",
              "      cursor: pointer;\n",
              "      display: none;\n",
              "      fill: #1967D2;\n",
              "      height: 32px;\n",
              "      padding: 0 0 0 0;\n",
              "      width: 32px;\n",
              "    }\n",
              "\n",
              "    .colab-df-convert:hover {\n",
              "      background-color: #E2EBFA;\n",
              "      box-shadow: 0px 1px 2px rgba(60, 64, 67, 0.3), 0px 1px 3px 1px rgba(60, 64, 67, 0.15);\n",
              "      fill: #174EA6;\n",
              "    }\n",
              "\n",
              "    [theme=dark] .colab-df-convert {\n",
              "      background-color: #3B4455;\n",
              "      fill: #D2E3FC;\n",
              "    }\n",
              "\n",
              "    [theme=dark] .colab-df-convert:hover {\n",
              "      background-color: #434B5C;\n",
              "      box-shadow: 0px 1px 3px 1px rgba(0, 0, 0, 0.15);\n",
              "      filter: drop-shadow(0px 1px 2px rgba(0, 0, 0, 0.3));\n",
              "      fill: #FFFFFF;\n",
              "    }\n",
              "  </style>\n",
              "\n",
              "      <script>\n",
              "        const buttonEl =\n",
              "          document.querySelector('#df-1ed2ba6c-4b0f-4e61-b801-db52e80e07b3 button.colab-df-convert');\n",
              "        buttonEl.style.display =\n",
              "          google.colab.kernel.accessAllowed ? 'block' : 'none';\n",
              "\n",
              "        async function convertToInteractive(key) {\n",
              "          const element = document.querySelector('#df-1ed2ba6c-4b0f-4e61-b801-db52e80e07b3');\n",
              "          const dataTable =\n",
              "            await google.colab.kernel.invokeFunction('convertToInteractive',\n",
              "                                                     [key], {});\n",
              "          if (!dataTable) return;\n",
              "\n",
              "          const docLinkHtml = 'Like what you see? Visit the ' +\n",
              "            '<a target=\"_blank\" href=https://colab.research.google.com/notebooks/data_table.ipynb>data table notebook</a>'\n",
              "            + ' to learn more about interactive tables.';\n",
              "          element.innerHTML = '';\n",
              "          dataTable['output_type'] = 'display_data';\n",
              "          await google.colab.output.renderOutput(dataTable, element);\n",
              "          const docLink = document.createElement('div');\n",
              "          docLink.innerHTML = docLinkHtml;\n",
              "          element.appendChild(docLink);\n",
              "        }\n",
              "      </script>\n",
              "    </div>\n",
              "  </div>\n",
              "  "
            ]
          },
          "metadata": {},
          "execution_count": 58
        }
      ]
    },
    {
      "cell_type": "code",
      "source": [
        "winners_df2.loc[:,'Name'] = winners_df2['Name'].apply(lambda x: x.split(' ')[0] if ' ' in x else x)\n",
        "top4_df2.loc[:,'Name'] = top4_df2['Name'].apply(lambda x: x.split(' ')[0] if ' ' in x else x)\n",
        "roses_df2.loc[:,'FIR'] = roses_df2['FIR'].apply(lambda x: x.split(' ')[0])"
      ],
      "metadata": {
        "colab": {
          "base_uri": "https://localhost:8080/"
        },
        "id": "ZmEyE2XxZfMQ",
        "outputId": "a5a06ca7-a1a4-47c5-938f-cfdeae3f0cca"
      },
      "execution_count": 60,
      "outputs": [
        {
          "output_type": "stream",
          "name": "stderr",
          "text": [
            "/usr/local/lib/python3.9/dist-packages/pandas/core/indexing.py:1773: SettingWithCopyWarning: \n",
            "A value is trying to be set on a copy of a slice from a DataFrame.\n",
            "Try using .loc[row_indexer,col_indexer] = value instead\n",
            "\n",
            "See the caveats in the documentation: https://pandas.pydata.org/pandas-docs/stable/user_guide/indexing.html#returning-a-view-versus-a-copy\n",
            "  self._setitem_single_column(ilocs[0], value, pi)\n"
          ]
        }
      ]
    },
    {
      "cell_type": "code",
      "source": [
        "FIR_merge_winners2 = roses_df2.merge(winners_df2, on = 'Season')\n",
        "FIR_merge_top4_2 = roses_df2.merge(top4_df2, on = 'Season')"
      ],
      "metadata": {
        "id": "bw5ueK03Z5d0"
      },
      "execution_count": 61,
      "outputs": []
    },
    {
      "cell_type": "code",
      "source": [
        "# in how many seasons was the FIR the overall winner?\n",
        "FIR_merge_winners2[FIR_merge_winners2['FIR'] == FIR_merge_winners2['Name']]"
      ],
      "metadata": {
        "colab": {
          "base_uri": "https://localhost:8080/",
          "height": 175
        },
        "id": "WB52s-xka-4R",
        "outputId": "b9b87f62-55e7-4961-a68f-87276c4b9975"
      },
      "execution_count": 62,
      "outputs": [
        {
          "output_type": "execute_result",
          "data": {
            "text/plain": [
              "       FIR  Season     Name  Age           Town         State  \\\n",
              "1  Roberto       6  Roberto   26          Tampa       Florida   \n",
              "5    Shawn      11    Shawn   28  Windsor Locks   Connecticut   \n",
              "6    Bryan      13    Bryan   37          Miami       Florida   \n",
              "9    Nayte      18    Nayte   27       Winnipeg      Manitoba   \n",
              "\n",
              "         Occupation Outcome Job Category  \n",
              "1   Insurance Agent  Winner        Sales  \n",
              "5  Personal Trainer  Winner       Sports  \n",
              "6      Chiropractor  Winner      Medical  \n",
              "9   Sales Executive  Winner        Sales  "
            ],
            "text/html": [
              "\n",
              "  <div id=\"df-67e454cd-71bb-4fdc-8059-87fc79c1f343\">\n",
              "    <div class=\"colab-df-container\">\n",
              "      <div>\n",
              "<style scoped>\n",
              "    .dataframe tbody tr th:only-of-type {\n",
              "        vertical-align: middle;\n",
              "    }\n",
              "\n",
              "    .dataframe tbody tr th {\n",
              "        vertical-align: top;\n",
              "    }\n",
              "\n",
              "    .dataframe thead th {\n",
              "        text-align: right;\n",
              "    }\n",
              "</style>\n",
              "<table border=\"1\" class=\"dataframe\">\n",
              "  <thead>\n",
              "    <tr style=\"text-align: right;\">\n",
              "      <th></th>\n",
              "      <th>FIR</th>\n",
              "      <th>Season</th>\n",
              "      <th>Name</th>\n",
              "      <th>Age</th>\n",
              "      <th>Town</th>\n",
              "      <th>State</th>\n",
              "      <th>Occupation</th>\n",
              "      <th>Outcome</th>\n",
              "      <th>Job Category</th>\n",
              "    </tr>\n",
              "  </thead>\n",
              "  <tbody>\n",
              "    <tr>\n",
              "      <th>1</th>\n",
              "      <td>Roberto</td>\n",
              "      <td>6</td>\n",
              "      <td>Roberto</td>\n",
              "      <td>26</td>\n",
              "      <td>Tampa</td>\n",
              "      <td>Florida</td>\n",
              "      <td>Insurance Agent</td>\n",
              "      <td>Winner</td>\n",
              "      <td>Sales</td>\n",
              "    </tr>\n",
              "    <tr>\n",
              "      <th>5</th>\n",
              "      <td>Shawn</td>\n",
              "      <td>11</td>\n",
              "      <td>Shawn</td>\n",
              "      <td>28</td>\n",
              "      <td>Windsor Locks</td>\n",
              "      <td>Connecticut</td>\n",
              "      <td>Personal Trainer</td>\n",
              "      <td>Winner</td>\n",
              "      <td>Sports</td>\n",
              "    </tr>\n",
              "    <tr>\n",
              "      <th>6</th>\n",
              "      <td>Bryan</td>\n",
              "      <td>13</td>\n",
              "      <td>Bryan</td>\n",
              "      <td>37</td>\n",
              "      <td>Miami</td>\n",
              "      <td>Florida</td>\n",
              "      <td>Chiropractor</td>\n",
              "      <td>Winner</td>\n",
              "      <td>Medical</td>\n",
              "    </tr>\n",
              "    <tr>\n",
              "      <th>9</th>\n",
              "      <td>Nayte</td>\n",
              "      <td>18</td>\n",
              "      <td>Nayte</td>\n",
              "      <td>27</td>\n",
              "      <td>Winnipeg</td>\n",
              "      <td>Manitoba</td>\n",
              "      <td>Sales Executive</td>\n",
              "      <td>Winner</td>\n",
              "      <td>Sales</td>\n",
              "    </tr>\n",
              "  </tbody>\n",
              "</table>\n",
              "</div>\n",
              "      <button class=\"colab-df-convert\" onclick=\"convertToInteractive('df-67e454cd-71bb-4fdc-8059-87fc79c1f343')\"\n",
              "              title=\"Convert this dataframe to an interactive table.\"\n",
              "              style=\"display:none;\">\n",
              "        \n",
              "  <svg xmlns=\"http://www.w3.org/2000/svg\" height=\"24px\"viewBox=\"0 0 24 24\"\n",
              "       width=\"24px\">\n",
              "    <path d=\"M0 0h24v24H0V0z\" fill=\"none\"/>\n",
              "    <path d=\"M18.56 5.44l.94 2.06.94-2.06 2.06-.94-2.06-.94-.94-2.06-.94 2.06-2.06.94zm-11 1L8.5 8.5l.94-2.06 2.06-.94-2.06-.94L8.5 2.5l-.94 2.06-2.06.94zm10 10l.94 2.06.94-2.06 2.06-.94-2.06-.94-.94-2.06-.94 2.06-2.06.94z\"/><path d=\"M17.41 7.96l-1.37-1.37c-.4-.4-.92-.59-1.43-.59-.52 0-1.04.2-1.43.59L10.3 9.45l-7.72 7.72c-.78.78-.78 2.05 0 2.83L4 21.41c.39.39.9.59 1.41.59.51 0 1.02-.2 1.41-.59l7.78-7.78 2.81-2.81c.8-.78.8-2.07 0-2.86zM5.41 20L4 18.59l7.72-7.72 1.47 1.35L5.41 20z\"/>\n",
              "  </svg>\n",
              "      </button>\n",
              "      \n",
              "  <style>\n",
              "    .colab-df-container {\n",
              "      display:flex;\n",
              "      flex-wrap:wrap;\n",
              "      gap: 12px;\n",
              "    }\n",
              "\n",
              "    .colab-df-convert {\n",
              "      background-color: #E8F0FE;\n",
              "      border: none;\n",
              "      border-radius: 50%;\n",
              "      cursor: pointer;\n",
              "      display: none;\n",
              "      fill: #1967D2;\n",
              "      height: 32px;\n",
              "      padding: 0 0 0 0;\n",
              "      width: 32px;\n",
              "    }\n",
              "\n",
              "    .colab-df-convert:hover {\n",
              "      background-color: #E2EBFA;\n",
              "      box-shadow: 0px 1px 2px rgba(60, 64, 67, 0.3), 0px 1px 3px 1px rgba(60, 64, 67, 0.15);\n",
              "      fill: #174EA6;\n",
              "    }\n",
              "\n",
              "    [theme=dark] .colab-df-convert {\n",
              "      background-color: #3B4455;\n",
              "      fill: #D2E3FC;\n",
              "    }\n",
              "\n",
              "    [theme=dark] .colab-df-convert:hover {\n",
              "      background-color: #434B5C;\n",
              "      box-shadow: 0px 1px 3px 1px rgba(0, 0, 0, 0.15);\n",
              "      filter: drop-shadow(0px 1px 2px rgba(0, 0, 0, 0.3));\n",
              "      fill: #FFFFFF;\n",
              "    }\n",
              "  </style>\n",
              "\n",
              "      <script>\n",
              "        const buttonEl =\n",
              "          document.querySelector('#df-67e454cd-71bb-4fdc-8059-87fc79c1f343 button.colab-df-convert');\n",
              "        buttonEl.style.display =\n",
              "          google.colab.kernel.accessAllowed ? 'block' : 'none';\n",
              "\n",
              "        async function convertToInteractive(key) {\n",
              "          const element = document.querySelector('#df-67e454cd-71bb-4fdc-8059-87fc79c1f343');\n",
              "          const dataTable =\n",
              "            await google.colab.kernel.invokeFunction('convertToInteractive',\n",
              "                                                     [key], {});\n",
              "          if (!dataTable) return;\n",
              "\n",
              "          const docLinkHtml = 'Like what you see? Visit the ' +\n",
              "            '<a target=\"_blank\" href=https://colab.research.google.com/notebooks/data_table.ipynb>data table notebook</a>'\n",
              "            + ' to learn more about interactive tables.';\n",
              "          element.innerHTML = '';\n",
              "          dataTable['output_type'] = 'display_data';\n",
              "          await google.colab.output.renderOutput(dataTable, element);\n",
              "          const docLink = document.createElement('div');\n",
              "          docLink.innerHTML = docLinkHtml;\n",
              "          element.appendChild(docLink);\n",
              "        }\n",
              "      </script>\n",
              "    </div>\n",
              "  </div>\n",
              "  "
            ]
          },
          "metadata": {},
          "execution_count": 62
        }
      ]
    },
    {
      "cell_type": "code",
      "source": [
        "# in how many seasons did the FIR make top 4?\n",
        "FIR_merge_top4_2[FIR_merge_top4_2['FIR'] == FIR_merge_top4_2['Name']]"
      ],
      "metadata": {
        "colab": {
          "base_uri": "https://localhost:8080/",
          "height": 237
        },
        "id": "AUxocMVpbAs-",
        "outputId": "79c360e0-e2a5-4a22-e138-3a48c320bea4"
      },
      "execution_count": 63,
      "outputs": [
        {
          "output_type": "execute_result",
          "data": {
            "text/plain": [
              "        FIR  Season     Name  Age           Town         State  \\\n",
              "4   Roberto       6  Roberto   26          Tampa       Florida   \n",
              "17     Nick      10     Nick   33       Waukesha     Wisconsin   \n",
              "20    Shawn      11    Shawn   28  Windsor Locks   Connecticut   \n",
              "24    Bryan      13    Bryan   37          Miami       Florida   \n",
              "34     Greg      17     Greg   27         Edison    New Jersey   \n",
              "36    Nayte      18    Nayte   27       Winnipeg      Manitoba   \n",
              "\n",
              "                        Occupation    Outcome Job Category  \n",
              "4                  Insurance Agent     Winner        Sales  \n",
              "17        Software Sales Executive  Runner-up        Sales  \n",
              "20                Personal Trainer     Winner       Sports  \n",
              "24                    Chiropractor     Winner      Medical  \n",
              "34  Marketing Sales Representative     Week 7    Marketing  \n",
              "36                 Sales Executive     Winner        Sales  "
            ],
            "text/html": [
              "\n",
              "  <div id=\"df-e82a0968-4302-46d8-b0a6-601ea397e9d9\">\n",
              "    <div class=\"colab-df-container\">\n",
              "      <div>\n",
              "<style scoped>\n",
              "    .dataframe tbody tr th:only-of-type {\n",
              "        vertical-align: middle;\n",
              "    }\n",
              "\n",
              "    .dataframe tbody tr th {\n",
              "        vertical-align: top;\n",
              "    }\n",
              "\n",
              "    .dataframe thead th {\n",
              "        text-align: right;\n",
              "    }\n",
              "</style>\n",
              "<table border=\"1\" class=\"dataframe\">\n",
              "  <thead>\n",
              "    <tr style=\"text-align: right;\">\n",
              "      <th></th>\n",
              "      <th>FIR</th>\n",
              "      <th>Season</th>\n",
              "      <th>Name</th>\n",
              "      <th>Age</th>\n",
              "      <th>Town</th>\n",
              "      <th>State</th>\n",
              "      <th>Occupation</th>\n",
              "      <th>Outcome</th>\n",
              "      <th>Job Category</th>\n",
              "    </tr>\n",
              "  </thead>\n",
              "  <tbody>\n",
              "    <tr>\n",
              "      <th>4</th>\n",
              "      <td>Roberto</td>\n",
              "      <td>6</td>\n",
              "      <td>Roberto</td>\n",
              "      <td>26</td>\n",
              "      <td>Tampa</td>\n",
              "      <td>Florida</td>\n",
              "      <td>Insurance Agent</td>\n",
              "      <td>Winner</td>\n",
              "      <td>Sales</td>\n",
              "    </tr>\n",
              "    <tr>\n",
              "      <th>17</th>\n",
              "      <td>Nick</td>\n",
              "      <td>10</td>\n",
              "      <td>Nick</td>\n",
              "      <td>33</td>\n",
              "      <td>Waukesha</td>\n",
              "      <td>Wisconsin</td>\n",
              "      <td>Software Sales Executive</td>\n",
              "      <td>Runner-up</td>\n",
              "      <td>Sales</td>\n",
              "    </tr>\n",
              "    <tr>\n",
              "      <th>20</th>\n",
              "      <td>Shawn</td>\n",
              "      <td>11</td>\n",
              "      <td>Shawn</td>\n",
              "      <td>28</td>\n",
              "      <td>Windsor Locks</td>\n",
              "      <td>Connecticut</td>\n",
              "      <td>Personal Trainer</td>\n",
              "      <td>Winner</td>\n",
              "      <td>Sports</td>\n",
              "    </tr>\n",
              "    <tr>\n",
              "      <th>24</th>\n",
              "      <td>Bryan</td>\n",
              "      <td>13</td>\n",
              "      <td>Bryan</td>\n",
              "      <td>37</td>\n",
              "      <td>Miami</td>\n",
              "      <td>Florida</td>\n",
              "      <td>Chiropractor</td>\n",
              "      <td>Winner</td>\n",
              "      <td>Medical</td>\n",
              "    </tr>\n",
              "    <tr>\n",
              "      <th>34</th>\n",
              "      <td>Greg</td>\n",
              "      <td>17</td>\n",
              "      <td>Greg</td>\n",
              "      <td>27</td>\n",
              "      <td>Edison</td>\n",
              "      <td>New Jersey</td>\n",
              "      <td>Marketing Sales Representative</td>\n",
              "      <td>Week 7</td>\n",
              "      <td>Marketing</td>\n",
              "    </tr>\n",
              "    <tr>\n",
              "      <th>36</th>\n",
              "      <td>Nayte</td>\n",
              "      <td>18</td>\n",
              "      <td>Nayte</td>\n",
              "      <td>27</td>\n",
              "      <td>Winnipeg</td>\n",
              "      <td>Manitoba</td>\n",
              "      <td>Sales Executive</td>\n",
              "      <td>Winner</td>\n",
              "      <td>Sales</td>\n",
              "    </tr>\n",
              "  </tbody>\n",
              "</table>\n",
              "</div>\n",
              "      <button class=\"colab-df-convert\" onclick=\"convertToInteractive('df-e82a0968-4302-46d8-b0a6-601ea397e9d9')\"\n",
              "              title=\"Convert this dataframe to an interactive table.\"\n",
              "              style=\"display:none;\">\n",
              "        \n",
              "  <svg xmlns=\"http://www.w3.org/2000/svg\" height=\"24px\"viewBox=\"0 0 24 24\"\n",
              "       width=\"24px\">\n",
              "    <path d=\"M0 0h24v24H0V0z\" fill=\"none\"/>\n",
              "    <path d=\"M18.56 5.44l.94 2.06.94-2.06 2.06-.94-2.06-.94-.94-2.06-.94 2.06-2.06.94zm-11 1L8.5 8.5l.94-2.06 2.06-.94-2.06-.94L8.5 2.5l-.94 2.06-2.06.94zm10 10l.94 2.06.94-2.06 2.06-.94-2.06-.94-.94-2.06-.94 2.06-2.06.94z\"/><path d=\"M17.41 7.96l-1.37-1.37c-.4-.4-.92-.59-1.43-.59-.52 0-1.04.2-1.43.59L10.3 9.45l-7.72 7.72c-.78.78-.78 2.05 0 2.83L4 21.41c.39.39.9.59 1.41.59.51 0 1.02-.2 1.41-.59l7.78-7.78 2.81-2.81c.8-.78.8-2.07 0-2.86zM5.41 20L4 18.59l7.72-7.72 1.47 1.35L5.41 20z\"/>\n",
              "  </svg>\n",
              "      </button>\n",
              "      \n",
              "  <style>\n",
              "    .colab-df-container {\n",
              "      display:flex;\n",
              "      flex-wrap:wrap;\n",
              "      gap: 12px;\n",
              "    }\n",
              "\n",
              "    .colab-df-convert {\n",
              "      background-color: #E8F0FE;\n",
              "      border: none;\n",
              "      border-radius: 50%;\n",
              "      cursor: pointer;\n",
              "      display: none;\n",
              "      fill: #1967D2;\n",
              "      height: 32px;\n",
              "      padding: 0 0 0 0;\n",
              "      width: 32px;\n",
              "    }\n",
              "\n",
              "    .colab-df-convert:hover {\n",
              "      background-color: #E2EBFA;\n",
              "      box-shadow: 0px 1px 2px rgba(60, 64, 67, 0.3), 0px 1px 3px 1px rgba(60, 64, 67, 0.15);\n",
              "      fill: #174EA6;\n",
              "    }\n",
              "\n",
              "    [theme=dark] .colab-df-convert {\n",
              "      background-color: #3B4455;\n",
              "      fill: #D2E3FC;\n",
              "    }\n",
              "\n",
              "    [theme=dark] .colab-df-convert:hover {\n",
              "      background-color: #434B5C;\n",
              "      box-shadow: 0px 1px 3px 1px rgba(0, 0, 0, 0.15);\n",
              "      filter: drop-shadow(0px 1px 2px rgba(0, 0, 0, 0.3));\n",
              "      fill: #FFFFFF;\n",
              "    }\n",
              "  </style>\n",
              "\n",
              "      <script>\n",
              "        const buttonEl =\n",
              "          document.querySelector('#df-e82a0968-4302-46d8-b0a6-601ea397e9d9 button.colab-df-convert');\n",
              "        buttonEl.style.display =\n",
              "          google.colab.kernel.accessAllowed ? 'block' : 'none';\n",
              "\n",
              "        async function convertToInteractive(key) {\n",
              "          const element = document.querySelector('#df-e82a0968-4302-46d8-b0a6-601ea397e9d9');\n",
              "          const dataTable =\n",
              "            await google.colab.kernel.invokeFunction('convertToInteractive',\n",
              "                                                     [key], {});\n",
              "          if (!dataTable) return;\n",
              "\n",
              "          const docLinkHtml = 'Like what you see? Visit the ' +\n",
              "            '<a target=\"_blank\" href=https://colab.research.google.com/notebooks/data_table.ipynb>data table notebook</a>'\n",
              "            + ' to learn more about interactive tables.';\n",
              "          element.innerHTML = '';\n",
              "          dataTable['output_type'] = 'display_data';\n",
              "          await google.colab.output.renderOutput(dataTable, element);\n",
              "          const docLink = document.createElement('div');\n",
              "          docLink.innerHTML = docLinkHtml;\n",
              "          element.appendChild(docLink);\n",
              "        }\n",
              "      </script>\n",
              "    </div>\n",
              "  </div>\n",
              "  "
            ]
          },
          "metadata": {},
          "execution_count": 63
        }
      ]
    },
    {
      "cell_type": "markdown",
      "source": [
        "For the Bachelorette, we were able to scrape First Impression Rose recipient data for 10 seasons. Of those 10 seasons, the FIR recipient ended up being the winner of his season 4 times! This leads us to believe that the FIR recipient will have a better success likelihood than other contestants."
      ],
      "metadata": {
        "id": "OfSbd6R5rDcs"
      }
    },
    {
      "cell_type": "code",
      "source": [
        "FIR_Top4_Men = FIR_merge_top4_2[FIR_merge_top4_2['FIR'] == FIR_merge_top4_2['Name']]\n",
        "FIR_Top4_Women = FIR_merge_top4[FIR_merge_top4['FIR'] == FIR_merge_top4['Name']]"
      ],
      "metadata": {
        "id": "EF_omMzpw1cF"
      },
      "execution_count": 64,
      "outputs": []
    },
    {
      "cell_type": "markdown",
      "source": [
        "#Test of Significance: FIR"
      ],
      "metadata": {
        "id": "fCXLKFKau3H3"
      }
    },
    {
      "cell_type": "markdown",
      "source": [
        "***Is the proportion of FIR recipients who made it to the Top 4 of the show from the two franchises significantly different?***"
      ],
      "metadata": {
        "id": "i1uhsjaku7Bx"
      }
    },
    {
      "cell_type": "code",
      "source": [
        "#significance test for FIR recipients who made the top 4\n",
        "prop_top4_recieved_FIR = np.array([len(FIR_Top4_Men['FIR']),\n",
        "len(FIR_Top4_Women['FIR'])])\n",
        "n_rows = np.array([len(roses_df),\n",
        "                   len(roses_df2)])\n",
        "z_score, p_value = proportions_ztest(count = prop_top4_recieved_FIR, nobs = n_rows)\n",
        "print('Z-score:', z_score, 'P-value:', p_value)"
      ],
      "metadata": {
        "colab": {
          "base_uri": "https://localhost:8080/"
        },
        "id": "jV1dhakyvcRH",
        "outputId": "3c09cc0a-f81d-4e97-925a-c20626c73cb1"
      },
      "execution_count": 65,
      "outputs": [
        {
          "output_type": "stream",
          "name": "stdout",
          "text": [
            "Z-score: -0.4690415759823428 P-value: 0.639039918371475\n"
          ]
        }
      ]
    },
    {
      "cell_type": "markdown",
      "source": [
        "With a p-value of 0.64, we do not have significant evidence to conclude that the proportion FIR recipients who made it to the Top 4 of the show are significantly different between the two franchises."
      ],
      "metadata": {
        "id": "ak4wmKkR0gVD"
      }
    },
    {
      "cell_type": "markdown",
      "source": [
        "#Conclusion  \n",
        "With our part 2 driving question being whether or not there was a significant difference between the proportion of couples from the Bachelor versus Bachelorette who last at least one year- we cannot conclude that our results from the Relationship Length section of our analysis were significant.\n",
        "\n",
        "As for the First Impression Rose Analysis, we were interested in the probability of winning/making top 4 if you are awarded the coveted \"first impression rose\". Here, while it appears that the men on the Bachelorette tend to perform well when award the FIR rose, statistically we cannot conclude that there is a difference in proportion of FIR in the Top 4 performers between the 2 franchises. "
      ],
      "metadata": {
        "id": "6vRz9sQ5tBbE"
      }
    }
  ]
}